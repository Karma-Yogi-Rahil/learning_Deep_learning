{
  "nbformat": 4,
  "nbformat_minor": 0,
  "metadata": {
    "orig_nbformat": 4,
    "language_info": {
      "name": "python",
      "version": "3.8.10",
      "mimetype": "text/x-python",
      "codemirror_mode": {
        "name": "ipython",
        "version": 3
      },
      "pygments_lexer": "ipython3",
      "nbconvert_exporter": "python",
      "file_extension": ".py"
    },
    "kernelspec": {
      "name": "python3",
      "display_name": "Python 3.8.10 64-bit ('Tensflow_m1': conda)"
    },
    "interpreter": {
      "hash": "d831c2d24441031cca94d340b013336142f7d1230b8c16f4f05968ed3e64b669"
    },
    "colab": {
      "name": "CNN_Handwritten_digit.ipynb",
      "provenance": [],
      "machine_shape": "hm"
    },
    "accelerator": "GPU"
  },
  "cells": [
    {
      "cell_type": "code",
      "metadata": {
        "id": "dRrpWSsCFcNI"
      },
      "source": [
        "import numpy as np \n",
        "import tensorflow as tf \n",
        "from tensorflow import keras \n",
        "import matplotlib.pyplot as plt \n",
        "import pandas as pd\n"
      ],
      "execution_count": 18,
      "outputs": []
    },
    {
      "cell_type": "code",
      "metadata": {
        "id": "vq5Iw7SYF833"
      },
      "source": [
        "digit_mnist = keras.datasets.mnist"
      ],
      "execution_count": 19,
      "outputs": []
    },
    {
      "cell_type": "code",
      "metadata": {
        "id": "em7Qtn9hGngu"
      },
      "source": [
        "(x_train,y_train),(x_test,y_test) = digit_mnist.load_data()"
      ],
      "execution_count": 20,
      "outputs": []
    },
    {
      "cell_type": "code",
      "metadata": {
        "id": "RpIa1QBEG8w7",
        "outputId": "7b3facba-106c-4445-d082-8db305ea5c22",
        "colab": {
          "base_uri": "https://localhost:8080/",
          "height": 711
        }
      },
      "source": [
        "figure = plt.figure(figsize=(8,12))\n",
        "row = 4 \n",
        "col = 3 \n",
        "for i in range(1,row*col+1):\n",
        "  image = x_train[i]\n",
        "  title = y_train[i]\n",
        "  figure.add_subplot(row,col,i)\n",
        "  plt.imshow(image)\n",
        "  plt.title(title,fontsize = 20,color = 'red')"
      ],
      "execution_count": 21,
      "outputs": [
        {
          "output_type": "display_data",
          "data": {
            "image/png": "[encoded data removed]",
            "text/plain": [
              "<Figure size 576x864 with 12 Axes>"
            ]
          },
          "metadata": {
            "tags": [],
            "needs_background": "light"
          }
        }
      ]
    },
    {
      "cell_type": "code",
      "metadata": {
        "id": "ufmu20UyG5xD",
        "outputId": "2b15090a-5fcb-47c7-96c2-23f988b510a1",
        "colab": {
          "base_uri": "https://localhost:8080/"
        }
      },
      "source": [
        "\n",
        "print(x_train.shape)\n",
        "print(x_test.shape)"
      ],
      "execution_count": 22,
      "outputs": [
        {
          "output_type": "stream",
          "text": [
            "(60000, 28, 28)\n",
            "(10000, 28, 28)\n"
          ],
          "name": "stdout"
        }
      ]
    },
    {
      "cell_type": "code",
      "metadata": {
        "id": "vGn-oMyJKK9a"
      },
      "source": [
        "x_train = x_train.reshape((60000,28,28,1))\n",
        "x_test = x_test.reshape((10000,28,28,1))"
      ],
      "execution_count": 23,
      "outputs": []
    },
    {
      "cell_type": "code",
      "metadata": {
        "id": "A2g4ZNGdITAo"
      },
      "source": [
        "x_train = x_train/255.\n",
        "x_test = x_test/255"
      ],
      "execution_count": 24,
      "outputs": []
    },
    {
      "cell_type": "code",
      "metadata": {
        "id": "0q66E0dkK0SE"
      },
      "source": [
        "x_train , x_valid = x_train[6000:],x_train[:6000]\n",
        "y_train , y_valid = y_train[6000:],y_train[:6000]"
      ],
      "execution_count": 25,
      "outputs": []
    },
    {
      "cell_type": "code",
      "metadata": {
        "id": "Fk0do2MdLVLT"
      },
      "source": [
        "model = keras.models.Sequential()\n",
        "model.add(keras.layers.Conv2D(filters = 32,kernel_size=(3,3),activation='relu',input_shape =(28,28,1)))\n",
        "model.add(keras.layers.MaxPool2D(2,2))\n",
        "model.add(keras.layers.Flatten())\n",
        "model.add(keras.layers.Dense(200,activation='relu' ))\n",
        "model.add(keras.layers.Dense(100,activation='relu'))\n",
        "model.add(keras.layers.Dense(10,activation='softmax'))"
      ],
      "execution_count": 26,
      "outputs": []
    },
    {
      "cell_type": "code",
      "metadata": {
        "id": "dAAXHj0gMzR5",
        "outputId": "95ca13b1-342f-4a2d-fe77-74fdfed8d3b8",
        "colab": {
          "base_uri": "https://localhost:8080/"
        }
      },
      "source": [
        "model.summary()"
      ],
      "execution_count": 27,
      "outputs": [
        {
          "output_type": "stream",
          "text": [
            "Model: \"sequential_2\"\n",
            "_________________________________________________________________\n",
            "Layer (type)                 Output Shape              Param #   \n",
            "=================================================================\n",
            "conv2d_2 (Conv2D)            (None, 26, 26, 32)        320       \n",
            "_________________________________________________________________\n",
            "max_pooling2d_1 (MaxPooling2 (None, 13, 13, 32)        0         \n",
            "_________________________________________________________________\n",
            "flatten_1 (Flatten)          (None, 5408)              0         \n",
            "_________________________________________________________________\n",
            "dense_3 (Dense)              (None, 200)               1081800   \n",
            "_________________________________________________________________\n",
            "dense_4 (Dense)              (None, 100)               20100     \n",
            "_________________________________________________________________\n",
            "dense_5 (Dense)              (None, 10)                1010      \n",
            "=================================================================\n",
            "Total params: 1,103,230\n",
            "Trainable params: 1,103,230\n",
            "Non-trainable params: 0\n",
            "_________________________________________________________________\n"
          ],
          "name": "stdout"
        }
      ]
    },
    {
      "cell_type": "code",
      "metadata": {
        "id": "NSx6U1YbM2no"
      },
      "source": [
        "model.compile(optimizer='sgd',\n",
        "                    loss = 'sparse_categorical_crossentropy',\n",
        "                    metrics = ['accuracy'])"
      ],
      "execution_count": 28,
      "outputs": []
    },
    {
      "cell_type": "code",
      "metadata": {
        "id": "5Rj7Oe5IM0lh",
        "outputId": "693e7bbe-1186-477c-867a-b94bf16ed377",
        "colab": {
          "base_uri": "https://localhost:8080/"
        }
      },
      "source": [
        "trained_model = model.fit(x_train,y_train,epochs=30,validation_data=(x_valid,y_valid))"
      ],
      "execution_count": 29,
      "outputs": [
        {
          "output_type": "stream",
          "text": [
            "Epoch 1/30\n",
            "1688/1688 [==============================] - 4s 2ms/step - loss: 0.4929 - accuracy: 0.8651 - val_loss: 0.2320 - val_accuracy: 0.9337\n",
            "Epoch 2/30\n",
            "1688/1688 [==============================] - 4s 2ms/step - loss: 0.2033 - accuracy: 0.9392 - val_loss: 0.1674 - val_accuracy: 0.9517\n",
            "Epoch 3/30\n",
            "1688/1688 [==============================] - 4s 2ms/step - loss: 0.1497 - accuracy: 0.9556 - val_loss: 0.1482 - val_accuracy: 0.9543\n",
            "Epoch 4/30\n",
            "1688/1688 [==============================] - 4s 2ms/step - loss: 0.1210 - accuracy: 0.9635 - val_loss: 0.0999 - val_accuracy: 0.9718\n",
            "Epoch 5/30\n",
            "1688/1688 [==============================] - 4s 2ms/step - loss: 0.1026 - accuracy: 0.9691 - val_loss: 0.0931 - val_accuracy: 0.9725\n",
            "Epoch 6/30\n",
            "1688/1688 [==============================] - 4s 2ms/step - loss: 0.0893 - accuracy: 0.9732 - val_loss: 0.0864 - val_accuracy: 0.9753\n",
            "Epoch 7/30\n",
            "1688/1688 [==============================] - 4s 2ms/step - loss: 0.0778 - accuracy: 0.9766 - val_loss: 0.0871 - val_accuracy: 0.9732\n",
            "Epoch 8/30\n",
            "1688/1688 [==============================] - 4s 2ms/step - loss: 0.0695 - accuracy: 0.9791 - val_loss: 0.0790 - val_accuracy: 0.9753\n",
            "Epoch 9/30\n",
            "1688/1688 [==============================] - 4s 2ms/step - loss: 0.0623 - accuracy: 0.9815 - val_loss: 0.0764 - val_accuracy: 0.9763\n",
            "Epoch 10/30\n",
            "1688/1688 [==============================] - 4s 2ms/step - loss: 0.0565 - accuracy: 0.9825 - val_loss: 0.0800 - val_accuracy: 0.9742\n",
            "Epoch 11/30\n",
            "1688/1688 [==============================] - 4s 2ms/step - loss: 0.0515 - accuracy: 0.9844 - val_loss: 0.0803 - val_accuracy: 0.9748\n",
            "Epoch 12/30\n",
            "1688/1688 [==============================] - 4s 2ms/step - loss: 0.0469 - accuracy: 0.9855 - val_loss: 0.0597 - val_accuracy: 0.9823\n",
            "Epoch 13/30\n",
            "1688/1688 [==============================] - 4s 2ms/step - loss: 0.0422 - accuracy: 0.9869 - val_loss: 0.0684 - val_accuracy: 0.9793\n",
            "Epoch 14/30\n",
            "1688/1688 [==============================] - 4s 2ms/step - loss: 0.0387 - accuracy: 0.9882 - val_loss: 0.0807 - val_accuracy: 0.9755\n",
            "Epoch 15/30\n",
            "1688/1688 [==============================] - 4s 2ms/step - loss: 0.0348 - accuracy: 0.9893 - val_loss: 0.0914 - val_accuracy: 0.9720\n",
            "Epoch 16/30\n",
            "1688/1688 [==============================] - 4s 2ms/step - loss: 0.0331 - accuracy: 0.9901 - val_loss: 0.0660 - val_accuracy: 0.9782\n",
            "Epoch 17/30\n",
            "1688/1688 [==============================] - 4s 2ms/step - loss: 0.0299 - accuracy: 0.9910 - val_loss: 0.0717 - val_accuracy: 0.9783\n",
            "Epoch 18/30\n",
            "1688/1688 [==============================] - 4s 2ms/step - loss: 0.0273 - accuracy: 0.9921 - val_loss: 0.0602 - val_accuracy: 0.9820\n",
            "Epoch 19/30\n",
            "1688/1688 [==============================] - 4s 2ms/step - loss: 0.0257 - accuracy: 0.9927 - val_loss: 0.0666 - val_accuracy: 0.9800\n",
            "Epoch 20/30\n",
            "1688/1688 [==============================] - 4s 2ms/step - loss: 0.0234 - accuracy: 0.9932 - val_loss: 0.0713 - val_accuracy: 0.9795\n",
            "Epoch 21/30\n",
            "1688/1688 [==============================] - 4s 2ms/step - loss: 0.0211 - accuracy: 0.9938 - val_loss: 0.0587 - val_accuracy: 0.9820\n",
            "Epoch 22/30\n",
            "1688/1688 [==============================] - 4s 2ms/step - loss: 0.0192 - accuracy: 0.9946 - val_loss: 0.0576 - val_accuracy: 0.9815\n",
            "Epoch 23/30\n",
            "1688/1688 [==============================] - 4s 2ms/step - loss: 0.0185 - accuracy: 0.9946 - val_loss: 0.0588 - val_accuracy: 0.9813\n",
            "Epoch 24/30\n",
            "1688/1688 [==============================] - 4s 2ms/step - loss: 0.0165 - accuracy: 0.9954 - val_loss: 0.0637 - val_accuracy: 0.9817\n",
            "Epoch 25/30\n",
            "1688/1688 [==============================] - 4s 2ms/step - loss: 0.0149 - accuracy: 0.9960 - val_loss: 0.0618 - val_accuracy: 0.9833\n",
            "Epoch 26/30\n",
            "1688/1688 [==============================] - 4s 2ms/step - loss: 0.0138 - accuracy: 0.9964 - val_loss: 0.0667 - val_accuracy: 0.9808\n",
            "Epoch 27/30\n",
            "1688/1688 [==============================] - 4s 2ms/step - loss: 0.0125 - accuracy: 0.9966 - val_loss: 0.0633 - val_accuracy: 0.9817\n",
            "Epoch 28/30\n",
            "1688/1688 [==============================] - 4s 2ms/step - loss: 0.0115 - accuracy: 0.9971 - val_loss: 0.0558 - val_accuracy: 0.9850\n",
            "Epoch 29/30\n",
            "1688/1688 [==============================] - 4s 2ms/step - loss: 0.0110 - accuracy: 0.9972 - val_loss: 0.0571 - val_accuracy: 0.9845\n",
            "Epoch 30/30\n",
            "1688/1688 [==============================] - 4s 2ms/step - loss: 0.0095 - accuracy: 0.9978 - val_loss: 0.0635 - val_accuracy: 0.9830\n"
          ],
          "name": "stdout"
        }
      ]
    },
    {
      "cell_type": "code",
      "metadata": {
        "id": "IeP1rbDLN5GI",
        "outputId": "52d8486d-8a72-41f7-b457-118df148a212",
        "colab": {
          "base_uri": "https://localhost:8080/",
          "height": 282
        }
      },
      "source": [
        "pd.DataFrame(trained_model.history).plot()"
      ],
      "execution_count": 44,
      "outputs": [
        {
          "output_type": "execute_result",
          "data": {
            "text/plain": [
              "<matplotlib.axes._subplots.AxesSubplot at 0x7f62fbac5650>"
            ]
          },
          "metadata": {
            "tags": []
          },
          "execution_count": 44
        },
        {
          "output_type": "display_data",
          "data": {
            "image/png": "[encoded data removed]",
            "text/plain": [
              "<Figure size 432x288 with 1 Axes>"
            ]
          },
          "metadata": {
            "tags": [],
            "needs_background": "light"
          }
        }
      ]
    },
    {
      "cell_type": "code",
      "metadata": {
        "id": "2tr8Z12yP8Oo",
        "outputId": "a4204517-a669-4191-f51b-6aa2e5cf93b7",
        "colab": {
          "base_uri": "https://localhost:8080/"
        }
      },
      "source": [
        "model.evaluate(x_test,y_test)"
      ],
      "execution_count": 46,
      "outputs": [
        {
          "output_type": "stream",
          "text": [
            "313/313 [==============================] - 1s 2ms/step - loss: 0.0572 - accuracy: 0.9842\n"
          ],
          "name": "stdout"
        },
        {
          "output_type": "execute_result",
          "data": {
            "text/plain": [
              "[0.0571855790913105, 0.9842000007629395]"
            ]
          },
          "metadata": {
            "tags": []
          },
          "execution_count": 46
        }
      ]
    },
    {
      "cell_type": "code",
      "metadata": {
        "id": "csl9ogS7OLmx"
      },
      "source": [
        "model_b = keras.models.Sequential()\n",
        "model_b.add(keras.layers.Conv2D(filters = 64,kernel_size=(3,3),activation='relu',input_shape =(28,28,1)))\n",
        "model_b.add(keras.layers.MaxPool2D(2,2))\n",
        "model_b.add(keras.layers.Flatten())\n",
        "model_b.add(keras.layers.Dense(200,activation='relu' ))\n",
        "model_b.add(keras.layers.Dense(100,activation='relu'))\n",
        "model_b.add(keras.layers.Dense(10,activation='softmax'))"
      ],
      "execution_count": 38,
      "outputs": []
    },
    {
      "cell_type": "code",
      "metadata": {
        "id": "gSkn_gw0PX1Q",
        "outputId": "d4f21dfb-a7c1-41b2-b553-c557838e19c1",
        "colab": {
          "base_uri": "https://localhost:8080/"
        }
      },
      "source": [
        "model.summary()"
      ],
      "execution_count": 39,
      "outputs": [
        {
          "output_type": "stream",
          "text": [
            "Model: \"sequential_2\"\n",
            "_________________________________________________________________\n",
            "Layer (type)                 Output Shape              Param #   \n",
            "=================================================================\n",
            "conv2d_2 (Conv2D)            (None, 26, 26, 32)        320       \n",
            "_________________________________________________________________\n",
            "max_pooling2d_1 (MaxPooling2 (None, 13, 13, 32)        0         \n",
            "_________________________________________________________________\n",
            "flatten_1 (Flatten)          (None, 5408)              0         \n",
            "_________________________________________________________________\n",
            "dense_3 (Dense)              (None, 200)               1081800   \n",
            "_________________________________________________________________\n",
            "dense_4 (Dense)              (None, 100)               20100     \n",
            "_________________________________________________________________\n",
            "dense_5 (Dense)              (None, 10)                1010      \n",
            "=================================================================\n",
            "Total params: 1,103,230\n",
            "Trainable params: 1,103,230\n",
            "Non-trainable params: 0\n",
            "_________________________________________________________________\n"
          ],
          "name": "stdout"
        }
      ]
    },
    {
      "cell_type": "code",
      "metadata": {
        "id": "ARol6aTXPeAJ"
      },
      "source": [
        "model_b.compile(optimizer='sgd',\n",
        "                    loss = 'sparse_categorical_crossentropy',\n",
        "                    metrics = ['accuracy'])"
      ],
      "execution_count": 42,
      "outputs": []
    },
    {
      "cell_type": "code",
      "metadata": {
        "id": "HLiFKv9zPgGR",
        "outputId": "577b2366-eebd-4ee6-8f49-93a479c9b8bc",
        "colab": {
          "base_uri": "https://localhost:8080/"
        }
      },
      "source": [
        "trained_model_b = model_b.fit(x_train,y_train,epochs=30,validation_data=(x_valid,y_valid))"
      ],
      "execution_count": 43,
      "outputs": [
        {
          "output_type": "stream",
          "text": [
            "Epoch 1/30\n",
            "1688/1688 [==============================] - 4s 2ms/step - loss: 0.5095 - accuracy: 0.8654 - val_loss: 0.2507 - val_accuracy: 0.9285\n",
            "Epoch 2/30\n",
            "1688/1688 [==============================] - 4s 2ms/step - loss: 0.2006 - accuracy: 0.9392 - val_loss: 0.1523 - val_accuracy: 0.9572\n",
            "Epoch 3/30\n",
            "1688/1688 [==============================] - 4s 2ms/step - loss: 0.1482 - accuracy: 0.9562 - val_loss: 0.1156 - val_accuracy: 0.9665\n",
            "Epoch 4/30\n",
            "1688/1688 [==============================] - 4s 2ms/step - loss: 0.1196 - accuracy: 0.9637 - val_loss: 0.1050 - val_accuracy: 0.9682\n",
            "Epoch 5/30\n",
            "1688/1688 [==============================] - 4s 2ms/step - loss: 0.1006 - accuracy: 0.9688 - val_loss: 0.1338 - val_accuracy: 0.9557\n",
            "Epoch 6/30\n",
            "1688/1688 [==============================] - 4s 2ms/step - loss: 0.0863 - accuracy: 0.9729 - val_loss: 0.0831 - val_accuracy: 0.9753\n",
            "Epoch 7/30\n",
            "1688/1688 [==============================] - 4s 2ms/step - loss: 0.0759 - accuracy: 0.9770 - val_loss: 0.0787 - val_accuracy: 0.9768\n",
            "Epoch 8/30\n",
            "1688/1688 [==============================] - 4s 2ms/step - loss: 0.0668 - accuracy: 0.9799 - val_loss: 0.0759 - val_accuracy: 0.9770\n",
            "Epoch 9/30\n",
            "1688/1688 [==============================] - 4s 2ms/step - loss: 0.0607 - accuracy: 0.9816 - val_loss: 0.0719 - val_accuracy: 0.9775\n",
            "Epoch 10/30\n",
            "1688/1688 [==============================] - 4s 2ms/step - loss: 0.0549 - accuracy: 0.9832 - val_loss: 0.0715 - val_accuracy: 0.9780\n",
            "Epoch 11/30\n",
            "1688/1688 [==============================] - 4s 2ms/step - loss: 0.0496 - accuracy: 0.9843 - val_loss: 0.0636 - val_accuracy: 0.9805\n",
            "Epoch 12/30\n",
            "1688/1688 [==============================] - 4s 2ms/step - loss: 0.0451 - accuracy: 0.9858 - val_loss: 0.0657 - val_accuracy: 0.9797\n",
            "Epoch 13/30\n",
            "1688/1688 [==============================] - 4s 2ms/step - loss: 0.0423 - accuracy: 0.9866 - val_loss: 0.0600 - val_accuracy: 0.9827\n",
            "Epoch 14/30\n",
            "1688/1688 [==============================] - 4s 2ms/step - loss: 0.0373 - accuracy: 0.9890 - val_loss: 0.0600 - val_accuracy: 0.9810\n",
            "Epoch 15/30\n",
            "1688/1688 [==============================] - 4s 2ms/step - loss: 0.0348 - accuracy: 0.9897 - val_loss: 0.0628 - val_accuracy: 0.9810\n",
            "Epoch 16/30\n",
            "1688/1688 [==============================] - 4s 2ms/step - loss: 0.0330 - accuracy: 0.9900 - val_loss: 0.0591 - val_accuracy: 0.9818\n",
            "Epoch 17/30\n",
            "1688/1688 [==============================] - 4s 2ms/step - loss: 0.0299 - accuracy: 0.9911 - val_loss: 0.0572 - val_accuracy: 0.9825\n",
            "Epoch 18/30\n",
            "1688/1688 [==============================] - 4s 2ms/step - loss: 0.0273 - accuracy: 0.9919 - val_loss: 0.0577 - val_accuracy: 0.9838\n",
            "Epoch 19/30\n",
            "1688/1688 [==============================] - 4s 2ms/step - loss: 0.0250 - accuracy: 0.9928 - val_loss: 0.0620 - val_accuracy: 0.9810\n",
            "Epoch 20/30\n",
            "1688/1688 [==============================] - 4s 2ms/step - loss: 0.0230 - accuracy: 0.9926 - val_loss: 0.0624 - val_accuracy: 0.9805\n",
            "Epoch 21/30\n",
            "1688/1688 [==============================] - 4s 2ms/step - loss: 0.0221 - accuracy: 0.9934 - val_loss: 0.0596 - val_accuracy: 0.9822\n",
            "Epoch 22/30\n",
            "1688/1688 [==============================] - 4s 2ms/step - loss: 0.0202 - accuracy: 0.9940 - val_loss: 0.0603 - val_accuracy: 0.9825\n",
            "Epoch 23/30\n",
            "1688/1688 [==============================] - 4s 2ms/step - loss: 0.0174 - accuracy: 0.9951 - val_loss: 0.0642 - val_accuracy: 0.9842\n",
            "Epoch 24/30\n",
            "1688/1688 [==============================] - 4s 2ms/step - loss: 0.0165 - accuracy: 0.9955 - val_loss: 0.0658 - val_accuracy: 0.9795\n",
            "Epoch 25/30\n",
            "1688/1688 [==============================] - 4s 2ms/step - loss: 0.0162 - accuracy: 0.9953 - val_loss: 0.0556 - val_accuracy: 0.9845\n",
            "Epoch 26/30\n",
            "1688/1688 [==============================] - 4s 2ms/step - loss: 0.0134 - accuracy: 0.9963 - val_loss: 0.0588 - val_accuracy: 0.9847\n",
            "Epoch 27/30\n",
            "1688/1688 [==============================] - 4s 2ms/step - loss: 0.0131 - accuracy: 0.9965 - val_loss: 0.0527 - val_accuracy: 0.9832\n",
            "Epoch 28/30\n",
            "1688/1688 [==============================] - 4s 2ms/step - loss: 0.0120 - accuracy: 0.9969 - val_loss: 0.0627 - val_accuracy: 0.9833\n",
            "Epoch 29/30\n",
            "1688/1688 [==============================] - 4s 2ms/step - loss: 0.0103 - accuracy: 0.9977 - val_loss: 0.0576 - val_accuracy: 0.9843\n",
            "Epoch 30/30\n",
            "1688/1688 [==============================] - 4s 2ms/step - loss: 0.0092 - accuracy: 0.9979 - val_loss: 0.0561 - val_accuracy: 0.9843\n"
          ],
          "name": "stdout"
        }
      ]
    },
    {
      "cell_type": "code",
      "metadata": {
        "id": "xGLO7Gn_QMxw",
        "outputId": "9d244f80-c098-4b40-ce08-0abae66a4288",
        "colab": {
          "base_uri": "https://localhost:8080/"
        }
      },
      "source": [
        "model_b.evaluate(x_test,y_test)"
      ],
      "execution_count": 47,
      "outputs": [
        {
          "output_type": "stream",
          "text": [
            "313/313 [==============================] - 1s 2ms/step - loss: 0.0505 - accuracy: 0.9856\n"
          ],
          "name": "stdout"
        },
        {
          "output_type": "execute_result",
          "data": {
            "text/plain": [
              "[0.05046050250530243, 0.9855999946594238]"
            ]
          },
          "metadata": {
            "tags": []
          },
          "execution_count": 47
        }
      ]
    }
  ]
}