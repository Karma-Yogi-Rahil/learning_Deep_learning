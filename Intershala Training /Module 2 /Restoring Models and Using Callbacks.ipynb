{
  "nbformat": 4,
  "nbformat_minor": 0,
  "metadata": {
    "orig_nbformat": 4,
    "language_info": {
      "name": "python",
      "version": "3.8.10",
      "mimetype": "text/x-python",
      "codemirror_mode": {
        "name": "ipython",
        "version": 3
      },
      "pygments_lexer": "ipython3",
      "nbconvert_exporter": "python",
      "file_extension": ".py"
    },
    "kernelspec": {
      "name": "python3",
      "display_name": "Python 3.8.10 64-bit ('Tensflow_m1': conda)"
    },
    "interpreter": {
      "hash": "d831c2d24441031cca94d340b013336142f7d1230b8c16f4f05968ed3e64b669"
    },
    "colab": {
      "name": "Restoring Models and Using Callbacks.ipynb",
      "provenance": []
    }
  },
  "cells": [
    {
      "cell_type": "code",
      "metadata": {
        "id": "yOB9zO1Crpsy"
      },
      "source": [
        "import tensorflow as tf \n",
        "from tensorflow import keras \n",
        "import keras.models  as  km"
      ],
      "execution_count": 10,
      "outputs": []
    },
    {
      "cell_type": "code",
      "metadata": {
        "id": "Dwe_AGCbChnb"
      },
      "source": [
        ""
      ],
      "execution_count": null,
      "outputs": []
    },
    {
      "cell_type": "markdown",
      "metadata": {
        "id": "kUx6Ad-pCiLD"
      },
      "source": [
        "## Save and Load model "
      ]
    },
    {
      "cell_type": "code",
      "metadata": {
        "id": "o_sa0yC-rpsz",
        "outputId": "97eb14f6-aabe-405a-df67-54cba1e91cdb",
        "colab": {
          "base_uri": "https://localhost:8080/",
          "height": 37
        }
      },
      "source": [
        "#model_name.save('where to save')\n",
        "'''model.save()'''"
      ],
      "execution_count": 3,
      "outputs": [
        {
          "output_type": "execute_result",
          "data": {
            "application/vnd.google.colaboratory.intrinsic+json": {
              "type": "string"
            },
            "text/plain": [
              "'model.save()'"
            ]
          },
          "metadata": {
            "tags": []
          },
          "execution_count": 3
        }
      ]
    },
    {
      "cell_type": "code",
      "metadata": {
        "id": "ppqJIBK5sbOX",
        "outputId": "d68edea7-4d77-4a15-cd0c-002fdde0d823",
        "colab": {
          "base_uri": "https://localhost:8080/",
          "height": 37
        }
      },
      "source": [
        "# loaded model name  = keras.model.load_model('\"Source file \")\n",
        "model = km.load_model('')"
      ],
      "execution_count": 14,
      "outputs": [
        {
          "output_type": "execute_result",
          "data": {
            "application/vnd.google.colaboratory.intrinsic+json": {
              "type": "string"
            },
            "text/plain": [
              "\"model = km.load_model('')\""
            ]
          },
          "metadata": {
            "tags": []
          },
          "execution_count": 14
        }
      ]
    },
    {
      "cell_type": "markdown",
      "metadata": {
        "id": "d7-4fVb3BRLv"
      },
      "source": [
        "## If you want to save all the epoch as model "
      ]
    },
    {
      "cell_type": "code",
      "metadata": {
        "id": "6p1wGMzRBZIR",
        "outputId": "d1496703-7cab-4364-cb40-1c002524b712",
        "colab": {
          "base_uri": "https://localhost:8080/",
          "height": 37
        }
      },
      "source": [
        "checkpoint_cb = keras.callbacks.ModelCheckpoint(\"Model-{epoch:02d}.h5\")"
      ],
      "execution_count": 15,
      "outputs": [
        {
          "output_type": "execute_result",
          "data": {
            "application/vnd.google.colaboratory.intrinsic+json": {
              "type": "string"
            },
            "text/plain": [
              "'checkpoint_cb = keras.callbacks.ModelCheckpoint(\"Model-{epoch:02d}.h5\")'"
            ]
          },
          "metadata": {
            "tags": []
          },
          "execution_count": 15
        }
      ]
    },
    {
      "cell_type": "code",
      "metadata": {
        "id": "cMQsYltnBd7E"
      },
      "source": [
        "history = model.fit(X_train, y_train, epochs=10,\n",
        "                    validation_data=(X_valid, y_valid),\n",
        "                    \n",
        "                    callbacks=[checkpoint_cb])"
      ],
      "execution_count": null,
      "outputs": []
    },
    {
      "cell_type": "markdown",
      "metadata": {
        "id": "Ebz-alijBn0v"
      },
      "source": [
        "## If you want to save the best of best "
      ]
    },
    {
      "cell_type": "code",
      "metadata": {
        "id": "edcNLTU0By9y"
      },
      "source": [
        "checkpoint_cb = keras.callbacks.ModelCheckpoint(\"Best_Model.h5\", save_best_only=True)"
      ],
      "execution_count": null,
      "outputs": []
    },
    {
      "cell_type": "code",
      "metadata": {
        "id": "PYJ3PkEeB3f1"
      },
      "source": [
        "history = model.fit(X_train, y_train, epochs=10,\n",
        "                    validation_data=(X_valid, y_valid),\n",
        "                    callbacks=[checkpoint_cb])"
      ],
      "execution_count": null,
      "outputs": []
    },
    {
      "cell_type": "markdown",
      "metadata": {
        "id": "kaJuvBiLCKnw"
      },
      "source": [
        "## If the model is not improving and no need to train more and want to save the best \n"
      ]
    },
    {
      "cell_type": "code",
      "metadata": {
        "id": "Lus5pAKCCZ4A"
      },
      "source": [
        "checkpoint_cb = keras.callbacks.ModelCheckpoint(\"early_stop_model.h5\", save_best_only=True)"
      ],
      "execution_count": null,
      "outputs": []
    },
    {
      "cell_type": "code",
      "metadata": {
        "id": "CZGjCeUiCcz2"
      },
      "source": [
        "early_stopping_cb = keras.callbacks.EarlyStopping(patience=10,\n",
        "                                                  restore_best_weights=True)\n",
        "\n",
        "#     patience: Number of epochs with no improvement after which training will be stopped."
      ],
      "execution_count": null,
      "outputs": []
    },
    {
      "cell_type": "code",
      "metadata": {
        "id": "sSUGka5KCfpu"
      },
      "source": [
        "history = model.fit(X_train, y_train, epochs=200,\n",
        "                    validation_data=(X_valid, y_valid),\n",
        "                    callbacks=[checkpoint_cb, early_stopping_cb])"
      ],
      "execution_count": null,
      "outputs": []
    }
  ]
}