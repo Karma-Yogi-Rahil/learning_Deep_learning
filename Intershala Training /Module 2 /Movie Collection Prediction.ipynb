{
  "nbformat": 4,
  "nbformat_minor": 0,
  "metadata": {
    "orig_nbformat": 4,
    "language_info": {
      "name": "python",
      "version": "3.8.10",
      "mimetype": "text/x-python",
      "codemirror_mode": {
        "name": "ipython",
        "version": 3
      },
      "pygments_lexer": "ipython3",
      "nbconvert_exporter": "python",
      "file_extension": ".py"
    },
    "kernelspec": {
      "name": "python3",
      "display_name": "Python 3.8.10 64-bit ('Tensflow_m1': conda)"
    },
    "interpreter": {
      "hash": "d831c2d24441031cca94d340b013336142f7d1230b8c16f4f05968ed3e64b669"
    },
    "colab": {
      "name": "Movie Collection Prediction.ipynb",
      "provenance": []
    }
  },
  "cells": [
    {
      "cell_type": "markdown",
      "metadata": {
        "id": "owKX5Ujix66E"
      },
      "source": [
        "## Importing the libraries "
      ]
    },
    {
      "cell_type": "code",
      "metadata": {
        "id": "yphd0iW_x6Lq"
      },
      "source": [
        "import pandas as pd \n",
        "import numpy as np \n",
        "import tensorflow as tf\n",
        "from tensorflow import keras \n",
        "import matplotlib.pyplot as plt\n"
      ],
      "execution_count": 62,
      "outputs": []
    },
    {
      "cell_type": "markdown",
      "metadata": {
        "id": "7KLH2-qbzYep"
      },
      "source": [
        "## Importing thee dataset "
      ]
    },
    {
      "cell_type": "code",
      "metadata": {
        "id": "gV5m8kZryOUL"
      },
      "source": [
        "independent = pd.read_csv('/content/Movie_collection_Independent.csv')\n",
        "target = pd.read_csv('/content/Movie_collection_Target.csv')"
      ],
      "execution_count": 63,
      "outputs": []
    },
    {
      "cell_type": "markdown",
      "metadata": {
        "id": "iF-LelZzzyal"
      },
      "source": [
        "### Understanding the dataset"
      ]
    },
    {
      "cell_type": "code",
      "metadata": {
        "id": "UtoAJr_8ylGf",
        "outputId": "65b440b3-9e82-49ce-fe0f-d76969f359f9",
        "colab": {
          "base_uri": "https://localhost:8080/",
          "height": 258
        }
      },
      "source": [
        "print(independent.shape)\n",
        "independent.head()"
      ],
      "execution_count": 64,
      "outputs": [
        {
          "output_type": "stream",
          "text": [
            "(506, 19)\n"
          ],
          "name": "stdout"
        },
        {
          "output_type": "execute_result",
          "data": {
            "text/html": [
              "<div>\n",
              "<style scoped>\n",
              "    .dataframe tbody tr th:only-of-type {\n",
              "        vertical-align: middle;\n",
              "    }\n",
              "\n",
              "    .dataframe tbody tr th {\n",
              "        vertical-align: top;\n",
              "    }\n",
              "\n",
              "    .dataframe thead th {\n",
              "        text-align: right;\n",
              "    }\n",
              "</style>\n",
              "<table border=\"1\" class=\"dataframe\">\n",
              "  <thead>\n",
              "    <tr style=\"text-align: right;\">\n",
              "      <th></th>\n",
              "      <th>Marketin_expense</th>\n",
              "      <th>Production_expense</th>\n",
              "      <th>Multiplex_coverage</th>\n",
              "      <th>Budget</th>\n",
              "      <th>Movie_length</th>\n",
              "      <th>Lead_ Actor_Rating</th>\n",
              "      <th>Lead_Actress_rating</th>\n",
              "      <th>Director_rating</th>\n",
              "      <th>Producer_rating</th>\n",
              "      <th>Critic_rating</th>\n",
              "      <th>Trailer_views</th>\n",
              "      <th>Time_taken</th>\n",
              "      <th>Twitter_hastags</th>\n",
              "      <th>Avg_age_actors</th>\n",
              "      <th>Num_multiplex</th>\n",
              "      <th>3D_available</th>\n",
              "      <th>Genre_Thriller</th>\n",
              "      <th>Genre_Drama</th>\n",
              "      <th>Genre_Comedy</th>\n",
              "    </tr>\n",
              "  </thead>\n",
              "  <tbody>\n",
              "    <tr>\n",
              "      <th>0</th>\n",
              "      <td>20.1264</td>\n",
              "      <td>59.62</td>\n",
              "      <td>0.462</td>\n",
              "      <td>36524.125</td>\n",
              "      <td>138.7</td>\n",
              "      <td>7.825</td>\n",
              "      <td>8.095</td>\n",
              "      <td>7.910</td>\n",
              "      <td>7.995</td>\n",
              "      <td>7.94</td>\n",
              "      <td>527367</td>\n",
              "      <td>109.60</td>\n",
              "      <td>223.840</td>\n",
              "      <td>23</td>\n",
              "      <td>494</td>\n",
              "      <td>1</td>\n",
              "      <td>1</td>\n",
              "      <td>0</td>\n",
              "      <td>0</td>\n",
              "    </tr>\n",
              "    <tr>\n",
              "      <th>1</th>\n",
              "      <td>20.5462</td>\n",
              "      <td>69.14</td>\n",
              "      <td>0.531</td>\n",
              "      <td>35668.655</td>\n",
              "      <td>152.4</td>\n",
              "      <td>7.505</td>\n",
              "      <td>7.650</td>\n",
              "      <td>7.440</td>\n",
              "      <td>7.470</td>\n",
              "      <td>7.44</td>\n",
              "      <td>494055</td>\n",
              "      <td>146.64</td>\n",
              "      <td>243.456</td>\n",
              "      <td>42</td>\n",
              "      <td>462</td>\n",
              "      <td>0</td>\n",
              "      <td>0</td>\n",
              "      <td>1</td>\n",
              "      <td>0</td>\n",
              "    </tr>\n",
              "    <tr>\n",
              "      <th>2</th>\n",
              "      <td>20.5458</td>\n",
              "      <td>69.14</td>\n",
              "      <td>0.531</td>\n",
              "      <td>39912.675</td>\n",
              "      <td>134.6</td>\n",
              "      <td>7.485</td>\n",
              "      <td>7.570</td>\n",
              "      <td>7.495</td>\n",
              "      <td>7.515</td>\n",
              "      <td>7.44</td>\n",
              "      <td>547051</td>\n",
              "      <td>147.88</td>\n",
              "      <td>2022.400</td>\n",
              "      <td>38</td>\n",
              "      <td>458</td>\n",
              "      <td>0</td>\n",
              "      <td>0</td>\n",
              "      <td>0</td>\n",
              "      <td>1</td>\n",
              "    </tr>\n",
              "    <tr>\n",
              "      <th>3</th>\n",
              "      <td>20.6474</td>\n",
              "      <td>59.36</td>\n",
              "      <td>0.542</td>\n",
              "      <td>38873.890</td>\n",
              "      <td>119.3</td>\n",
              "      <td>6.895</td>\n",
              "      <td>7.035</td>\n",
              "      <td>6.920</td>\n",
              "      <td>7.020</td>\n",
              "      <td>8.26</td>\n",
              "      <td>516279</td>\n",
              "      <td>185.36</td>\n",
              "      <td>225.344</td>\n",
              "      <td>45</td>\n",
              "      <td>472</td>\n",
              "      <td>1</td>\n",
              "      <td>0</td>\n",
              "      <td>1</td>\n",
              "      <td>0</td>\n",
              "    </tr>\n",
              "    <tr>\n",
              "      <th>4</th>\n",
              "      <td>21.3810</td>\n",
              "      <td>59.36</td>\n",
              "      <td>0.542</td>\n",
              "      <td>39701.585</td>\n",
              "      <td>127.7</td>\n",
              "      <td>6.920</td>\n",
              "      <td>7.070</td>\n",
              "      <td>6.815</td>\n",
              "      <td>7.070</td>\n",
              "      <td>8.26</td>\n",
              "      <td>531448</td>\n",
              "      <td>176.48</td>\n",
              "      <td>225.792</td>\n",
              "      <td>55</td>\n",
              "      <td>395</td>\n",
              "      <td>0</td>\n",
              "      <td>0</td>\n",
              "      <td>1</td>\n",
              "      <td>0</td>\n",
              "    </tr>\n",
              "  </tbody>\n",
              "</table>\n",
              "</div>"
            ],
            "text/plain": [
              "   Marketin_expense  Production_expense  ...  Genre_Drama  Genre_Comedy\n",
              "0           20.1264               59.62  ...            0             0\n",
              "1           20.5462               69.14  ...            1             0\n",
              "2           20.5458               69.14  ...            0             1\n",
              "3           20.6474               59.36  ...            1             0\n",
              "4           21.3810               59.36  ...            1             0\n",
              "\n",
              "[5 rows x 19 columns]"
            ]
          },
          "metadata": {
            "tags": []
          },
          "execution_count": 64
        }
      ]
    },
    {
      "cell_type": "code",
      "metadata": {
        "id": "-rXXFILNy2Z_",
        "outputId": "4e773a51-0938-4119-ecb9-3f7e0499fb0f",
        "colab": {
          "base_uri": "https://localhost:8080/",
          "height": 221
        }
      },
      "source": [
        "print(target.shape)\n",
        "target.head()"
      ],
      "execution_count": 65,
      "outputs": [
        {
          "output_type": "stream",
          "text": [
            "(506, 1)\n"
          ],
          "name": "stdout"
        },
        {
          "output_type": "execute_result",
          "data": {
            "text/html": [
              "<div>\n",
              "<style scoped>\n",
              "    .dataframe tbody tr th:only-of-type {\n",
              "        vertical-align: middle;\n",
              "    }\n",
              "\n",
              "    .dataframe tbody tr th {\n",
              "        vertical-align: top;\n",
              "    }\n",
              "\n",
              "    .dataframe thead th {\n",
              "        text-align: right;\n",
              "    }\n",
              "</style>\n",
              "<table border=\"1\" class=\"dataframe\">\n",
              "  <thead>\n",
              "    <tr style=\"text-align: right;\">\n",
              "      <th></th>\n",
              "      <th>Collection</th>\n",
              "    </tr>\n",
              "  </thead>\n",
              "  <tbody>\n",
              "    <tr>\n",
              "      <th>0</th>\n",
              "      <td>2.266667</td>\n",
              "    </tr>\n",
              "    <tr>\n",
              "      <th>1</th>\n",
              "      <td>2.106667</td>\n",
              "    </tr>\n",
              "    <tr>\n",
              "      <th>2</th>\n",
              "      <td>2.980000</td>\n",
              "    </tr>\n",
              "    <tr>\n",
              "      <th>3</th>\n",
              "      <td>2.893333</td>\n",
              "    </tr>\n",
              "    <tr>\n",
              "      <th>4</th>\n",
              "      <td>3.080000</td>\n",
              "    </tr>\n",
              "  </tbody>\n",
              "</table>\n",
              "</div>"
            ],
            "text/plain": [
              "   Collection\n",
              "0    2.266667\n",
              "1    2.106667\n",
              "2    2.980000\n",
              "3    2.893333\n",
              "4    3.080000"
            ]
          },
          "metadata": {
            "tags": []
          },
          "execution_count": 65
        }
      ]
    },
    {
      "cell_type": "markdown",
      "metadata": {
        "id": "PlwsJDVi93kp"
      },
      "source": [
        "## Spliting the data in train and test "
      ]
    },
    {
      "cell_type": "code",
      "metadata": {
        "id": "FS0RFGICy3-k"
      },
      "source": [
        "from sklearn.model_selection import train_test_split"
      ],
      "execution_count": 66,
      "outputs": []
    },
    {
      "cell_type": "code",
      "metadata": {
        "id": "-UK77PSE07fp"
      },
      "source": [
        "x_train , x_test = train_test_split(independent,random_state=42)\n",
        "y_train , y_test = train_test_split(target,random_state=42)"
      ],
      "execution_count": 67,
      "outputs": []
    },
    {
      "cell_type": "markdown",
      "metadata": {
        "id": "rtBT-0Uh-oD8"
      },
      "source": [
        "output of the shape of splited data "
      ]
    },
    {
      "cell_type": "code",
      "metadata": {
        "id": "jfMAYa7s1VMb",
        "outputId": "a2011750-fe50-4e14-c5f1-e7ae3907a679",
        "colab": {
          "base_uri": "https://localhost:8080/"
        }
      },
      "source": [
        "print(\"shape of x_train:\",x_train.shape)\n",
        "print(\"shape of y_train:\",y_train.shape)\n",
        "print(\"shape of x_test:\",x_test.shape)\n",
        "print(\"shape of y_test:\",y_test.shape)"
      ],
      "execution_count": 95,
      "outputs": [
        {
          "output_type": "stream",
          "text": [
            "shape of x_train: (284, 19)\n",
            "shape of y_train: (284, 1)\n",
            "shape of x_test: (127, 19)\n",
            "shape of y_test: (127, 1)\n"
          ],
          "name": "stdout"
        }
      ]
    },
    {
      "cell_type": "markdown",
      "metadata": {
        "id": "R9_g2Kby9_HK"
      },
      "source": [
        "#### Spliting the train data in to train and validate "
      ]
    },
    {
      "cell_type": "code",
      "metadata": {
        "id": "n5qcH3oo2Hac"
      },
      "source": [
        "x_train ,x_valid = train_test_split(x_train,random_state= 42)\n",
        "y_train , y_valid = train_test_split(y_train, random_state =42) "
      ],
      "execution_count": 69,
      "outputs": []
    },
    {
      "cell_type": "code",
      "metadata": {
        "id": "EYwHMCdj2nlw",
        "outputId": "ef1dfa6b-130f-4709-9c31-cfca4524b62d",
        "colab": {
          "base_uri": "https://localhost:8080/"
        }
      },
      "source": [
        "print(\"shape of x_train:\",x_train.shape)\n",
        "print(\"shape of y_train:\",y_train.shape)\n",
        "print(\"shape of x_valid:\",x_valid.shape)\n",
        "print(\"shape of y_valid:\",y_valid.shape)"
      ],
      "execution_count": 94,
      "outputs": [
        {
          "output_type": "stream",
          "text": [
            "shape of x_train: (284, 19)\n",
            "shape of y_train: (284, 1)\n",
            "shape of x_valid: (95, 19)\n",
            "shape of y_valid: (95, 1)\n"
          ],
          "name": "stdout"
        }
      ]
    },
    {
      "cell_type": "markdown",
      "metadata": {
        "id": "UxT-ooPl_cFB"
      },
      "source": [
        "## Standardising the data"
      ]
    },
    {
      "cell_type": "code",
      "metadata": {
        "id": "QOIlqNcQ1ZtS"
      },
      "source": [
        "from sklearn.preprocessing import StandardScaler"
      ],
      "execution_count": 71,
      "outputs": []
    },
    {
      "cell_type": "code",
      "metadata": {
        "id": "Rakhv8PF2E_w"
      },
      "source": [
        "scaller = StandardScaler()\n",
        "x_train = scaller.fit_transform(x_train)\n",
        "x_valid = scaller.transform(x_valid)\n",
        "x_test = scaller.transform(x_test)"
      ],
      "execution_count": 72,
      "outputs": []
    },
    {
      "cell_type": "code",
      "metadata": {
        "id": "M05qToWE3dhe"
      },
      "source": [
        "np.random.seed(42)\n",
        "tf.random.set_seed(42)"
      ],
      "execution_count": 73,
      "outputs": []
    },
    {
      "cell_type": "markdown",
      "metadata": {
        "id": "mmTJLiSK8qM-"
      },
      "source": [
        "## Buliding the model "
      ]
    },
    {
      "cell_type": "code",
      "metadata": {
        "id": "ZpVPlRIu3j-U"
      },
      "source": [
        "model =  keras.Sequential()\n",
        "model.add(keras.layers.Dense(30,activation='relu',input_shape = [19]))\n",
        "model.add(keras.layers.Dense(30,activation='relu'))\n",
        "model.add(keras.layers.Dense(1))"
      ],
      "execution_count": 74,
      "outputs": []
    },
    {
      "cell_type": "code",
      "metadata": {
        "id": "7LfxuiB-4y84",
        "outputId": "b370cc45-987d-416c-9999-0e607ac00c24",
        "colab": {
          "base_uri": "https://localhost:8080/"
        }
      },
      "source": [
        "model.summary()"
      ],
      "execution_count": 75,
      "outputs": [
        {
          "output_type": "stream",
          "text": [
            "Model: \"sequential_3\"\n",
            "_________________________________________________________________\n",
            "Layer (type)                 Output Shape              Param #   \n",
            "=================================================================\n",
            "dense_9 (Dense)              (None, 30)                600       \n",
            "_________________________________________________________________\n",
            "dense_10 (Dense)             (None, 30)                930       \n",
            "_________________________________________________________________\n",
            "dense_11 (Dense)             (None, 1)                 31        \n",
            "=================================================================\n",
            "Total params: 1,561\n",
            "Trainable params: 1,561\n",
            "Non-trainable params: 0\n",
            "_________________________________________________________________\n"
          ],
          "name": "stdout"
        }
      ]
    },
    {
      "cell_type": "code",
      "metadata": {
        "id": "RXUGJOTE43Aw"
      },
      "source": [
        "model.compile(optimizer= keras.optimizers.SGD(learning_rate=1e-2),\n",
        "              loss = 'mean_squared_error',\n",
        "              metrics =['mae'])"
      ],
      "execution_count": 76,
      "outputs": []
    },
    {
      "cell_type": "markdown",
      "metadata": {
        "id": "DjjtWbyF8mgu"
      },
      "source": [
        "## Training the model "
      ]
    },
    {
      "cell_type": "code",
      "metadata": {
        "id": "DW1OEGho40eE",
        "outputId": "182d1f83-6a92-4a05-a9fb-8b529ed15405",
        "colab": {
          "base_uri": "https://localhost:8080/"
        }
      },
      "source": [
        "traied_model  = model.fit(x_train,y_train,epochs=100,validation_data=(x_valid,y_valid))"
      ],
      "execution_count": 77,
      "outputs": [
        {
          "output_type": "stream",
          "text": [
            "Epoch 1/100\n",
            "9/9 [==============================] - 0s 18ms/step - loss: 3.7051 - mae: 1.6837 - val_loss: 1.5134 - val_mae: 1.0270\n",
            "Epoch 2/100\n",
            "9/9 [==============================] - 0s 4ms/step - loss: 0.8049 - mae: 0.7017 - val_loss: 0.7741 - val_mae: 0.6938\n",
            "Epoch 3/100\n",
            "9/9 [==============================] - 0s 4ms/step - loss: 0.5344 - mae: 0.5752 - val_loss: 0.5643 - val_mae: 0.5909\n",
            "Epoch 4/100\n",
            "9/9 [==============================] - 0s 4ms/step - loss: 0.4031 - mae: 0.4938 - val_loss: 0.4334 - val_mae: 0.5210\n",
            "Epoch 5/100\n",
            "9/9 [==============================] - 0s 4ms/step - loss: 0.3196 - mae: 0.4360 - val_loss: 0.3577 - val_mae: 0.4742\n",
            "Epoch 6/100\n",
            "9/9 [==============================] - 0s 4ms/step - loss: 0.2654 - mae: 0.3940 - val_loss: 0.3054 - val_mae: 0.4403\n",
            "Epoch 7/100\n",
            "9/9 [==============================] - 0s 4ms/step - loss: 0.2292 - mae: 0.3646 - val_loss: 0.2627 - val_mae: 0.4063\n",
            "Epoch 8/100\n",
            "9/9 [==============================] - 0s 6ms/step - loss: 0.2028 - mae: 0.3400 - val_loss: 0.2522 - val_mae: 0.4027\n",
            "Epoch 9/100\n",
            "9/9 [==============================] - 0s 4ms/step - loss: 0.1860 - mae: 0.3257 - val_loss: 0.2188 - val_mae: 0.3690\n",
            "Epoch 10/100\n",
            "9/9 [==============================] - 0s 4ms/step - loss: 0.1712 - mae: 0.3123 - val_loss: 0.1978 - val_mae: 0.3478\n",
            "Epoch 11/100\n",
            "9/9 [==============================] - 0s 4ms/step - loss: 0.1583 - mae: 0.2996 - val_loss: 0.1905 - val_mae: 0.3427\n",
            "Epoch 12/100\n",
            "9/9 [==============================] - 0s 4ms/step - loss: 0.1507 - mae: 0.2895 - val_loss: 0.1783 - val_mae: 0.3286\n",
            "Epoch 13/100\n",
            "9/9 [==============================] - 0s 4ms/step - loss: 0.1432 - mae: 0.2822 - val_loss: 0.1735 - val_mae: 0.3248\n",
            "Epoch 14/100\n",
            "9/9 [==============================] - 0s 4ms/step - loss: 0.1374 - mae: 0.2766 - val_loss: 0.1619 - val_mae: 0.3103\n",
            "Epoch 15/100\n",
            "9/9 [==============================] - 0s 4ms/step - loss: 0.1308 - mae: 0.2701 - val_loss: 0.1552 - val_mae: 0.3030\n",
            "Epoch 16/100\n",
            "9/9 [==============================] - 0s 4ms/step - loss: 0.1269 - mae: 0.2673 - val_loss: 0.1564 - val_mae: 0.3050\n",
            "Epoch 17/100\n",
            "9/9 [==============================] - 0s 4ms/step - loss: 0.1234 - mae: 0.2608 - val_loss: 0.1477 - val_mae: 0.2948\n",
            "Epoch 18/100\n",
            "9/9 [==============================] - 0s 7ms/step - loss: 0.1197 - mae: 0.2576 - val_loss: 0.1459 - val_mae: 0.2931\n",
            "Epoch 19/100\n",
            "9/9 [==============================] - 0s 4ms/step - loss: 0.1168 - mae: 0.2541 - val_loss: 0.1400 - val_mae: 0.2857\n",
            "Epoch 20/100\n",
            "9/9 [==============================] - 0s 4ms/step - loss: 0.1131 - mae: 0.2508 - val_loss: 0.1340 - val_mae: 0.2781\n",
            "Epoch 21/100\n",
            "9/9 [==============================] - 0s 4ms/step - loss: 0.1110 - mae: 0.2477 - val_loss: 0.1295 - val_mae: 0.2720\n",
            "Epoch 22/100\n",
            "9/9 [==============================] - 0s 4ms/step - loss: 0.1084 - mae: 0.2455 - val_loss: 0.1321 - val_mae: 0.2757\n",
            "Epoch 23/100\n",
            "9/9 [==============================] - 0s 4ms/step - loss: 0.1061 - mae: 0.2434 - val_loss: 0.1279 - val_mae: 0.2700\n",
            "Epoch 24/100\n",
            "9/9 [==============================] - 0s 4ms/step - loss: 0.1041 - mae: 0.2407 - val_loss: 0.1268 - val_mae: 0.2684\n",
            "Epoch 25/100\n",
            "9/9 [==============================] - 0s 4ms/step - loss: 0.1020 - mae: 0.2377 - val_loss: 0.1239 - val_mae: 0.2644\n",
            "Epoch 26/100\n",
            "9/9 [==============================] - 0s 3ms/step - loss: 0.1003 - mae: 0.2361 - val_loss: 0.1221 - val_mae: 0.2618\n",
            "Epoch 27/100\n",
            "9/9 [==============================] - 0s 4ms/step - loss: 0.0987 - mae: 0.2347 - val_loss: 0.1205 - val_mae: 0.2594\n",
            "Epoch 28/100\n",
            "9/9 [==============================] - 0s 4ms/step - loss: 0.0977 - mae: 0.2331 - val_loss: 0.1166 - val_mae: 0.2535\n",
            "Epoch 29/100\n",
            "9/9 [==============================] - 0s 4ms/step - loss: 0.0951 - mae: 0.2303 - val_loss: 0.1178 - val_mae: 0.2552\n",
            "Epoch 30/100\n",
            "9/9 [==============================] - 0s 5ms/step - loss: 0.0941 - mae: 0.2290 - val_loss: 0.1167 - val_mae: 0.2534\n",
            "Epoch 31/100\n",
            "9/9 [==============================] - 0s 4ms/step - loss: 0.0917 - mae: 0.2243 - val_loss: 0.1105 - val_mae: 0.2435\n",
            "Epoch 32/100\n",
            "9/9 [==============================] - 0s 8ms/step - loss: 0.0913 - mae: 0.2252 - val_loss: 0.1101 - val_mae: 0.2429\n",
            "Epoch 33/100\n",
            "9/9 [==============================] - 0s 4ms/step - loss: 0.0896 - mae: 0.2226 - val_loss: 0.1098 - val_mae: 0.2424\n",
            "Epoch 34/100\n",
            "9/9 [==============================] - 0s 5ms/step - loss: 0.0889 - mae: 0.2228 - val_loss: 0.1123 - val_mae: 0.2460\n",
            "Epoch 35/100\n",
            "9/9 [==============================] - 0s 5ms/step - loss: 0.0872 - mae: 0.2195 - val_loss: 0.1084 - val_mae: 0.2399\n",
            "Epoch 36/100\n",
            "9/9 [==============================] - 0s 5ms/step - loss: 0.0859 - mae: 0.2174 - val_loss: 0.1074 - val_mae: 0.2381\n",
            "Epoch 37/100\n",
            "9/9 [==============================] - 0s 5ms/step - loss: 0.0850 - mae: 0.2153 - val_loss: 0.1053 - val_mae: 0.2345\n",
            "Epoch 38/100\n",
            "9/9 [==============================] - 0s 4ms/step - loss: 0.0836 - mae: 0.2150 - val_loss: 0.1069 - val_mae: 0.2369\n",
            "Epoch 39/100\n",
            "9/9 [==============================] - 0s 5ms/step - loss: 0.0826 - mae: 0.2130 - val_loss: 0.1053 - val_mae: 0.2342\n",
            "Epoch 40/100\n",
            "9/9 [==============================] - 0s 4ms/step - loss: 0.0819 - mae: 0.2117 - val_loss: 0.1039 - val_mae: 0.2322\n",
            "Epoch 41/100\n",
            "9/9 [==============================] - 0s 5ms/step - loss: 0.0814 - mae: 0.2118 - val_loss: 0.1060 - val_mae: 0.2347\n",
            "Epoch 42/100\n",
            "9/9 [==============================] - 0s 4ms/step - loss: 0.0801 - mae: 0.2078 - val_loss: 0.1023 - val_mae: 0.2293\n",
            "Epoch 43/100\n",
            "9/9 [==============================] - 0s 4ms/step - loss: 0.0793 - mae: 0.2090 - val_loss: 0.1037 - val_mae: 0.2309\n",
            "Epoch 44/100\n",
            "9/9 [==============================] - 0s 4ms/step - loss: 0.0789 - mae: 0.2084 - val_loss: 0.1048 - val_mae: 0.2319\n",
            "Epoch 45/100\n",
            "9/9 [==============================] - 0s 5ms/step - loss: 0.0774 - mae: 0.2049 - val_loss: 0.1014 - val_mae: 0.2271\n",
            "Epoch 46/100\n",
            "9/9 [==============================] - 0s 5ms/step - loss: 0.0767 - mae: 0.2048 - val_loss: 0.1019 - val_mae: 0.2273\n",
            "Epoch 47/100\n",
            "9/9 [==============================] - 0s 4ms/step - loss: 0.0766 - mae: 0.2046 - val_loss: 0.1027 - val_mae: 0.2280\n",
            "Epoch 48/100\n",
            "9/9 [==============================] - 0s 4ms/step - loss: 0.0754 - mae: 0.2014 - val_loss: 0.1000 - val_mae: 0.2244\n",
            "Epoch 49/100\n",
            "9/9 [==============================] - 0s 4ms/step - loss: 0.0746 - mae: 0.2016 - val_loss: 0.0992 - val_mae: 0.2232\n",
            "Epoch 50/100\n",
            "9/9 [==============================] - 0s 4ms/step - loss: 0.0738 - mae: 0.2002 - val_loss: 0.1000 - val_mae: 0.2237\n",
            "Epoch 51/100\n",
            "9/9 [==============================] - 0s 5ms/step - loss: 0.0735 - mae: 0.1997 - val_loss: 0.0972 - val_mae: 0.2199\n",
            "Epoch 52/100\n",
            "9/9 [==============================] - 0s 6ms/step - loss: 0.0728 - mae: 0.1994 - val_loss: 0.0992 - val_mae: 0.2220\n",
            "Epoch 53/100\n",
            "9/9 [==============================] - 0s 4ms/step - loss: 0.0721 - mae: 0.1983 - val_loss: 0.0990 - val_mae: 0.2214\n",
            "Epoch 54/100\n",
            "9/9 [==============================] - 0s 4ms/step - loss: 0.0712 - mae: 0.1956 - val_loss: 0.0963 - val_mae: 0.2180\n",
            "Epoch 55/100\n",
            "9/9 [==============================] - 0s 4ms/step - loss: 0.0710 - mae: 0.1967 - val_loss: 0.0967 - val_mae: 0.2182\n",
            "Epoch 56/100\n",
            "9/9 [==============================] - 0s 5ms/step - loss: 0.0704 - mae: 0.1949 - val_loss: 0.0983 - val_mae: 0.2198\n",
            "Epoch 57/100\n",
            "9/9 [==============================] - 0s 4ms/step - loss: 0.0696 - mae: 0.1939 - val_loss: 0.0975 - val_mae: 0.2184\n",
            "Epoch 58/100\n",
            "9/9 [==============================] - 0s 4ms/step - loss: 0.0686 - mae: 0.1925 - val_loss: 0.0972 - val_mae: 0.2182\n",
            "Epoch 59/100\n",
            "9/9 [==============================] - 0s 5ms/step - loss: 0.0682 - mae: 0.1924 - val_loss: 0.0969 - val_mae: 0.2174\n",
            "Epoch 60/100\n",
            "9/9 [==============================] - 0s 4ms/step - loss: 0.0676 - mae: 0.1913 - val_loss: 0.0982 - val_mae: 0.2187\n",
            "Epoch 61/100\n",
            "9/9 [==============================] - 0s 4ms/step - loss: 0.0669 - mae: 0.1901 - val_loss: 0.0973 - val_mae: 0.2173\n",
            "Epoch 62/100\n",
            "9/9 [==============================] - 0s 4ms/step - loss: 0.0668 - mae: 0.1890 - val_loss: 0.0948 - val_mae: 0.2141\n",
            "Epoch 63/100\n",
            "9/9 [==============================] - 0s 4ms/step - loss: 0.0663 - mae: 0.1893 - val_loss: 0.0953 - val_mae: 0.2147\n",
            "Epoch 64/100\n",
            "9/9 [==============================] - 0s 4ms/step - loss: 0.0652 - mae: 0.1872 - val_loss: 0.0958 - val_mae: 0.2152\n",
            "Epoch 65/100\n",
            "9/9 [==============================] - 0s 4ms/step - loss: 0.0652 - mae: 0.1866 - val_loss: 0.0940 - val_mae: 0.2125\n",
            "Epoch 66/100\n",
            "9/9 [==============================] - 0s 4ms/step - loss: 0.0646 - mae: 0.1870 - val_loss: 0.0934 - val_mae: 0.2114\n",
            "Epoch 67/100\n",
            "9/9 [==============================] - 0s 4ms/step - loss: 0.0641 - mae: 0.1878 - val_loss: 0.0954 - val_mae: 0.2138\n",
            "Epoch 68/100\n",
            "9/9 [==============================] - 0s 4ms/step - loss: 0.0636 - mae: 0.1855 - val_loss: 0.0956 - val_mae: 0.2138\n",
            "Epoch 69/100\n",
            "9/9 [==============================] - 0s 4ms/step - loss: 0.0637 - mae: 0.1853 - val_loss: 0.0943 - val_mae: 0.2121\n",
            "Epoch 70/100\n",
            "9/9 [==============================] - 0s 5ms/step - loss: 0.0625 - mae: 0.1833 - val_loss: 0.0946 - val_mae: 0.2123\n",
            "Epoch 71/100\n",
            "9/9 [==============================] - 0s 4ms/step - loss: 0.0629 - mae: 0.1839 - val_loss: 0.0931 - val_mae: 0.2101\n",
            "Epoch 72/100\n",
            "9/9 [==============================] - 0s 4ms/step - loss: 0.0618 - mae: 0.1831 - val_loss: 0.0945 - val_mae: 0.2119\n",
            "Epoch 73/100\n",
            "9/9 [==============================] - 0s 6ms/step - loss: 0.0613 - mae: 0.1821 - val_loss: 0.0935 - val_mae: 0.2105\n",
            "Epoch 74/100\n",
            "9/9 [==============================] - 0s 4ms/step - loss: 0.0608 - mae: 0.1810 - val_loss: 0.0931 - val_mae: 0.2098\n",
            "Epoch 75/100\n",
            "9/9 [==============================] - 0s 5ms/step - loss: 0.0604 - mae: 0.1808 - val_loss: 0.0939 - val_mae: 0.2106\n",
            "Epoch 76/100\n",
            "9/9 [==============================] - 0s 4ms/step - loss: 0.0601 - mae: 0.1795 - val_loss: 0.0917 - val_mae: 0.2076\n",
            "Epoch 77/100\n",
            "9/9 [==============================] - 0s 4ms/step - loss: 0.0599 - mae: 0.1807 - val_loss: 0.0923 - val_mae: 0.2082\n",
            "Epoch 78/100\n",
            "9/9 [==============================] - 0s 5ms/step - loss: 0.0595 - mae: 0.1795 - val_loss: 0.0950 - val_mae: 0.2122\n",
            "Epoch 79/100\n",
            "9/9 [==============================] - 0s 4ms/step - loss: 0.0590 - mae: 0.1792 - val_loss: 0.0955 - val_mae: 0.2128\n",
            "Epoch 80/100\n",
            "9/9 [==============================] - 0s 4ms/step - loss: 0.0587 - mae: 0.1780 - val_loss: 0.0935 - val_mae: 0.2096\n",
            "Epoch 81/100\n",
            "9/9 [==============================] - 0s 4ms/step - loss: 0.0583 - mae: 0.1775 - val_loss: 0.0925 - val_mae: 0.2080\n",
            "Epoch 82/100\n",
            "9/9 [==============================] - 0s 5ms/step - loss: 0.0581 - mae: 0.1785 - val_loss: 0.0932 - val_mae: 0.2090\n",
            "Epoch 83/100\n",
            "9/9 [==============================] - 0s 5ms/step - loss: 0.0575 - mae: 0.1764 - val_loss: 0.0937 - val_mae: 0.2098\n",
            "Epoch 84/100\n",
            "9/9 [==============================] - 0s 5ms/step - loss: 0.0573 - mae: 0.1752 - val_loss: 0.0923 - val_mae: 0.2076\n",
            "Epoch 85/100\n",
            "9/9 [==============================] - 0s 4ms/step - loss: 0.0572 - mae: 0.1766 - val_loss: 0.0935 - val_mae: 0.2093\n",
            "Epoch 86/100\n",
            "9/9 [==============================] - 0s 4ms/step - loss: 0.0566 - mae: 0.1752 - val_loss: 0.0928 - val_mae: 0.2082\n",
            "Epoch 87/100\n",
            "9/9 [==============================] - 0s 4ms/step - loss: 0.0560 - mae: 0.1742 - val_loss: 0.0921 - val_mae: 0.2072\n",
            "Epoch 88/100\n",
            "9/9 [==============================] - 0s 5ms/step - loss: 0.0562 - mae: 0.1741 - val_loss: 0.0917 - val_mae: 0.2064\n",
            "Epoch 89/100\n",
            "9/9 [==============================] - 0s 5ms/step - loss: 0.0555 - mae: 0.1730 - val_loss: 0.0927 - val_mae: 0.2077\n",
            "Epoch 90/100\n",
            "9/9 [==============================] - 0s 5ms/step - loss: 0.0553 - mae: 0.1730 - val_loss: 0.0942 - val_mae: 0.2102\n",
            "Epoch 91/100\n",
            "9/9 [==============================] - 0s 5ms/step - loss: 0.0551 - mae: 0.1726 - val_loss: 0.0917 - val_mae: 0.2061\n",
            "Epoch 92/100\n",
            "9/9 [==============================] - 0s 4ms/step - loss: 0.0546 - mae: 0.1721 - val_loss: 0.0901 - val_mae: 0.2044\n",
            "Epoch 93/100\n",
            "9/9 [==============================] - 0s 4ms/step - loss: 0.0543 - mae: 0.1720 - val_loss: 0.0908 - val_mae: 0.2051\n",
            "Epoch 94/100\n",
            "9/9 [==============================] - 0s 5ms/step - loss: 0.0538 - mae: 0.1717 - val_loss: 0.0948 - val_mae: 0.2116\n",
            "Epoch 95/100\n",
            "9/9 [==============================] - 0s 4ms/step - loss: 0.0541 - mae: 0.1709 - val_loss: 0.0926 - val_mae: 0.2071\n",
            "Epoch 96/100\n",
            "9/9 [==============================] - 0s 4ms/step - loss: 0.0532 - mae: 0.1690 - val_loss: 0.0916 - val_mae: 0.2059\n",
            "Epoch 97/100\n",
            "9/9 [==============================] - 0s 5ms/step - loss: 0.0530 - mae: 0.1693 - val_loss: 0.0914 - val_mae: 0.2053\n",
            "Epoch 98/100\n",
            "9/9 [==============================] - 0s 5ms/step - loss: 0.0533 - mae: 0.1700 - val_loss: 0.0915 - val_mae: 0.2056\n",
            "Epoch 99/100\n",
            "9/9 [==============================] - 0s 5ms/step - loss: 0.0525 - mae: 0.1683 - val_loss: 0.0916 - val_mae: 0.2055\n",
            "Epoch 100/100\n",
            "9/9 [==============================] - 0s 5ms/step - loss: 0.0523 - mae: 0.1683 - val_loss: 0.0915 - val_mae: 0.2056\n"
          ],
          "name": "stdout"
        }
      ]
    },
    {
      "cell_type": "markdown",
      "metadata": {
        "id": "H38yPy9_5YyR"
      },
      "source": [
        ""
      ]
    },
    {
      "cell_type": "markdown",
      "metadata": {
        "id": "BEJV70U5_oDN"
      },
      "source": [
        "## Performace Graph "
      ]
    },
    {
      "cell_type": "code",
      "metadata": {
        "id": "4EpW5mZR8uDj",
        "outputId": "89469927-67bc-400c-8b0f-b09d39daa179",
        "colab": {
          "base_uri": "https://localhost:8080/",
          "height": 265
        }
      },
      "source": [
        "pd.DataFrame(traied_model.history).plot()\n",
        "plt.grid(True)"
      ],
      "execution_count": 96,
      "outputs": [
        {
          "output_type": "display_data",
          "data": {
            "image/png": "[encoded data removed]",
            "text/plain": [
              "<Figure size 432x288 with 1 Axes>"
            ]
          },
          "metadata": {
            "tags": [],
            "needs_background": "light"
          }
        }
      ]
    },
    {
      "cell_type": "markdown",
      "metadata": {
        "id": "1wtBUsCy_k6H"
      },
      "source": [
        "## Model Evaluation "
      ]
    },
    {
      "cell_type": "code",
      "metadata": {
        "id": "USUE5Z8m5ZP_",
        "outputId": "915b4a0f-6323-402a-e24b-8695d9bf6d9d",
        "colab": {
          "base_uri": "https://localhost:8080/"
        }
      },
      "source": [
        "model.evaluate(x_test,y_test)"
      ],
      "execution_count": 78,
      "outputs": [
        {
          "output_type": "stream",
          "text": [
            "4/4 [==============================] - 0s 2ms/step - loss: 0.2852 - mae: 0.2786\n"
          ],
          "name": "stdout"
        },
        {
          "output_type": "execute_result",
          "data": {
            "text/plain": [
              "[0.2852456271648407, 0.2785837948322296]"
            ]
          },
          "metadata": {
            "tags": []
          },
          "execution_count": 78
        }
      ]
    },
    {
      "cell_type": "markdown",
      "metadata": {
        "id": "w-c_bLUg58ea"
      },
      "source": [
        "#### Predicting the first 5 vlues from test set "
      ]
    },
    {
      "cell_type": "code",
      "metadata": {
        "id": "cdITDA6l5ojF"
      },
      "source": [
        "x_new = x_test[:5]\n"
      ],
      "execution_count": 79,
      "outputs": []
    },
    {
      "cell_type": "code",
      "metadata": {
        "id": "U201Fj8I583b"
      },
      "source": [
        "y_pred = model.predict(x_new)"
      ],
      "execution_count": 81,
      "outputs": []
    },
    {
      "cell_type": "code",
      "metadata": {
        "id": "J7A1Nk7e6GYd",
        "outputId": "727f122c-7aab-44f2-917e-a9f5abe59c71",
        "colab": {
          "base_uri": "https://localhost:8080/"
        }
      },
      "source": [
        "print(\"the actual value are \",\"\\n\",y_test[:5])"
      ],
      "execution_count": 102,
      "outputs": [
        {
          "output_type": "stream",
          "text": [
            "the actual value are  \n",
            "      Collection\n",
            "173    2.240000\n",
            "274    2.826667\n",
            "491    1.573333\n",
            "72     2.186667\n",
            "452    1.740000\n"
          ],
          "name": "stdout"
        }
      ]
    },
    {
      "cell_type": "code",
      "metadata": {
        "id": "GmVk3-An6PpS",
        "outputId": "78f75cc2-4116-44bf-eee4-1457cd9ae3b2",
        "colab": {
          "base_uri": "https://localhost:8080/"
        }
      },
      "source": [
        "print(\"the predicted value are \",\"\\n\", y_pred)"
      ],
      "execution_count": 99,
      "outputs": [
        {
          "output_type": "stream",
          "text": [
            "the predicted value are  \n",
            " [[2.5145757]\n",
            " [2.663156 ]\n",
            " [1.8457001]\n",
            " [2.4707603]\n",
            " [1.7309107]]\n"
          ],
          "name": "stdout"
        }
      ]
    }
  ]
}