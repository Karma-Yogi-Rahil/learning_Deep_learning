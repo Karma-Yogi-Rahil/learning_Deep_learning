{
  "nbformat": 4,
  "nbformat_minor": 5,
  "metadata": {
    "kernelspec": {
      "display_name": "Python 3.8.10 64-bit ('Tensflow_m1': conda)",
      "language": "python",
      "name": "python3810jvsc74a57bd0d831c2d24441031cca94d340b013336142f7d1230b8c16f4f05968ed3e64b669"
    },
    "language_info": {
      "codemirror_mode": {
        "name": "ipython",
        "version": 3
      },
      "file_extension": ".py",
      "mimetype": "text/x-python",
      "name": "python",
      "nbconvert_exporter": "python",
      "pygments_lexer": "ipython3",
      "version": "3.8.10"
    },
    "colab": {
      "name": "MNIST Digit classification.ipynb",
      "provenance": []
    }
  },
  "cells": [
    {
      "cell_type": "markdown",
      "metadata": {
        "id": "d183fc2b"
      },
      "source": [
        "# MNIST Digit classification"
      ],
      "id": "d183fc2b"
    },
    {
      "cell_type": "markdown",
      "metadata": {
        "id": "8faa69f5"
      },
      "source": [
        "## importing Libraries"
      ],
      "id": "8faa69f5"
    },
    {
      "cell_type": "code",
      "metadata": {
        "id": "6b93c6fa"
      },
      "source": [
        "import tensorflow as tf \n",
        "from tensorflow import keras \n",
        "import pandas as pd \n",
        "import numpy as np \n",
        "import matplotlib.pyplot as plt"
      ],
      "id": "6b93c6fa",
      "execution_count": 6,
      "outputs": []
    },
    {
      "cell_type": "markdown",
      "metadata": {
        "id": "eOYJRT7ADXbZ"
      },
      "source": [
        "## Lodaing the dataset"
      ],
      "id": "eOYJRT7ADXbZ"
    },
    {
      "cell_type": "code",
      "metadata": {
        "id": "M9Rkm93LDSFo"
      },
      "source": [
        "digit_mnist = keras.datasets.mnist"
      ],
      "id": "M9Rkm93LDSFo",
      "execution_count": 43,
      "outputs": []
    },
    {
      "cell_type": "code",
      "metadata": {
        "id": "3Ta3EwooDV5K"
      },
      "source": [
        "(x_train,y_train),(x_test,y_test) = digit_mnist.load_data()"
      ],
      "id": "3Ta3EwooDV5K",
      "execution_count": 44,
      "outputs": []
    },
    {
      "cell_type": "markdown",
      "metadata": {
        "id": "sKPiJBK0KS4p"
      },
      "source": [
        "## Visualising the data "
      ],
      "id": "sKPiJBK0KS4p"
    },
    {
      "cell_type": "code",
      "metadata": {
        "id": "QYre274yDrce",
        "outputId": "8558c487-eba4-4163-ba92-be1b6175efab",
        "colab": {
          "base_uri": "https://localhost:8080/",
          "height": 670
        }
      },
      "source": [
        "\n",
        "fig = plt.figure(figsize=(12,12))\n",
        "row = 3\n",
        "coloum  = 4 \n",
        "for i in range (1 , coloum*row+1):\n",
        "  Img = x_train[i]\n",
        "  title = y_train[i]\n",
        "  fig.add_subplot(row,coloum, i )\n",
        "  plt.imshow(Img)\n",
        "  plt.title(title) "
      ],
      "id": "QYre274yDrce",
      "execution_count": 45,
      "outputs": [
        {
          "output_type": "display_data",
          "data": {
            "image/png": "[encoded data removed]",
            "text/plain": [
              "<Figure size 864x864 with 12 Axes>"
            ]
          },
          "metadata": {
            "tags": [],
            "needs_background": "light"
          }
        }
      ]
    },
    {
      "cell_type": "markdown",
      "metadata": {
        "id": "R--kq4IiFSZC"
      },
      "source": [
        "## Data Normalisation "
      ],
      "id": "R--kq4IiFSZC"
    },
    {
      "cell_type": "code",
      "metadata": {
        "id": "rHJYYwN-FVeK"
      },
      "source": [
        "x_train = x_train/255.\n",
        "x_test = x_test/255."
      ],
      "id": "rHJYYwN-FVeK",
      "execution_count": 46,
      "outputs": []
    },
    {
      "cell_type": "code",
      "metadata": {
        "id": "9-OwyvIgIMrT",
        "outputId": "4a343611-a32b-40f9-bccd-44d2c997e0f0",
        "colab": {
          "base_uri": "https://localhost:8080/"
        }
      },
      "source": [
        "print(len(x_train))\n",
        "print(len(y_train))"
      ],
      "id": "9-OwyvIgIMrT",
      "execution_count": 47,
      "outputs": [
        {
          "output_type": "stream",
          "text": [
            "60000\n",
            "60000\n"
          ],
          "name": "stdout"
        }
      ]
    },
    {
      "cell_type": "code",
      "metadata": {
        "id": "PlnWlNGRKgkS"
      },
      "source": [
        ""
      ],
      "id": "PlnWlNGRKgkS",
      "execution_count": null,
      "outputs": []
    },
    {
      "cell_type": "markdown",
      "metadata": {
        "id": "HFQFVEMfKhCz"
      },
      "source": [
        "## Splitting the data in train and validation set "
      ],
      "id": "HFQFVEMfKhCz"
    },
    {
      "cell_type": "code",
      "metadata": {
        "id": "o4KUS5kGFfZo"
      },
      "source": [
        "x_valid , x_train = x_train[:10000],x_train[10000:]\n",
        "y_valid , y_train = y_train[:10000],y_train[10000:]"
      ],
      "id": "o4KUS5kGFfZo",
      "execution_count": 48,
      "outputs": []
    },
    {
      "cell_type": "code",
      "metadata": {
        "id": "Q-6I3wqBIDem",
        "outputId": "0d4865e6-6a24-4f42-dfeb-bf84e2aa4dbb",
        "colab": {
          "base_uri": "https://localhost:8080/"
        }
      },
      "source": [
        "print(len(x_valid))\n",
        "print(len(x_train))\n",
        "print(len(y_valid))\n",
        "print(len(y_train))"
      ],
      "id": "Q-6I3wqBIDem",
      "execution_count": 49,
      "outputs": [
        {
          "output_type": "stream",
          "text": [
            "10000\n",
            "50000\n",
            "10000\n",
            "50000\n"
          ],
          "name": "stdout"
        }
      ]
    },
    {
      "cell_type": "markdown",
      "metadata": {
        "id": "ZB90gvlfKxjm"
      },
      "source": [
        "### seeding so the ouput remains constistant every time "
      ],
      "id": "ZB90gvlfKxjm"
    },
    {
      "cell_type": "code",
      "metadata": {
        "id": "4gfa-TIIGBAo"
      },
      "source": [
        "np.random.seed(28)\n",
        "tf.random.set_seed(28)\n"
      ],
      "id": "4gfa-TIIGBAo",
      "execution_count": 50,
      "outputs": []
    },
    {
      "cell_type": "markdown",
      "metadata": {
        "id": "RyGFO3EyKtmr"
      },
      "source": [
        "## Building the Model "
      ],
      "id": "RyGFO3EyKtmr"
    },
    {
      "cell_type": "code",
      "metadata": {
        "id": "eYOamdAfGMs9"
      },
      "source": [
        "digit_model = keras.models.Sequential()\n",
        "digit_model.add(keras.layers.Flatten(input_shape = [28,28]))\n",
        "digit_model.add(keras.layers.Dense(300,activation='relu'))\n",
        "digit_model.add(keras.layers.Dense(300,activation='relu'))\n",
        "digit_model.add(keras.layers.Dense(10,activation='softmax'))"
      ],
      "id": "eYOamdAfGMs9",
      "execution_count": 51,
      "outputs": []
    },
    {
      "cell_type": "code",
      "metadata": {
        "id": "dEZZ6AKnHF4s",
        "outputId": "aa1b9dee-c847-48b4-f4a0-1d87884f6473",
        "colab": {
          "base_uri": "https://localhost:8080/"
        }
      },
      "source": [
        "digit_model.summary(\n",
        ")"
      ],
      "id": "dEZZ6AKnHF4s",
      "execution_count": 52,
      "outputs": [
        {
          "output_type": "stream",
          "text": [
            "Model: \"sequential_2\"\n",
            "_________________________________________________________________\n",
            "Layer (type)                 Output Shape              Param #   \n",
            "=================================================================\n",
            "flatten_2 (Flatten)          (None, 784)               0         \n",
            "_________________________________________________________________\n",
            "dense_6 (Dense)              (None, 300)               235500    \n",
            "_________________________________________________________________\n",
            "dense_7 (Dense)              (None, 300)               90300     \n",
            "_________________________________________________________________\n",
            "dense_8 (Dense)              (None, 10)                3010      \n",
            "=================================================================\n",
            "Total params: 328,810\n",
            "Trainable params: 328,810\n",
            "Non-trainable params: 0\n",
            "_________________________________________________________________\n"
          ],
          "name": "stdout"
        }
      ]
    },
    {
      "cell_type": "code",
      "metadata": {
        "id": "a0SBpeFXHLCP"
      },
      "source": [
        "digit_model.compile(optimizer='sgd',\n",
        "                    loss = 'sparse_categorical_crossentropy',\n",
        "                    metrics = ['accuracy'])"
      ],
      "id": "a0SBpeFXHLCP",
      "execution_count": 53,
      "outputs": []
    },
    {
      "cell_type": "markdown",
      "metadata": {
        "id": "R9JfvzfHK85R"
      },
      "source": [
        "## Trainning "
      ],
      "id": "R9JfvzfHK85R"
    },
    {
      "cell_type": "code",
      "metadata": {
        "id": "R30dzL52Hgb-",
        "outputId": "bede4bd9-b165-4cf5-bbc8-cbc1e449ceb8",
        "colab": {
          "base_uri": "https://localhost:8080/"
        }
      },
      "source": [
        "trained_digit_model = digit_model.fit(x_train,y_train,epochs=20,validation_data=(x_valid,y_valid))"
      ],
      "id": "R30dzL52Hgb-",
      "execution_count": 55,
      "outputs": [
        {
          "output_type": "stream",
          "text": [
            "Epoch 1/20\n",
            "1563/1563 [==============================] - 6s 4ms/step - loss: 0.2156 - accuracy: 0.9384 - val_loss: 0.2051 - val_accuracy: 0.9408\n",
            "Epoch 2/20\n",
            "1563/1563 [==============================] - 6s 4ms/step - loss: 0.1888 - accuracy: 0.9464 - val_loss: 0.1864 - val_accuracy: 0.9485\n",
            "Epoch 3/20\n",
            "1563/1563 [==============================] - 6s 4ms/step - loss: 0.1681 - accuracy: 0.9526 - val_loss: 0.1666 - val_accuracy: 0.9519\n",
            "Epoch 4/20\n",
            "1563/1563 [==============================] - 6s 4ms/step - loss: 0.1505 - accuracy: 0.9573 - val_loss: 0.1538 - val_accuracy: 0.9555\n",
            "Epoch 5/20\n",
            "1563/1563 [==============================] - 6s 4ms/step - loss: 0.1364 - accuracy: 0.9618 - val_loss: 0.1453 - val_accuracy: 0.9585\n",
            "Epoch 6/20\n",
            "1563/1563 [==============================] - 6s 4ms/step - loss: 0.1241 - accuracy: 0.9646 - val_loss: 0.1377 - val_accuracy: 0.9605\n",
            "Epoch 7/20\n",
            "1563/1563 [==============================] - 6s 4ms/step - loss: 0.1138 - accuracy: 0.9677 - val_loss: 0.1286 - val_accuracy: 0.9644\n",
            "Epoch 8/20\n",
            "1563/1563 [==============================] - 6s 4ms/step - loss: 0.1045 - accuracy: 0.9708 - val_loss: 0.1234 - val_accuracy: 0.9655\n",
            "Epoch 9/20\n",
            "1563/1563 [==============================] - 6s 4ms/step - loss: 0.0967 - accuracy: 0.9735 - val_loss: 0.1158 - val_accuracy: 0.9672\n",
            "Epoch 10/20\n",
            "1563/1563 [==============================] - 6s 4ms/step - loss: 0.0899 - accuracy: 0.9751 - val_loss: 0.1171 - val_accuracy: 0.9657\n",
            "Epoch 11/20\n",
            "1563/1563 [==============================] - 6s 4ms/step - loss: 0.0837 - accuracy: 0.9768 - val_loss: 0.1073 - val_accuracy: 0.9688\n",
            "Epoch 12/20\n",
            "1563/1563 [==============================] - 6s 4ms/step - loss: 0.0779 - accuracy: 0.9783 - val_loss: 0.1070 - val_accuracy: 0.9694\n",
            "Epoch 13/20\n",
            "1563/1563 [==============================] - 6s 4ms/step - loss: 0.0726 - accuracy: 0.9797 - val_loss: 0.1034 - val_accuracy: 0.9694\n",
            "Epoch 14/20\n",
            "1563/1563 [==============================] - 6s 4ms/step - loss: 0.0680 - accuracy: 0.9810 - val_loss: 0.0969 - val_accuracy: 0.9721\n",
            "Epoch 15/20\n",
            "1563/1563 [==============================] - 6s 4ms/step - loss: 0.0637 - accuracy: 0.9826 - val_loss: 0.0946 - val_accuracy: 0.9724\n",
            "Epoch 16/20\n",
            "1563/1563 [==============================] - 6s 4ms/step - loss: 0.0602 - accuracy: 0.9836 - val_loss: 0.0936 - val_accuracy: 0.9731\n",
            "Epoch 17/20\n",
            "1563/1563 [==============================] - 6s 4ms/step - loss: 0.0564 - accuracy: 0.9850 - val_loss: 0.0896 - val_accuracy: 0.9735\n",
            "Epoch 18/20\n",
            "1563/1563 [==============================] - 6s 4ms/step - loss: 0.0529 - accuracy: 0.9858 - val_loss: 0.1028 - val_accuracy: 0.9692\n",
            "Epoch 19/20\n",
            "1563/1563 [==============================] - 6s 4ms/step - loss: 0.0503 - accuracy: 0.9871 - val_loss: 0.0902 - val_accuracy: 0.9741\n",
            "Epoch 20/20\n",
            "1563/1563 [==============================] - 6s 4ms/step - loss: 0.0473 - accuracy: 0.9878 - val_loss: 0.0851 - val_accuracy: 0.9751\n"
          ],
          "name": "stdout"
        }
      ]
    },
    {
      "cell_type": "markdown",
      "metadata": {
        "id": "EeWVw9tTLCdi"
      },
      "source": [
        "## Model Evaluation "
      ],
      "id": "EeWVw9tTLCdi"
    },
    {
      "cell_type": "code",
      "metadata": {
        "id": "6TWf75ReJZUX",
        "outputId": "9201c3c1-48f7-48c9-a609-eab65f855a8e",
        "colab": {
          "base_uri": "https://localhost:8080/"
        }
      },
      "source": [
        "digit_model.evaluate(x_test,y_test)"
      ],
      "id": "6TWf75ReJZUX",
      "execution_count": 57,
      "outputs": [
        {
          "output_type": "stream",
          "text": [
            "313/313 [==============================] - 1s 2ms/step - loss: 0.0771 - accuracy: 0.9759\n"
          ],
          "name": "stdout"
        },
        {
          "output_type": "execute_result",
          "data": {
            "text/plain": [
              "[0.07707271724939346, 0.9758999943733215]"
            ]
          },
          "metadata": {
            "tags": []
          },
          "execution_count": 57
        }
      ]
    },
    {
      "cell_type": "markdown",
      "metadata": {
        "id": "pkvCCJ-6LKgv"
      },
      "source": [
        "We train the model for 20 epoch and the acuuracy of the model is **97.58 %**"
      ],
      "id": "pkvCCJ-6LKgv"
    }
  ]
}