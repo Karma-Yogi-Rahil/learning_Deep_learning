{
  "nbformat": 4,
  "nbformat_minor": 0,
  "metadata": {
    "orig_nbformat": 4,
    "language_info": {
      "name": "python",
      "version": "3.8.10",
      "mimetype": "text/x-python",
      "codemirror_mode": {
        "name": "ipython",
        "version": 3
      },
      "pygments_lexer": "ipython3",
      "nbconvert_exporter": "python",
      "file_extension": ".py"
    },
    "kernelspec": {
      "name": "python3",
      "display_name": "Python 3.8.10 64-bit ('Tensflow_m1': conda)"
    },
    "interpreter": {
      "hash": "d831c2d24441031cca94d340b013336142f7d1230b8c16f4f05968ed3e64b669"
    },
    "colab": {
      "name": "Cat_vs_dog.ipynb",
      "provenance": []
    },
    "accelerator": "GPU"
  },
  "cells": [
    {
      "cell_type": "code",
      "metadata": {
        "id": "NbKh6YViso3p",
        "colab": {
          "base_uri": "https://localhost:8080/"
        },
        "outputId": "f0eaea1e-fa58-4c53-dd97-ef3dfae97665"
      },
      "source": [
        "from google.colab import drive\n",
        "drive.mount('/content/drive')"
      ],
      "execution_count": 1,
      "outputs": [
        {
          "output_type": "stream",
          "text": [
            "Mounted at /content/drive\n"
          ],
          "name": "stdout"
        }
      ]
    },
    {
      "cell_type": "markdown",
      "metadata": {
        "id": "O8cJuL5wtn98"
      },
      "source": [
        "## Importing the libraries "
      ]
    },
    {
      "cell_type": "code",
      "metadata": {
        "id": "-Dd4t7qtr9Xq"
      },
      "source": [
        "import tensorflow as tf\n",
        "from tensorflow import keras \n",
        "import pandas as pd \n",
        "import matplotlib.pyplot as plt\n",
        "import numpy as np\n",
        "from tensorflow.keras.preprocessing.image import ImageDataGenerator\n",
        "from tensorflow.keras import models\n",
        "from tensorflow.keras import optimizers"
      ],
      "execution_count": 2,
      "outputs": []
    },
    {
      "cell_type": "markdown",
      "metadata": {
        "id": "BIq5g5yKtw9B"
      },
      "source": [
        "## Importint the datasets\n"
      ]
    },
    {
      "cell_type": "code",
      "metadata": {
        "id": "ma5_1A1qtFEe"
      },
      "source": [
        "training_dir = '/content/drive/MyDrive/tensorflow/cat vs dog/cats_and_dogs/train'\n",
        "test_dir = '/content/drive/MyDrive/tensorflow/cat vs dog/cats_and_dogs/test'\n",
        "validate_dir = '/content/drive/MyDrive/tensorflow/cat vs dog/cats_and_dogs/validation'"
      ],
      "execution_count": 3,
      "outputs": []
    },
    {
      "cell_type": "code",
      "metadata": {
        "id": "V0KQB27Vu-dW",
        "colab": {
          "base_uri": "https://localhost:8080/"
        },
        "outputId": "29ed6cc1-a9f6-4189-b082-9dbfa77cd425"
      },
      "source": [
        "train_datagen = ImageDataGenerator(rescale=1./255)\n",
        "\n",
        "validate_datagen = ImageDataGenerator(rescale=1./255)\n",
        "train_generator = train_datagen.flow_from_directory(\n",
        "    training_dir, \n",
        "    target_size = (150,150), \n",
        "    class_mode = 'binary',\n",
        "    batch_size = 20\n",
        ")\n",
        "\n",
        "validate_generator = validate_datagen.flow_from_directory(\n",
        "    validate_dir,\n",
        "    target_size =(150,150),\n",
        "    class_mode = 'binary',\n",
        "    batch_size = 20\n",
        "\n",
        ")"
      ],
      "execution_count": 4,
      "outputs": [
        {
          "output_type": "stream",
          "text": [
            "Found 2000 images belonging to 2 classes.\n",
            "Found 1000 images belonging to 2 classes.\n"
          ],
          "name": "stdout"
        }
      ]
    },
    {
      "cell_type": "markdown",
      "metadata": {
        "id": "3lwIQ2Pyt4C7"
      },
      "source": [
        "## Buliding the model"
      ]
    },
    {
      "cell_type": "code",
      "metadata": {
        "id": "k8f1l3MDwhEV"
      },
      "source": [
        "model = models.Sequential([\n",
        "                          \n",
        "                          keras.layers.Conv2D(32,(3,3),activation='relu',input_shape = (150,150,3)),\n",
        "                          keras.layers.MaxPool2D(2,2),\n",
        "                          \n",
        "                          keras.layers.Conv2D(62,(3,3),activation='relu'),\n",
        "                          keras.layers.MaxPool2D(2,2),\n",
        "                           \n",
        "                          keras.layers.Conv2D(128,(3,3),activation='relu'),\n",
        "                          keras.layers.MaxPool2D(2,2),\n",
        "                          \n",
        "                          keras.layers.Conv2D(128,(3,3),activation='relu'),\n",
        "                          keras.layers.MaxPool2D(2,2),\n",
        "\n",
        "                          keras.layers.Flatten(),\n",
        "                          #keras.layers.Dropout((0.5)),\n",
        "                          keras.layers.Dense(512,activation='relu'),\n",
        "                          keras.layers.Dense(1,activation='sigmoid')\n",
        "                          \n",
        "]\n",
        "    \n",
        ")"
      ],
      "execution_count": 5,
      "outputs": []
    },
    {
      "cell_type": "code",
      "metadata": {
        "id": "uuKcIZ8GyxHT",
        "colab": {
          "base_uri": "https://localhost:8080/"
        },
        "outputId": "c543ae9e-643f-4dc4-f4e3-c2000fb04940"
      },
      "source": [
        "model.summary()"
      ],
      "execution_count": 6,
      "outputs": [
        {
          "output_type": "stream",
          "text": [
            "Model: \"sequential\"\n",
            "_________________________________________________________________\n",
            "Layer (type)                 Output Shape              Param #   \n",
            "=================================================================\n",
            "conv2d (Conv2D)              (None, 148, 148, 32)      896       \n",
            "_________________________________________________________________\n",
            "max_pooling2d (MaxPooling2D) (None, 74, 74, 32)        0         \n",
            "_________________________________________________________________\n",
            "conv2d_1 (Conv2D)            (None, 72, 72, 62)        17918     \n",
            "_________________________________________________________________\n",
            "max_pooling2d_1 (MaxPooling2 (None, 36, 36, 62)        0         \n",
            "_________________________________________________________________\n",
            "conv2d_2 (Conv2D)            (None, 34, 34, 128)       71552     \n",
            "_________________________________________________________________\n",
            "max_pooling2d_2 (MaxPooling2 (None, 17, 17, 128)       0         \n",
            "_________________________________________________________________\n",
            "conv2d_3 (Conv2D)            (None, 15, 15, 128)       147584    \n",
            "_________________________________________________________________\n",
            "max_pooling2d_3 (MaxPooling2 (None, 7, 7, 128)         0         \n",
            "_________________________________________________________________\n",
            "flatten (Flatten)            (None, 6272)              0         \n",
            "_________________________________________________________________\n",
            "dense (Dense)                (None, 512)               3211776   \n",
            "_________________________________________________________________\n",
            "dense_1 (Dense)              (None, 1)                 513       \n",
            "=================================================================\n",
            "Total params: 3,450,239\n",
            "Trainable params: 3,450,239\n",
            "Non-trainable params: 0\n",
            "_________________________________________________________________\n"
          ],
          "name": "stdout"
        }
      ]
    },
    {
      "cell_type": "code",
      "metadata": {
        "id": "7vOSrYmLy0lA"
      },
      "source": [
        "model.compile(loss='binary_crossentropy',\n",
        "              optimizer=optimizers.RMSprop(learning_rate=1e-4),\n",
        "              metrics=['acc'])"
      ],
      "execution_count": 7,
      "outputs": []
    },
    {
      "cell_type": "markdown",
      "metadata": {
        "id": "UPXYhF87uAZ7"
      },
      "source": [
        "## Training the model "
      ]
    },
    {
      "cell_type": "code",
      "metadata": {
        "id": "tqirxXLr0Gdr",
        "colab": {
          "base_uri": "https://localhost:8080/"
        },
        "outputId": "246b8456-3fcb-4451-aba0-63fd90fa0144"
      },
      "source": [
        "trained_model = model.fit(train_generator,validation_data=validate_generator,steps_per_epoch=100,epochs=100,validation_steps=50)"
      ],
      "execution_count": 8,
      "outputs": [
        {
          "output_type": "stream",
          "text": [
            "Epoch 1/100\n",
            "100/100 [==============================] - 735s 7s/step - loss: 0.6931 - acc: 0.5230 - val_loss: 0.6800 - val_acc: 0.5120\n",
            "Epoch 2/100\n",
            "100/100 [==============================] - 11s 109ms/step - loss: 0.6616 - acc: 0.6190 - val_loss: 0.6499 - val_acc: 0.6310\n",
            "Epoch 3/100\n",
            "100/100 [==============================] - 11s 107ms/step - loss: 0.6246 - acc: 0.6525 - val_loss: 0.6272 - val_acc: 0.6610\n",
            "Epoch 4/100\n",
            "100/100 [==============================] - 11s 107ms/step - loss: 0.5807 - acc: 0.7030 - val_loss: 0.6115 - val_acc: 0.6720\n",
            "Epoch 5/100\n",
            "100/100 [==============================] - 11s 106ms/step - loss: 0.5427 - acc: 0.7275 - val_loss: 0.5850 - val_acc: 0.6940\n",
            "Epoch 6/100\n",
            "100/100 [==============================] - 11s 115ms/step - loss: 0.5094 - acc: 0.7530 - val_loss: 0.5809 - val_acc: 0.6890\n",
            "Epoch 7/100\n",
            "100/100 [==============================] - 11s 113ms/step - loss: 0.4823 - acc: 0.7765 - val_loss: 0.5838 - val_acc: 0.7040\n",
            "Epoch 8/100\n",
            "100/100 [==============================] - 11s 108ms/step - loss: 0.4489 - acc: 0.7980 - val_loss: 0.5816 - val_acc: 0.6950\n",
            "Epoch 9/100\n",
            "100/100 [==============================] - 11s 107ms/step - loss: 0.4188 - acc: 0.8020 - val_loss: 0.5470 - val_acc: 0.7140\n",
            "Epoch 10/100\n",
            "100/100 [==============================] - 11s 106ms/step - loss: 0.4004 - acc: 0.8200 - val_loss: 0.5665 - val_acc: 0.7280\n",
            "Epoch 11/100\n",
            "100/100 [==============================] - 11s 107ms/step - loss: 0.3645 - acc: 0.8435 - val_loss: 0.6141 - val_acc: 0.6990\n",
            "Epoch 12/100\n",
            "100/100 [==============================] - 12s 116ms/step - loss: 0.3434 - acc: 0.8500 - val_loss: 0.6025 - val_acc: 0.7170\n",
            "Epoch 13/100\n",
            "100/100 [==============================] - 11s 114ms/step - loss: 0.3225 - acc: 0.8620 - val_loss: 0.5437 - val_acc: 0.7400\n",
            "Epoch 14/100\n",
            "100/100 [==============================] - 11s 110ms/step - loss: 0.2897 - acc: 0.8835 - val_loss: 0.6056 - val_acc: 0.7370\n",
            "Epoch 15/100\n",
            "100/100 [==============================] - 11s 107ms/step - loss: 0.2737 - acc: 0.8870 - val_loss: 0.5861 - val_acc: 0.7330\n",
            "Epoch 16/100\n",
            "100/100 [==============================] - 11s 107ms/step - loss: 0.2478 - acc: 0.9005 - val_loss: 0.7182 - val_acc: 0.6990\n",
            "Epoch 17/100\n",
            "100/100 [==============================] - 11s 106ms/step - loss: 0.2319 - acc: 0.9035 - val_loss: 0.6568 - val_acc: 0.7150\n",
            "Epoch 18/100\n",
            "100/100 [==============================] - 11s 114ms/step - loss: 0.2056 - acc: 0.9245 - val_loss: 0.5877 - val_acc: 0.7470\n",
            "Epoch 19/100\n",
            "100/100 [==============================] - 11s 114ms/step - loss: 0.1901 - acc: 0.9345 - val_loss: 0.6891 - val_acc: 0.7380\n",
            "Epoch 20/100\n",
            "100/100 [==============================] - 11s 109ms/step - loss: 0.1590 - acc: 0.9470 - val_loss: 0.6479 - val_acc: 0.7560\n",
            "Epoch 21/100\n",
            "100/100 [==============================] - 11s 106ms/step - loss: 0.1427 - acc: 0.9495 - val_loss: 0.6831 - val_acc: 0.7610\n",
            "Epoch 22/100\n",
            "100/100 [==============================] - 11s 106ms/step - loss: 0.1247 - acc: 0.9625 - val_loss: 0.7127 - val_acc: 0.7420\n",
            "Epoch 23/100\n",
            "100/100 [==============================] - 11s 106ms/step - loss: 0.1097 - acc: 0.9605 - val_loss: 0.7946 - val_acc: 0.7400\n",
            "Epoch 24/100\n",
            "100/100 [==============================] - 11s 113ms/step - loss: 0.1009 - acc: 0.9680 - val_loss: 0.7470 - val_acc: 0.7420\n",
            "Epoch 25/100\n",
            "100/100 [==============================] - 11s 113ms/step - loss: 0.0821 - acc: 0.9755 - val_loss: 0.8006 - val_acc: 0.7450\n",
            "Epoch 26/100\n",
            "100/100 [==============================] - 11s 109ms/step - loss: 0.0720 - acc: 0.9800 - val_loss: 0.8216 - val_acc: 0.7420\n",
            "Epoch 27/100\n",
            "100/100 [==============================] - 11s 107ms/step - loss: 0.0571 - acc: 0.9860 - val_loss: 1.0828 - val_acc: 0.7360\n",
            "Epoch 28/100\n",
            "100/100 [==============================] - 11s 106ms/step - loss: 0.0533 - acc: 0.9820 - val_loss: 0.9365 - val_acc: 0.7460\n",
            "Epoch 29/100\n",
            "100/100 [==============================] - 11s 107ms/step - loss: 0.0405 - acc: 0.9890 - val_loss: 1.1214 - val_acc: 0.7260\n",
            "Epoch 30/100\n",
            "100/100 [==============================] - 11s 113ms/step - loss: 0.0470 - acc: 0.9865 - val_loss: 0.9501 - val_acc: 0.7460\n",
            "Epoch 31/100\n",
            "100/100 [==============================] - 11s 113ms/step - loss: 0.0267 - acc: 0.9950 - val_loss: 1.0595 - val_acc: 0.7410\n",
            "Epoch 32/100\n",
            "100/100 [==============================] - 11s 112ms/step - loss: 0.0302 - acc: 0.9930 - val_loss: 1.1669 - val_acc: 0.7240\n",
            "Epoch 33/100\n",
            "100/100 [==============================] - 11s 115ms/step - loss: 0.0259 - acc: 0.9920 - val_loss: 1.1434 - val_acc: 0.7490\n",
            "Epoch 34/100\n",
            "100/100 [==============================] - 11s 111ms/step - loss: 0.0230 - acc: 0.9930 - val_loss: 1.2268 - val_acc: 0.7500\n",
            "Epoch 35/100\n",
            "100/100 [==============================] - 11s 107ms/step - loss: 0.0203 - acc: 0.9945 - val_loss: 1.1821 - val_acc: 0.7490\n",
            "Epoch 36/100\n",
            "100/100 [==============================] - 11s 107ms/step - loss: 0.0183 - acc: 0.9950 - val_loss: 1.2452 - val_acc: 0.7480\n",
            "Epoch 37/100\n",
            "100/100 [==============================] - 11s 107ms/step - loss: 0.0151 - acc: 0.9970 - val_loss: 1.1887 - val_acc: 0.7520\n",
            "Epoch 38/100\n",
            "100/100 [==============================] - 11s 112ms/step - loss: 0.0132 - acc: 0.9960 - val_loss: 1.3094 - val_acc: 0.7380\n",
            "Epoch 39/100\n",
            "100/100 [==============================] - 12s 115ms/step - loss: 0.0115 - acc: 0.9970 - val_loss: 1.3707 - val_acc: 0.7420\n",
            "Epoch 40/100\n",
            "100/100 [==============================] - 11s 113ms/step - loss: 0.0168 - acc: 0.9960 - val_loss: 1.4151 - val_acc: 0.7510\n",
            "Epoch 41/100\n",
            "100/100 [==============================] - 11s 107ms/step - loss: 0.0125 - acc: 0.9955 - val_loss: 1.4384 - val_acc: 0.7510\n",
            "Epoch 42/100\n",
            "100/100 [==============================] - 11s 107ms/step - loss: 0.0205 - acc: 0.9940 - val_loss: 1.3559 - val_acc: 0.7440\n",
            "Epoch 43/100\n",
            "100/100 [==============================] - 11s 107ms/step - loss: 0.0156 - acc: 0.9955 - val_loss: 1.4497 - val_acc: 0.7460\n",
            "Epoch 44/100\n",
            "100/100 [==============================] - 11s 111ms/step - loss: 0.0108 - acc: 0.9945 - val_loss: 1.4227 - val_acc: 0.7500\n",
            "Epoch 45/100\n",
            "100/100 [==============================] - 11s 114ms/step - loss: 0.0144 - acc: 0.9975 - val_loss: 1.4698 - val_acc: 0.7620\n",
            "Epoch 46/100\n",
            "100/100 [==============================] - 11s 111ms/step - loss: 0.0136 - acc: 0.9950 - val_loss: 1.4821 - val_acc: 0.7420\n",
            "Epoch 47/100\n",
            "100/100 [==============================] - 11s 107ms/step - loss: 0.0072 - acc: 0.9975 - val_loss: 1.5448 - val_acc: 0.7530\n",
            "Epoch 48/100\n",
            "100/100 [==============================] - 11s 107ms/step - loss: 0.0062 - acc: 0.9985 - val_loss: 1.6217 - val_acc: 0.7390\n",
            "Epoch 49/100\n",
            "100/100 [==============================] - 13s 127ms/step - loss: 0.0059 - acc: 0.9980 - val_loss: 1.5910 - val_acc: 0.7350\n",
            "Epoch 50/100\n",
            "100/100 [==============================] - 11s 114ms/step - loss: 0.0065 - acc: 0.9975 - val_loss: 1.6464 - val_acc: 0.7450\n",
            "Epoch 51/100\n",
            "100/100 [==============================] - 11s 111ms/step - loss: 0.0040 - acc: 0.9980 - val_loss: 1.7815 - val_acc: 0.7520\n",
            "Epoch 52/100\n",
            "100/100 [==============================] - 11s 107ms/step - loss: 0.0088 - acc: 0.9970 - val_loss: 1.7164 - val_acc: 0.7390\n",
            "Epoch 53/100\n",
            "100/100 [==============================] - 11s 106ms/step - loss: 0.0014 - acc: 0.9995 - val_loss: 1.8529 - val_acc: 0.7500\n",
            "Epoch 54/100\n",
            "100/100 [==============================] - 11s 107ms/step - loss: 0.0069 - acc: 0.9970 - val_loss: 1.8576 - val_acc: 0.7490\n",
            "Epoch 55/100\n",
            "100/100 [==============================] - 11s 111ms/step - loss: 0.0083 - acc: 0.9970 - val_loss: 1.8632 - val_acc: 0.7550\n",
            "Epoch 56/100\n",
            "100/100 [==============================] - 11s 113ms/step - loss: 0.0094 - acc: 0.9970 - val_loss: 1.9312 - val_acc: 0.7370\n",
            "Epoch 57/100\n",
            "100/100 [==============================] - 11s 111ms/step - loss: 0.0041 - acc: 0.9985 - val_loss: 2.2719 - val_acc: 0.7210\n",
            "Epoch 58/100\n",
            "100/100 [==============================] - 11s 111ms/step - loss: 4.2490e-04 - acc: 1.0000 - val_loss: 2.0633 - val_acc: 0.7400\n",
            "Epoch 59/100\n",
            "100/100 [==============================] - 11s 114ms/step - loss: 0.0133 - acc: 0.9965 - val_loss: 1.9807 - val_acc: 0.7550\n",
            "Epoch 60/100\n",
            "100/100 [==============================] - 11s 113ms/step - loss: 0.0120 - acc: 0.9965 - val_loss: 1.9566 - val_acc: 0.7500\n",
            "Epoch 61/100\n",
            "100/100 [==============================] - 11s 107ms/step - loss: 0.0063 - acc: 0.9975 - val_loss: 1.9719 - val_acc: 0.7470\n",
            "Epoch 62/100\n",
            "100/100 [==============================] - 11s 106ms/step - loss: 0.0079 - acc: 0.9970 - val_loss: 2.0040 - val_acc: 0.7320\n",
            "Epoch 63/100\n",
            "100/100 [==============================] - 11s 106ms/step - loss: 0.0156 - acc: 0.9965 - val_loss: 1.9953 - val_acc: 0.7480\n",
            "Epoch 64/100\n",
            "100/100 [==============================] - 11s 111ms/step - loss: 1.7108e-04 - acc: 1.0000 - val_loss: 2.0427 - val_acc: 0.7470\n",
            "Epoch 65/100\n",
            "100/100 [==============================] - 11s 114ms/step - loss: 0.0057 - acc: 0.9975 - val_loss: 2.0664 - val_acc: 0.7430\n",
            "Epoch 66/100\n",
            "100/100 [==============================] - 11s 111ms/step - loss: 0.0054 - acc: 0.9970 - val_loss: 1.9860 - val_acc: 0.7550\n",
            "Epoch 67/100\n",
            "100/100 [==============================] - 11s 109ms/step - loss: 0.0120 - acc: 0.9965 - val_loss: 2.1307 - val_acc: 0.7470\n",
            "Epoch 68/100\n",
            "100/100 [==============================] - 11s 107ms/step - loss: 1.3603e-04 - acc: 1.0000 - val_loss: 2.2562 - val_acc: 0.7360\n",
            "Epoch 69/100\n",
            "100/100 [==============================] - 11s 107ms/step - loss: 0.0057 - acc: 0.9985 - val_loss: 2.2244 - val_acc: 0.7430\n",
            "Epoch 70/100\n",
            "100/100 [==============================] - 11s 111ms/step - loss: 0.0034 - acc: 0.9985 - val_loss: 2.1755 - val_acc: 0.7450\n",
            "Epoch 71/100\n",
            "100/100 [==============================] - 11s 114ms/step - loss: 0.0028 - acc: 0.9995 - val_loss: 2.2756 - val_acc: 0.7410\n",
            "Epoch 72/100\n",
            "100/100 [==============================] - 11s 111ms/step - loss: 0.0140 - acc: 0.9955 - val_loss: 2.2721 - val_acc: 0.7160\n",
            "Epoch 73/100\n",
            "100/100 [==============================] - 11s 106ms/step - loss: 3.6139e-04 - acc: 1.0000 - val_loss: 2.2255 - val_acc: 0.7480\n",
            "Epoch 74/100\n",
            "100/100 [==============================] - 11s 106ms/step - loss: 0.0090 - acc: 0.9980 - val_loss: 2.2260 - val_acc: 0.7460\n",
            "Epoch 75/100\n",
            "100/100 [==============================] - 11s 106ms/step - loss: 0.0149 - acc: 0.9980 - val_loss: 2.2784 - val_acc: 0.7330\n",
            "Epoch 76/100\n",
            "100/100 [==============================] - 11s 111ms/step - loss: 2.3041e-05 - acc: 1.0000 - val_loss: 2.3412 - val_acc: 0.7420\n",
            "Epoch 77/100\n",
            "100/100 [==============================] - 11s 114ms/step - loss: 0.0077 - acc: 0.9980 - val_loss: 2.4108 - val_acc: 0.7480\n",
            "Epoch 78/100\n",
            "100/100 [==============================] - 11s 111ms/step - loss: 0.0062 - acc: 0.9985 - val_loss: 2.2797 - val_acc: 0.7420\n",
            "Epoch 79/100\n",
            "100/100 [==============================] - 11s 107ms/step - loss: 0.0052 - acc: 0.9985 - val_loss: 2.3255 - val_acc: 0.7300\n",
            "Epoch 80/100\n",
            "100/100 [==============================] - 11s 106ms/step - loss: 0.0033 - acc: 0.9990 - val_loss: 2.2512 - val_acc: 0.7470\n",
            "Epoch 81/100\n",
            "100/100 [==============================] - 11s 106ms/step - loss: 5.3954e-05 - acc: 1.0000 - val_loss: 2.5601 - val_acc: 0.7230\n",
            "Epoch 82/100\n",
            "100/100 [==============================] - 11s 110ms/step - loss: 0.0076 - acc: 0.9990 - val_loss: 2.4571 - val_acc: 0.7370\n",
            "Epoch 83/100\n",
            "100/100 [==============================] - 11s 115ms/step - loss: 0.0137 - acc: 0.9965 - val_loss: 2.5886 - val_acc: 0.7430\n",
            "Epoch 84/100\n",
            "100/100 [==============================] - 11s 113ms/step - loss: 1.0198e-04 - acc: 1.0000 - val_loss: 2.5117 - val_acc: 0.7410\n",
            "Epoch 85/100\n",
            "100/100 [==============================] - 11s 106ms/step - loss: 0.0093 - acc: 0.9965 - val_loss: 2.6372 - val_acc: 0.7410\n",
            "Epoch 86/100\n",
            "100/100 [==============================] - 11s 107ms/step - loss: 4.5552e-05 - acc: 1.0000 - val_loss: 2.5590 - val_acc: 0.7440\n",
            "Epoch 87/100\n",
            "100/100 [==============================] - 11s 106ms/step - loss: 0.0063 - acc: 0.9990 - val_loss: 2.5293 - val_acc: 0.7340\n",
            "Epoch 88/100\n",
            "100/100 [==============================] - 11s 110ms/step - loss: 0.0143 - acc: 0.9975 - val_loss: 2.5070 - val_acc: 0.7430\n",
            "Epoch 89/100\n",
            "100/100 [==============================] - 11s 113ms/step - loss: 4.2650e-05 - acc: 1.0000 - val_loss: 2.5684 - val_acc: 0.7480\n",
            "Epoch 90/100\n",
            "100/100 [==============================] - 11s 112ms/step - loss: 0.0170 - acc: 0.9980 - val_loss: 2.6235 - val_acc: 0.7450\n",
            "Epoch 91/100\n",
            "100/100 [==============================] - 11s 110ms/step - loss: 1.1086e-05 - acc: 1.0000 - val_loss: 2.6122 - val_acc: 0.7420\n",
            "Epoch 92/100\n",
            "100/100 [==============================] - 11s 113ms/step - loss: 0.0013 - acc: 0.9995 - val_loss: 2.8472 - val_acc: 0.7440\n",
            "Epoch 93/100\n",
            "100/100 [==============================] - 11s 112ms/step - loss: 0.0033 - acc: 0.9990 - val_loss: 2.7646 - val_acc: 0.7290\n",
            "Epoch 94/100\n",
            "100/100 [==============================] - 11s 108ms/step - loss: 0.0045 - acc: 0.9985 - val_loss: 2.7102 - val_acc: 0.7390\n",
            "Epoch 95/100\n",
            "100/100 [==============================] - 11s 107ms/step - loss: 2.7055e-04 - acc: 1.0000 - val_loss: 2.8384 - val_acc: 0.7160\n",
            "Epoch 96/100\n",
            "100/100 [==============================] - 11s 108ms/step - loss: 0.0037 - acc: 0.9980 - val_loss: 2.6191 - val_acc: 0.7380\n",
            "Epoch 97/100\n",
            "100/100 [==============================] - 11s 114ms/step - loss: 0.0032 - acc: 0.9990 - val_loss: 3.3946 - val_acc: 0.7310\n",
            "Epoch 98/100\n",
            "100/100 [==============================] - 11s 114ms/step - loss: 0.0053 - acc: 0.9980 - val_loss: 2.8218 - val_acc: 0.7290\n",
            "Epoch 99/100\n",
            "100/100 [==============================] - 11s 107ms/step - loss: 5.7592e-05 - acc: 1.0000 - val_loss: 2.6626 - val_acc: 0.7460\n",
            "Epoch 100/100\n",
            "100/100 [==============================] - 11s 108ms/step - loss: 0.0072 - acc: 0.9975 - val_loss: 2.6331 - val_acc: 0.7230\n"
          ],
          "name": "stdout"
        }
      ]
    },
    {
      "cell_type": "markdown",
      "metadata": {
        "id": "2sGvjhYfuEGf"
      },
      "source": [
        "## Visualising the training"
      ]
    },
    {
      "cell_type": "code",
      "metadata": {
        "id": "K35OlDXI6xBW",
        "colab": {
          "base_uri": "https://localhost:8080/",
          "height": 283
        },
        "outputId": "fef34c0a-f486-4af6-bb9e-e0049dec8b23"
      },
      "source": [
        "pd.DataFrame(trained_model.history).plot()"
      ],
      "execution_count": 9,
      "outputs": [
        {
          "output_type": "execute_result",
          "data": {
            "text/plain": [
              "<matplotlib.axes._subplots.AxesSubplot at 0x7f4c6047ce50>"
            ]
          },
          "metadata": {
            "tags": []
          },
          "execution_count": 9
        },
        {
          "output_type": "display_data",
          "data": {
            "image/png": "[encoded data removed]",
            "text/plain": [
              "<Figure size 432x288 with 1 Axes>"
            ]
          },
          "metadata": {
            "tags": [],
            "needs_background": "light"
          }
        }
      ]
    },
    {
      "cell_type": "markdown",
      "metadata": {
        "id": "GLCMtZ3NuL_w"
      },
      "source": [
        "## Evaluating the "
      ]
    },
    {
      "cell_type": "code",
      "metadata": {
        "id": "yhOnvccq7mQf",
        "colab": {
          "base_uri": "https://localhost:8080/"
        },
        "outputId": "34c91257-6b84-46b3-8f05-1efc7b565f59"
      },
      "source": [
        "\n",
        "\n",
        "test_generator = validate_datagen.flow_from_directory(\n",
        "    test_dir,\n",
        "    target_size =(150,150),\n",
        "    class_mode = 'binary',\n",
        "    batch_size = 20\n",
        "\n",
        ")"
      ],
      "execution_count": 10,
      "outputs": [
        {
          "output_type": "stream",
          "text": [
            "Found 1010 images belonging to 2 classes.\n"
          ],
          "name": "stdout"
        }
      ]
    },
    {
      "cell_type": "code",
      "metadata": {
        "id": "tP3ky_2mG0RE",
        "colab": {
          "base_uri": "https://localhost:8080/"
        },
        "outputId": "7b96969d-c47d-49da-f3e3-0c341546724e"
      },
      "source": [
        "model.evaluate(test_generator,steps =50)"
      ],
      "execution_count": 11,
      "outputs": [
        {
          "output_type": "stream",
          "text": [
            "50/50 [==============================] - 231s 5s/step - loss: 2.6658 - acc: 0.7290\n"
          ],
          "name": "stdout"
        },
        {
          "output_type": "execute_result",
          "data": {
            "text/plain": [
              "[2.6658072471618652, 0.7289999723434448]"
            ]
          },
          "metadata": {
            "tags": []
          },
          "execution_count": 11
        }
      ]
    },
    {
      "cell_type": "markdown",
      "metadata": {
        "id": "w0plUVHZ2z3C"
      },
      "source": [
        "## Saving Model"
      ]
    },
    {
      "cell_type": "code",
      "metadata": {
        "id": "ASfmZHQP65U8"
      },
      "source": [
        "model.save('/content/drive/MyDrive/tensorflow/Untitled Folder/v1.h5')"
      ],
      "execution_count": 12,
      "outputs": []
    }
  ]
}