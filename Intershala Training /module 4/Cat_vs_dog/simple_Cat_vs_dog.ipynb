{
  "nbformat": 4,
  "nbformat_minor": 0,
  "metadata": {
    "orig_nbformat": 4,
    "language_info": {
      "name": "python",
      "version": "3.8.10",
      "mimetype": "text/x-python",
      "codemirror_mode": {
        "name": "ipython",
        "version": 3
      },
      "pygments_lexer": "ipython3",
      "nbconvert_exporter": "python",
      "file_extension": ".py"
    },
    "kernelspec": {
      "name": "python3",
      "display_name": "Python 3.8.10 64-bit ('Tensflow_m1': conda)"
    },
    "interpreter": {
      "hash": "d831c2d24441031cca94d340b013336142f7d1230b8c16f4f05968ed3e64b669"
    },
    "colab": {
      "name": "Cat_vs_dog.ipynb",
      "provenance": []
    },
    "accelerator": "GPU"
  },
  "cells": [
    {
      "cell_type": "code",
      "metadata": {
        "id": "NbKh6YViso3p",
        "outputId": "6f206aed-9648-42af-9ba4-b4bf743b89bc",
        "colab": {
          "base_uri": "https://localhost:8080/"
        }
      },
      "source": [
        "from google.colab import drive\n",
        "drive.mount('/content/drive')"
      ],
      "execution_count": 1,
      "outputs": [
        {
          "output_type": "stream",
          "text": [
            "Mounted at /content/drive\n"
          ],
          "name": "stdout"
        }
      ]
    },
    {
      "cell_type": "code",
      "metadata": {
        "id": "-Dd4t7qtr9Xq"
      },
      "source": [
        "import tensorflow as tf\n",
        "from tensorflow import keras \n",
        "import pandas as pd \n",
        "import matplotlib.pyplot as plt\n",
        "import numpy as np\n",
        "from tensorflow.keras.preprocessing.image import ImageDataGenerator\n",
        "from tensorflow.keras import models\n",
        "from tensorflow.keras import optimizers"
      ],
      "execution_count": 35,
      "outputs": []
    },
    {
      "cell_type": "code",
      "metadata": {
        "id": "ma5_1A1qtFEe"
      },
      "source": [
        "training_dir = '/content/drive/MyDrive/tensorflow/cat vs dog/cats_and_dogs/train'\n",
        "test_dir = '/content/drive/MyDrive/tensorflow/cat vs dog/cats_and_dogs/test'\n",
        "validate_dir = '/content/drive/MyDrive/tensorflow/cat vs dog/cats_and_dogs/validation'"
      ],
      "execution_count": 34,
      "outputs": []
    },
    {
      "cell_type": "code",
      "metadata": {
        "id": "V0KQB27Vu-dW",
        "outputId": "0854f693-ef33-45b4-bf23-c9108c6293b8",
        "colab": {
          "base_uri": "https://localhost:8080/"
        }
      },
      "source": [
        "train_datagen = ImageDataGenerator(rescale=1./255,\n",
        "                                   rotation_range = 40,\n",
        "                                   width_shift_range=0.2,\n",
        "                                   height_shift_range=0.2,\n",
        "                                   shear_range=0.2,\n",
        "                                   zoom_range = 0.2,\n",
        "                                   horizontal_flip=True)\n",
        "validate_datagen = ImageDataGenerator(rescale=1./255,\n",
        "                                      )\n",
        "\n",
        "train_generator = train_datagen.flow_from_directory(\n",
        "    training_dir, \n",
        "    target_size = (150,150), \n",
        "    class_mode = 'binary',\n",
        "    batch_size = 20\n",
        ")\n",
        "\n",
        "validate_generator = validate_datagen.flow_from_directory(\n",
        "    validate_dir,\n",
        "    target_size =(150,150),\n",
        "    class_mode = 'binary',\n",
        "    batch_size = 20\n",
        "\n",
        ")"
      ],
      "execution_count": 43,
      "outputs": [
        {
          "output_type": "stream",
          "text": [
            "Found 2000 images belonging to 2 classes.\n",
            "Found 1000 images belonging to 2 classes.\n"
          ],
          "name": "stdout"
        }
      ]
    },
    {
      "cell_type": "code",
      "metadata": {
        "id": "k8f1l3MDwhEV"
      },
      "source": [
        "model = models.Sequential([\n",
        "                          \n",
        "                          keras.layers.Conv2D(32,(3,3),activation='relu',input_shape = (150,150,3)),\n",
        "                          keras.layers.MaxPool2D(2,2),\n",
        "                          \n",
        "                          keras.layers.Conv2D(62,(3,3),activation='relu'),\n",
        "                          keras.layers.MaxPool2D(2,2),\n",
        "                           \n",
        "                          keras.layers.Conv2D(128,(3,3),activation='relu'),\n",
        "                          keras.layers.MaxPool2D(2,2),\n",
        "                          \n",
        "                          keras.layers.Conv2D(128,(3,3),activation='relu'),\n",
        "                          keras.layers.MaxPool2D(2,2),\n",
        "\n",
        "                          keras.layers.Flatten(),\n",
        "                          keras.layers.Dropout((0.5)),\n",
        "                          keras.layers.Dense(512,activation='relu'),\n",
        "                          keras.layers.Dense(1,activation='sigmoid')\n",
        "                          \n",
        "]\n",
        "    \n",
        ")"
      ],
      "execution_count": 44,
      "outputs": []
    },
    {
      "cell_type": "code",
      "metadata": {
        "id": "uuKcIZ8GyxHT",
        "outputId": "e823dc09-3c81-4e6f-e5e1-4520ad083612",
        "colab": {
          "base_uri": "https://localhost:8080/"
        }
      },
      "source": [
        "model.summary()"
      ],
      "execution_count": 45,
      "outputs": [
        {
          "output_type": "stream",
          "text": [
            "Model: \"sequential\"\n",
            "_________________________________________________________________\n",
            "Layer (type)                 Output Shape              Param #   \n",
            "=================================================================\n",
            "conv2d (Conv2D)              (None, 148, 148, 32)      896       \n",
            "_________________________________________________________________\n",
            "max_pooling2d (MaxPooling2D) (None, 74, 74, 32)        0         \n",
            "_________________________________________________________________\n",
            "conv2d_1 (Conv2D)            (None, 72, 72, 62)        17918     \n",
            "_________________________________________________________________\n",
            "max_pooling2d_1 (MaxPooling2 (None, 36, 36, 62)        0         \n",
            "_________________________________________________________________\n",
            "conv2d_2 (Conv2D)            (None, 34, 34, 128)       71552     \n",
            "_________________________________________________________________\n",
            "max_pooling2d_2 (MaxPooling2 (None, 17, 17, 128)       0         \n",
            "_________________________________________________________________\n",
            "conv2d_3 (Conv2D)            (None, 15, 15, 128)       147584    \n",
            "_________________________________________________________________\n",
            "max_pooling2d_3 (MaxPooling2 (None, 7, 7, 128)         0         \n",
            "_________________________________________________________________\n",
            "flatten (Flatten)            (None, 6272)              0         \n",
            "_________________________________________________________________\n",
            "dropout (Dropout)            (None, 6272)              0         \n",
            "_________________________________________________________________\n",
            "dense (Dense)                (None, 512)               3211776   \n",
            "_________________________________________________________________\n",
            "dense_1 (Dense)              (None, 1)                 513       \n",
            "=================================================================\n",
            "Total params: 3,450,239\n",
            "Trainable params: 3,450,239\n",
            "Non-trainable params: 0\n",
            "_________________________________________________________________\n"
          ],
          "name": "stdout"
        }
      ]
    },
    {
      "cell_type": "code",
      "metadata": {
        "id": "7vOSrYmLy0lA"
      },
      "source": [
        "model.compile(loss='binary_crossentropy',\n",
        "              optimizer=optimizers.RMSprop(learning_rate=1e-4),\n",
        "              metrics=['acc'])"
      ],
      "execution_count": 46,
      "outputs": []
    },
    {
      "cell_type": "code",
      "metadata": {
        "id": "tqirxXLr0Gdr",
        "outputId": "12291482-269e-4963-ac69-4ee362292ee9",
        "colab": {
          "base_uri": "https://localhost:8080/"
        }
      },
      "source": [
        "trained_model = model.fit(train_generator,validation_data=validate_generator,steps_per_epoch=100,epochs=100,validation_steps=10)"
      ],
      "execution_count": 47,
      "outputs": [
        {
          "output_type": "stream",
          "text": [
            "Epoch 1/100\n",
            "100/100 [==============================] - 17s 167ms/step - loss: 0.6936 - acc: 0.5135 - val_loss: 0.6790 - val_acc: 0.6350\n",
            "Epoch 2/100\n",
            "100/100 [==============================] - 17s 171ms/step - loss: 0.6867 - acc: 0.5430 - val_loss: 0.6826 - val_acc: 0.5350\n",
            "Epoch 3/100\n",
            "100/100 [==============================] - 18s 178ms/step - loss: 0.6775 - acc: 0.5765 - val_loss: 0.6802 - val_acc: 0.5300\n",
            "Epoch 4/100\n",
            "100/100 [==============================] - 17s 167ms/step - loss: 0.6688 - acc: 0.5775 - val_loss: 0.6250 - val_acc: 0.7000\n",
            "Epoch 5/100\n",
            "100/100 [==============================] - 16s 163ms/step - loss: 0.6549 - acc: 0.6135 - val_loss: 0.6801 - val_acc: 0.5850\n",
            "Epoch 6/100\n",
            "100/100 [==============================] - 17s 170ms/step - loss: 0.6425 - acc: 0.6230 - val_loss: 0.7138 - val_acc: 0.5250\n",
            "Epoch 7/100\n",
            "100/100 [==============================] - 17s 175ms/step - loss: 0.6299 - acc: 0.6345 - val_loss: 0.5975 - val_acc: 0.6800\n",
            "Epoch 8/100\n",
            "100/100 [==============================] - 16s 164ms/step - loss: 0.6243 - acc: 0.6420 - val_loss: 0.6309 - val_acc: 0.6200\n",
            "Epoch 9/100\n",
            "100/100 [==============================] - 16s 164ms/step - loss: 0.6191 - acc: 0.6580 - val_loss: 0.5684 - val_acc: 0.7400\n",
            "Epoch 10/100\n",
            "100/100 [==============================] - 17s 173ms/step - loss: 0.6016 - acc: 0.6795 - val_loss: 0.5844 - val_acc: 0.7050\n",
            "Epoch 11/100\n",
            "100/100 [==============================] - 17s 174ms/step - loss: 0.5914 - acc: 0.6890 - val_loss: 0.5645 - val_acc: 0.7200\n",
            "Epoch 12/100\n",
            "100/100 [==============================] - 16s 164ms/step - loss: 0.5916 - acc: 0.6900 - val_loss: 0.5603 - val_acc: 0.6850\n",
            "Epoch 13/100\n",
            "100/100 [==============================] - 16s 165ms/step - loss: 0.5889 - acc: 0.6885 - val_loss: 0.5265 - val_acc: 0.7300\n",
            "Epoch 14/100\n",
            "100/100 [==============================] - 17s 173ms/step - loss: 0.5877 - acc: 0.6830 - val_loss: 0.5747 - val_acc: 0.6750\n",
            "Epoch 15/100\n",
            "100/100 [==============================] - 17s 172ms/step - loss: 0.5787 - acc: 0.7040 - val_loss: 0.4913 - val_acc: 0.7850\n",
            "Epoch 16/100\n",
            "100/100 [==============================] - 16s 164ms/step - loss: 0.5683 - acc: 0.6990 - val_loss: 0.5752 - val_acc: 0.6700\n",
            "Epoch 17/100\n",
            "100/100 [==============================] - 17s 166ms/step - loss: 0.5622 - acc: 0.7105 - val_loss: 0.5087 - val_acc: 0.7400\n",
            "Epoch 18/100\n",
            "100/100 [==============================] - 17s 173ms/step - loss: 0.5550 - acc: 0.7245 - val_loss: 0.5099 - val_acc: 0.7450\n",
            "Epoch 19/100\n",
            "100/100 [==============================] - 17s 172ms/step - loss: 0.5609 - acc: 0.7100 - val_loss: 0.5430 - val_acc: 0.7250\n",
            "Epoch 20/100\n",
            "100/100 [==============================] - 18s 176ms/step - loss: 0.5440 - acc: 0.7225 - val_loss: 0.5581 - val_acc: 0.7200\n",
            "Epoch 21/100\n",
            "100/100 [==============================] - 17s 174ms/step - loss: 0.5588 - acc: 0.7020 - val_loss: 0.6410 - val_acc: 0.6850\n",
            "Epoch 22/100\n",
            "100/100 [==============================] - 17s 165ms/step - loss: 0.5478 - acc: 0.7240 - val_loss: 0.4384 - val_acc: 0.7950\n",
            "Epoch 23/100\n",
            "100/100 [==============================] - 16s 164ms/step - loss: 0.5415 - acc: 0.7335 - val_loss: 0.5023 - val_acc: 0.7350\n",
            "Epoch 24/100\n",
            "100/100 [==============================] - 18s 176ms/step - loss: 0.5281 - acc: 0.7415 - val_loss: 0.5301 - val_acc: 0.7350\n",
            "Epoch 25/100\n",
            "100/100 [==============================] - 17s 169ms/step - loss: 0.5491 - acc: 0.7240 - val_loss: 0.5245 - val_acc: 0.7250\n",
            "Epoch 26/100\n",
            "100/100 [==============================] - 16s 165ms/step - loss: 0.5466 - acc: 0.7185 - val_loss: 0.4896 - val_acc: 0.7450\n",
            "Epoch 27/100\n",
            "100/100 [==============================] - 16s 165ms/step - loss: 0.5280 - acc: 0.7245 - val_loss: 0.6031 - val_acc: 0.6550\n",
            "Epoch 28/100\n",
            "100/100 [==============================] - 18s 177ms/step - loss: 0.5397 - acc: 0.7270 - val_loss: 0.5184 - val_acc: 0.7600\n",
            "Epoch 29/100\n",
            "100/100 [==============================] - 17s 168ms/step - loss: 0.5191 - acc: 0.7465 - val_loss: 0.5570 - val_acc: 0.7200\n",
            "Epoch 30/100\n",
            "100/100 [==============================] - 16s 164ms/step - loss: 0.5263 - acc: 0.7385 - val_loss: 0.4611 - val_acc: 0.7850\n",
            "Epoch 31/100\n",
            "100/100 [==============================] - 17s 166ms/step - loss: 0.5271 - acc: 0.7280 - val_loss: 0.4608 - val_acc: 0.7600\n",
            "Epoch 32/100\n",
            "100/100 [==============================] - 18s 176ms/step - loss: 0.5121 - acc: 0.7520 - val_loss: 0.4461 - val_acc: 0.8050\n",
            "Epoch 33/100\n",
            "100/100 [==============================] - 17s 167ms/step - loss: 0.5206 - acc: 0.7345 - val_loss: 0.5229 - val_acc: 0.7450\n",
            "Epoch 34/100\n",
            "100/100 [==============================] - 17s 165ms/step - loss: 0.5076 - acc: 0.7515 - val_loss: 0.5433 - val_acc: 0.7100\n",
            "Epoch 35/100\n",
            "100/100 [==============================] - 17s 169ms/step - loss: 0.5100 - acc: 0.7545 - val_loss: 0.4952 - val_acc: 0.7500\n",
            "Epoch 36/100\n",
            "100/100 [==============================] - 18s 176ms/step - loss: 0.4984 - acc: 0.7565 - val_loss: 0.5631 - val_acc: 0.7250\n",
            "Epoch 37/100\n",
            "100/100 [==============================] - 17s 170ms/step - loss: 0.5033 - acc: 0.7520 - val_loss: 0.5125 - val_acc: 0.7650\n",
            "Epoch 38/100\n",
            "100/100 [==============================] - 18s 177ms/step - loss: 0.4968 - acc: 0.7620 - val_loss: 0.4689 - val_acc: 0.7600\n",
            "Epoch 39/100\n",
            "100/100 [==============================] - 17s 168ms/step - loss: 0.5148 - acc: 0.7370 - val_loss: 0.4503 - val_acc: 0.7650\n",
            "Epoch 40/100\n",
            "100/100 [==============================] - 16s 164ms/step - loss: 0.4940 - acc: 0.7635 - val_loss: 0.5087 - val_acc: 0.7300\n",
            "Epoch 41/100\n",
            "100/100 [==============================] - 17s 169ms/step - loss: 0.4879 - acc: 0.7595 - val_loss: 0.4207 - val_acc: 0.7900\n",
            "Epoch 42/100\n",
            "100/100 [==============================] - 18s 176ms/step - loss: 0.4834 - acc: 0.7675 - val_loss: 0.4681 - val_acc: 0.7850\n",
            "Epoch 43/100\n",
            "100/100 [==============================] - 16s 163ms/step - loss: 0.4819 - acc: 0.7775 - val_loss: 0.4981 - val_acc: 0.7300\n",
            "Epoch 44/100\n",
            "100/100 [==============================] - 16s 163ms/step - loss: 0.4861 - acc: 0.7860 - val_loss: 0.5255 - val_acc: 0.7200\n",
            "Epoch 45/100\n",
            "100/100 [==============================] - 17s 174ms/step - loss: 0.4797 - acc: 0.7770 - val_loss: 0.5105 - val_acc: 0.7650\n",
            "Epoch 46/100\n",
            "100/100 [==============================] - 17s 172ms/step - loss: 0.4745 - acc: 0.7715 - val_loss: 0.4958 - val_acc: 0.7950\n",
            "Epoch 47/100\n",
            "100/100 [==============================] - 16s 163ms/step - loss: 0.4852 - acc: 0.7570 - val_loss: 0.5092 - val_acc: 0.7400\n",
            "Epoch 48/100\n",
            "100/100 [==============================] - 16s 163ms/step - loss: 0.4688 - acc: 0.7800 - val_loss: 0.6124 - val_acc: 0.6950\n",
            "Epoch 49/100\n",
            "100/100 [==============================] - 18s 175ms/step - loss: 0.4726 - acc: 0.7745 - val_loss: 0.4379 - val_acc: 0.7950\n",
            "Epoch 50/100\n",
            "100/100 [==============================] - 17s 171ms/step - loss: 0.4619 - acc: 0.7765 - val_loss: 0.4431 - val_acc: 0.7700\n",
            "Epoch 51/100\n",
            "100/100 [==============================] - 17s 166ms/step - loss: 0.4691 - acc: 0.7725 - val_loss: 0.5185 - val_acc: 0.7150\n",
            "Epoch 52/100\n",
            "100/100 [==============================] - 17s 165ms/step - loss: 0.4771 - acc: 0.7735 - val_loss: 0.4883 - val_acc: 0.7850\n",
            "Epoch 53/100\n",
            "100/100 [==============================] - 18s 176ms/step - loss: 0.4601 - acc: 0.7645 - val_loss: 0.5121 - val_acc: 0.7550\n",
            "Epoch 54/100\n",
            "100/100 [==============================] - 17s 171ms/step - loss: 0.4624 - acc: 0.7750 - val_loss: 0.4764 - val_acc: 0.7950\n",
            "Epoch 55/100\n",
            "100/100 [==============================] - 16s 165ms/step - loss: 0.4462 - acc: 0.7985 - val_loss: 0.5030 - val_acc: 0.8050\n",
            "Epoch 56/100\n",
            "100/100 [==============================] - 17s 167ms/step - loss: 0.4629 - acc: 0.7795 - val_loss: 0.4616 - val_acc: 0.7900\n",
            "Epoch 57/100\n",
            "100/100 [==============================] - 18s 178ms/step - loss: 0.4531 - acc: 0.7970 - val_loss: 0.4112 - val_acc: 0.8050\n",
            "Epoch 58/100\n",
            "100/100 [==============================] - 17s 172ms/step - loss: 0.4547 - acc: 0.7840 - val_loss: 0.5054 - val_acc: 0.7400\n",
            "Epoch 59/100\n",
            "100/100 [==============================] - 18s 177ms/step - loss: 0.4472 - acc: 0.7780 - val_loss: 0.5327 - val_acc: 0.7400\n",
            "Epoch 60/100\n",
            "100/100 [==============================] - 17s 167ms/step - loss: 0.4619 - acc: 0.7790 - val_loss: 0.5313 - val_acc: 0.7650\n",
            "Epoch 61/100\n",
            "100/100 [==============================] - 16s 164ms/step - loss: 0.4546 - acc: 0.7805 - val_loss: 0.3751 - val_acc: 0.8100\n",
            "Epoch 62/100\n",
            "100/100 [==============================] - 17s 166ms/step - loss: 0.4419 - acc: 0.7940 - val_loss: 0.4486 - val_acc: 0.7850\n",
            "Epoch 63/100\n",
            "100/100 [==============================] - 18s 176ms/step - loss: 0.4384 - acc: 0.7945 - val_loss: 0.3891 - val_acc: 0.7900\n",
            "Epoch 64/100\n",
            "100/100 [==============================] - 17s 166ms/step - loss: 0.4548 - acc: 0.7835 - val_loss: 0.4996 - val_acc: 0.7550\n",
            "Epoch 65/100\n",
            "100/100 [==============================] - 16s 163ms/step - loss: 0.4413 - acc: 0.7960 - val_loss: 0.5600 - val_acc: 0.7550\n",
            "Epoch 66/100\n",
            "100/100 [==============================] - 17s 167ms/step - loss: 0.4411 - acc: 0.7950 - val_loss: 0.4870 - val_acc: 0.7850\n",
            "Epoch 67/100\n",
            "100/100 [==============================] - 18s 177ms/step - loss: 0.4302 - acc: 0.7990 - val_loss: 0.4942 - val_acc: 0.7650\n",
            "Epoch 68/100\n",
            "100/100 [==============================] - 17s 167ms/step - loss: 0.4365 - acc: 0.8000 - val_loss: 0.4132 - val_acc: 0.8200\n",
            "Epoch 69/100\n",
            "100/100 [==============================] - 16s 165ms/step - loss: 0.4247 - acc: 0.7985 - val_loss: 0.4586 - val_acc: 0.7900\n",
            "Epoch 70/100\n",
            "100/100 [==============================] - 17s 171ms/step - loss: 0.4315 - acc: 0.8035 - val_loss: 0.4988 - val_acc: 0.7800\n",
            "Epoch 71/100\n",
            "100/100 [==============================] - 18s 176ms/step - loss: 0.4191 - acc: 0.8050 - val_loss: 0.5096 - val_acc: 0.7800\n",
            "Epoch 72/100\n",
            "100/100 [==============================] - 17s 165ms/step - loss: 0.4330 - acc: 0.7920 - val_loss: 0.4985 - val_acc: 0.7800\n",
            "Epoch 73/100\n",
            "100/100 [==============================] - 17s 167ms/step - loss: 0.4204 - acc: 0.8030 - val_loss: 0.4373 - val_acc: 0.8050\n",
            "Epoch 74/100\n",
            "100/100 [==============================] - 17s 172ms/step - loss: 0.4323 - acc: 0.8065 - val_loss: 0.5133 - val_acc: 0.7750\n",
            "Epoch 75/100\n",
            "100/100 [==============================] - 18s 177ms/step - loss: 0.4111 - acc: 0.8055 - val_loss: 0.4312 - val_acc: 0.7900\n",
            "Epoch 76/100\n",
            "100/100 [==============================] - 17s 172ms/step - loss: 0.4098 - acc: 0.8125 - val_loss: 0.5040 - val_acc: 0.7700\n",
            "Epoch 77/100\n",
            "100/100 [==============================] - 17s 172ms/step - loss: 0.4210 - acc: 0.7960 - val_loss: 0.4670 - val_acc: 0.8150\n",
            "Epoch 78/100\n",
            "100/100 [==============================] - 16s 164ms/step - loss: 0.3953 - acc: 0.8170 - val_loss: 0.3875 - val_acc: 0.8250\n",
            "Epoch 79/100\n",
            "100/100 [==============================] - 16s 165ms/step - loss: 0.4153 - acc: 0.8095 - val_loss: 0.4879 - val_acc: 0.7800\n",
            "Epoch 80/100\n",
            "100/100 [==============================] - 18s 176ms/step - loss: 0.4202 - acc: 0.8020 - val_loss: 0.6987 - val_acc: 0.7250\n",
            "Epoch 81/100\n",
            "100/100 [==============================] - 17s 171ms/step - loss: 0.4192 - acc: 0.8065 - val_loss: 0.5246 - val_acc: 0.7500\n",
            "Epoch 82/100\n",
            "100/100 [==============================] - 16s 165ms/step - loss: 0.4102 - acc: 0.8075 - val_loss: 0.4730 - val_acc: 0.7700\n",
            "Epoch 83/100\n",
            "100/100 [==============================] - 16s 165ms/step - loss: 0.4128 - acc: 0.8030 - val_loss: 0.4583 - val_acc: 0.7900\n",
            "Epoch 84/100\n",
            "100/100 [==============================] - 18s 177ms/step - loss: 0.4048 - acc: 0.8140 - val_loss: 0.3867 - val_acc: 0.8500\n",
            "Epoch 85/100\n",
            "100/100 [==============================] - 17s 169ms/step - loss: 0.4300 - acc: 0.8050 - val_loss: 0.3436 - val_acc: 0.8600\n",
            "Epoch 86/100\n",
            "100/100 [==============================] - 16s 165ms/step - loss: 0.3939 - acc: 0.8190 - val_loss: 0.5090 - val_acc: 0.8050\n",
            "Epoch 87/100\n",
            "100/100 [==============================] - 17s 166ms/step - loss: 0.4071 - acc: 0.8100 - val_loss: 0.3625 - val_acc: 0.8400\n",
            "Epoch 88/100\n",
            "100/100 [==============================] - 18s 178ms/step - loss: 0.4027 - acc: 0.8145 - val_loss: 0.4968 - val_acc: 0.7550\n",
            "Epoch 89/100\n",
            "100/100 [==============================] - 17s 168ms/step - loss: 0.4035 - acc: 0.8195 - val_loss: 0.3376 - val_acc: 0.8500\n",
            "Epoch 90/100\n",
            "100/100 [==============================] - 16s 165ms/step - loss: 0.4003 - acc: 0.8195 - val_loss: 0.4374 - val_acc: 0.7950\n",
            "Epoch 91/100\n",
            "100/100 [==============================] - 17s 169ms/step - loss: 0.3859 - acc: 0.8285 - val_loss: 0.4747 - val_acc: 0.7700\n",
            "Epoch 92/100\n",
            "100/100 [==============================] - 18s 176ms/step - loss: 0.3845 - acc: 0.8290 - val_loss: 0.5925 - val_acc: 0.7650\n",
            "Epoch 93/100\n",
            "100/100 [==============================] - 17s 170ms/step - loss: 0.3867 - acc: 0.8280 - val_loss: 0.5091 - val_acc: 0.8000\n",
            "Epoch 94/100\n",
            "100/100 [==============================] - 17s 167ms/step - loss: 0.3894 - acc: 0.8265 - val_loss: 0.4274 - val_acc: 0.8200\n",
            "Epoch 95/100\n",
            "100/100 [==============================] - 17s 170ms/step - loss: 0.3870 - acc: 0.8270 - val_loss: 0.4843 - val_acc: 0.7850\n",
            "Epoch 96/100\n",
            "100/100 [==============================] - 18s 176ms/step - loss: 0.3986 - acc: 0.8225 - val_loss: 0.4193 - val_acc: 0.8050\n",
            "Epoch 97/100\n",
            "100/100 [==============================] - 17s 171ms/step - loss: 0.3900 - acc: 0.8295 - val_loss: 0.5519 - val_acc: 0.7700\n",
            "Epoch 98/100\n",
            "100/100 [==============================] - 19s 186ms/step - loss: 0.3827 - acc: 0.8320 - val_loss: 0.4186 - val_acc: 0.8250\n",
            "Epoch 99/100\n",
            "100/100 [==============================] - 17s 170ms/step - loss: 0.3914 - acc: 0.8220 - val_loss: 0.5306 - val_acc: 0.7950\n",
            "Epoch 100/100\n",
            "100/100 [==============================] - 17s 168ms/step - loss: 0.3768 - acc: 0.8295 - val_loss: 0.3861 - val_acc: 0.8500\n"
          ],
          "name": "stdout"
        }
      ]
    },
    {
      "cell_type": "code",
      "metadata": {
        "id": "K35OlDXI6xBW",
        "outputId": "d9597e2f-4cd7-481b-fa15-fc34fb801f91",
        "colab": {
          "base_uri": "https://localhost:8080/",
          "height": 282
        }
      },
      "source": [
        "pd.DataFrame(trained_model.history).plot()"
      ],
      "execution_count": 48,
      "outputs": [
        {
          "output_type": "execute_result",
          "data": {
            "text/plain": [
              "<matplotlib.axes._subplots.AxesSubplot at 0x7f670eee6950>"
            ]
          },
          "metadata": {
            "tags": []
          },
          "execution_count": 48
        },
        {
          "output_type": "display_data",
          "data": {
            "image/png": "[encoded data removed]",
            "text/plain": [
              "<Figure size 432x288 with 1 Axes>"
            ]
          },
          "metadata": {
            "tags": [],
            "needs_background": "light"
          }
        }
      ]
    },
    {
      "cell_type": "code",
      "metadata": {
        "id": "ASfmZHQP65U8"
      },
      "source": [
        "model.save('/content/drive/MyDrive/tensorflow/Untitled Folder/v2.h5')"
      ],
      "execution_count": 49,
      "outputs": []
    },
    {
      "cell_type": "code",
      "metadata": {
        "id": "yhOnvccq7mQf",
        "outputId": "9a05a88e-875f-45c0-b1ae-fa316ecf5601",
        "colab": {
          "base_uri": "https://localhost:8080/"
        }
      },
      "source": [
        "\n",
        "\n",
        "test_generator = validate_datagen.flow_from_directory(\n",
        "    test_dir,\n",
        "    target_size =(150,150),\n",
        "    class_mode = 'binary',\n",
        "    batch_size = 20\n",
        "\n",
        ")"
      ],
      "execution_count": 53,
      "outputs": [
        {
          "output_type": "stream",
          "text": [
            "Found 1010 images belonging to 2 classes.\n"
          ],
          "name": "stdout"
        }
      ]
    },
    {
      "cell_type": "code",
      "metadata": {
        "id": "tP3ky_2mG0RE",
        "outputId": "c7f4ef7c-13b8-4c23-9a65-30b4ed7f5d3c",
        "colab": {
          "base_uri": "https://localhost:8080/"
        }
      },
      "source": [
        "model.evaluate(test_generator,steps =50)"
      ],
      "execution_count": 54,
      "outputs": [
        {
          "output_type": "stream",
          "text": [
            "50/50 [==============================] - 298s 6s/step - loss: 0.4446 - acc: 0.8150\n"
          ],
          "name": "stdout"
        },
        {
          "output_type": "execute_result",
          "data": {
            "text/plain": [
              "[0.44459444284439087, 0.8149999976158142]"
            ]
          },
          "metadata": {
            "tags": []
          },
          "execution_count": 54
        }
      ]
    }
  ]
}