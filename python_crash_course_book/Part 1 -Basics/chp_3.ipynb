{
 "cells": [
  {
   "cell_type": "markdown",
   "metadata": {},
   "source": [
    "creating the list \"\"\"\n",
    "\n",
    "bicycle = ['trek','cannondale','redline','specialized']\n",
    "\n",
    "#printing the list\n",
    "\n",
    "print(bicycle)\n",
    "print(bicycle[1])\n",
    "print(bicycle[2].title())\n",
    "print(bicycle[-1])\n",
    "\n",
    "#using an individual value from the list\n",
    "\n",
    "message = f'my firswt bycyle is {bicycle[0]}'\n",
    "print(message.title())\n",
    "\n",
    "# try it urself\n",
    "print(\"-----try it your self-----\")\n",
    "print('q.3-1')\n",
    "friends = ['chinamy', ' ronak', 'jay','rutvik']\n",
    "print(friends)\n",
    "\n",
    "# q3-2\n",
    "print(\"q.3-2\")\n",
    "new_message = f'hello {friends[0]} my friend '\n",
    "print(new_message)\n",
    "\n",
    "print('-----------------------------------------------------------------------')\n",
    "#replacing to the list\n",
    "bike = ['honda','yamaha','suzuki']\n",
    "print(bike)\n",
    "bike[1] = 'ducati'\n",
    "print(bike)\n",
    "\n",
    "# adding to the end of list\n",
    "bike.append('yamaha')\n",
    "print(bike)\n",
    "\n",
    "# incerting at the particular position\n",
    "bike.insert(0,'tvs')\n",
    "print(bike)\n",
    "\n",
    "#removing element from the list\n",
    "print('-------------------------',bike,'-----------------')\n",
    "del bike[0]\n",
    "print(bike)\n",
    "\n",
    "#removing element by pop() method\n",
    "print('--------------------',bike,'-------------------')\n",
    "poped_bike = bike.pop(0)\n",
    "print(bike)\n",
    "print(poped_bike)\n",
    "\n",
    "#removing an item by value\n",
    "print('------',bike,\"--------\")\n",
    "bike.remove('ducati')\n",
    "print(bike)\n",
    "\n",
    "too_expencive = 'yamaha'\n",
    "bike.remove(too_expencive)\n",
    "print(bike)\n",
    "print(f'removed {too_expencive.title()} because it is beyound my buget')\n",
    "\n",
    "# try it yourself\n",
    "print('----try it yourself -----')\n",
    "print('q.3-4')\n",
    "guest_list = ['x','y','z']\n",
    "print('hello',guest_list)\n",
    "\n",
    "print('q3-5')\n",
    "print(f'guest name {guest_list[1]} can not attend ' )\n",
    "del guest_list[1]\n",
    "guest_list.insert(1,'p')\n",
    "print('new guest list ', guest_list)\n",
    "\n",
    "print('q.3-6')\n",
    "print('-----',guest_list,'-------')\n",
    "guest_list.insert(0,'a')\n",
    "guest_list.insert(2,'c')\n",
    "guest_list.append('e')\n",
    "print(guest_list)\n",
    "print('-----')\n",
    "i = len(guest_list)\n",
    "for i in range(4) :\n",
    "    poped_name = guest_list.pop(2)\n",
    "    print(guest_list)\n",
    "    print(poped_name)\n",
    "\n",
    "print('-----------------------------------------------------')\n",
    "cars = ['bmw','audi','toyota','mg']\n",
    "print(cars)\n",
    "print(sorted(cars))\n",
    "print(sorted(cars,reverse=True))\n",
    "new = f'{cars.sort()}'\n",
    "print(new)"
   ]
  },
  {
   "cell_type": "code",
   "execution_count": 1,
   "metadata": {
    "pycharm": {
     "name": "#%%\n"
    }
   },
   "outputs": [
    {
     "ename": "NameError",
     "evalue": "name 'cars' is not defined",
     "output_type": "error",
     "traceback": [
      "\u001B[0;31m---------------------------------------------------------------------------\u001B[0m",
      "\u001B[0;31mNameError\u001B[0m                                 Traceback (most recent call last)",
      "\u001B[0;32m<ipython-input-1-92a2154182d7>\u001B[0m in \u001B[0;36m<module>\u001B[0;34m\u001B[0m\n\u001B[0;32m----> 1\u001B[0;31m \u001B[0mprint\u001B[0m\u001B[0;34m(\u001B[0m\u001B[0mcars\u001B[0m\u001B[0;34m)\u001B[0m\u001B[0;34m\u001B[0m\u001B[0;34m\u001B[0m\u001B[0m\n\u001B[0m\u001B[1;32m      2\u001B[0m \u001B[0;34m\u001B[0m\u001B[0m\n",
      "\u001B[0;31mNameError\u001B[0m: name 'cars' is not defined"
     ]
    }
   ],
   "source": [
    "print(cars)\n"
   ]
  }
 ],
 "metadata": {
  "anaconda-cloud": {},
  "kernelspec": {
   "display_name": "Python 3",
   "language": "python",
   "name": "python3"
  },
  "language_info": {
   "codemirror_mode": {
    "name": "ipython",
    "version": 3
   },
   "file_extension": ".py",
   "mimetype": "text/x-python",
   "name": "python",
   "nbconvert_exporter": "python",
   "pygments_lexer": "ipython3",
   "version": "3.7.6"
  }
 },
 "nbformat": 4,
 "nbformat_minor": 4
}