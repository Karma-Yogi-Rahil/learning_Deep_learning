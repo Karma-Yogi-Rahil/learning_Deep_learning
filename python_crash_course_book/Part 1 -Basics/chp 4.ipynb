{
 "cells": [
  {
   "cell_type": "code",
   "execution_count": 1,
   "metadata": {
    "collapsed": true
   },
   "outputs": [
    {
     "name": "stdout",
     "output_type": "stream",
     "text": [
      "working with list\n"
     ]
    }
   ],
   "source": [
    "'''working with list'''\n",
    "print(\"working with list\")\n"
   ]
  },
  {
   "cell_type": "code",
   "execution_count": 2,
   "outputs": [
    {
     "name": "stdout",
     "output_type": "stream",
     "text": [
      "alice\n",
      "\n",
      " Alice, that was great trick\n",
      "davis\n",
      "\n",
      " Davis, that was great trick\n",
      "carolina\n",
      "\n",
      " Carolina, that was great trick\n"
     ]
    }
   ],
   "source": [
    "magician = ['alice','davis','carolina']\n",
    "for magic in magician :\n",
    "    print(magic)\n",
    "    print(f\"\\n {magic.title()}, that was great trick\")"
   ],
   "metadata": {
    "collapsed": false,
    "pycharm": {
     "name": "#%%\n"
    }
   }
  },
  {
   "cell_type": "code",
   "execution_count": 3,
   "outputs": [
    {
     "name": "stdout",
     "output_type": "stream",
     "text": [
      "------------------Try it yourslef----------------\n",
      "\n",
      " i like indian pizza\n",
      "\n",
      " i like pepo pizza\n",
      "\n",
      " i like margaret pizza\n",
      "i love pizzas\n"
     ]
    }
   ],
   "source": [
    "print(\"------------------Try it yourslef----------------\")\n",
    "pizza_list = ['indian','pepo','margaret']\n",
    "for pizza in pizza_list:\n",
    "    print('\\n i like',pizza,'pizza')\n",
    "print('i love pizzas')"
   ],
   "metadata": {
    "collapsed": false,
    "pycharm": {
     "name": "#%%\n"
    }
   }
  },
  {
   "cell_type": "code",
   "execution_count": 4,
   "outputs": [
    {
     "name": "stdout",
     "output_type": "stream",
     "text": [
      "2\n",
      "3\n",
      "4\n",
      "5\n",
      "6\n",
      "7\n",
      "8\n",
      "9\n",
      "10\n",
      "11\n",
      "12\n",
      "13\n",
      "14\n",
      "15\n",
      "16\n",
      "17\n",
      "18\n",
      "19\n"
     ]
    }
   ],
   "source": [
    "for value in range (2,20):\n",
    "    print(value)"
   ],
   "metadata": {
    "collapsed": false,
    "pycharm": {
     "name": "#%%\n"
    }
   }
  },
  {
   "cell_type": "code",
   "execution_count": 5,
   "outputs": [
    {
     "name": "stdout",
     "output_type": "stream",
     "text": [
      "[1, 2, 3, 4, 5, 6, 7, 8, 9, 10, 11, 12, 13, 14, 15, 16]\n"
     ]
    }
   ],
   "source": [
    "'''using range function '''\n",
    "number = list(range(1,17))\n",
    "print(number)"
   ],
   "metadata": {
    "collapsed": false,
    "pycharm": {
     "name": "#%%\n"
    }
   }
  },
  {
   "cell_type": "code",
   "execution_count": 6,
   "outputs": [
    {
     "name": "stdout",
     "output_type": "stream",
     "text": [
      "[1, 4, 9, 16, 25, 36, 49, 64, 81, 100]\n"
     ]
    }
   ],
   "source": [
    "'''T1'''\n",
    "squares = []\n",
    "for value in range(1,11):\n",
    "    square = value**2\n",
    "    squares.append(square)\n",
    "print(squares)"
   ],
   "metadata": {
    "collapsed": false,
    "pycharm": {
     "name": "#%%\n"
    }
   }
  },
  {
   "cell_type": "code",
   "execution_count": 7,
   "outputs": [
    {
     "name": "stdout",
     "output_type": "stream",
     "text": [
      "[1, 4, 9, 16, 25, 36, 49, 64, 81, 100]\n"
     ]
    }
   ],
   "source": [
    "'''T2'''\n",
    "square = []\n",
    "for values in range(1,11):\n",
    "    square.append(values**2)\n",
    "\n",
    "print(square)"
   ],
   "metadata": {
    "collapsed": false,
    "pycharm": {
     "name": "#%%\n"
    }
   }
  },
  {
   "cell_type": "code",
   "execution_count": 8,
   "outputs": [
    {
     "name": "stdout",
     "output_type": "stream",
     "text": [
      "100\n",
      "385\n",
      "1\n"
     ]
    }
   ],
   "source": [
    "print(max(square))\n",
    "print(sum(square))\n",
    "print(min(square))"
   ],
   "metadata": {
    "collapsed": false,
    "pycharm": {
     "name": "#%%\n"
    }
   }
  },
  {
   "cell_type": "code",
   "execution_count": 9,
   "outputs": [
    {
     "name": "stdout",
     "output_type": "stream",
     "text": [
      "[1, 4, 9, 16, 25, 36, 49, 64, 81, 100]\n"
     ]
    }
   ],
   "source": [
    "squares = [value**2 for value in range(1,11)]\n",
    "print(squares)\n"
   ],
   "metadata": {
    "collapsed": false,
    "pycharm": {
     "name": "#%%\n"
    }
   }
  },
  {
   "cell_type": "code",
   "execution_count": 10,
   "outputs": [
    {
     "name": "stdout",
     "output_type": "stream",
     "text": [
      "[3, 5, 7, 9, 11, 13, 15, 17, 19, 21]\n"
     ]
    }
   ],
   "source": [
    "number = []\n",
    "for numbers in range(1,20,2):\n",
    "    number.append(numbers+2)\n",
    "print(number)"
   ],
   "metadata": {
    "collapsed": false,
    "pycharm": {
     "name": "#%%\n"
    }
   }
  },
  {
   "cell_type": "code",
   "execution_count": 11,
   "outputs": [
    {
     "name": "stdout",
     "output_type": "stream",
     "text": [
      "4-3\n",
      "1\n",
      "2\n",
      "3\n",
      "4\n",
      "5\n",
      "6\n",
      "7\n",
      "8\n",
      "9\n",
      "10\n",
      "11\n",
      "12\n",
      "13\n",
      "14\n",
      "15\n",
      "16\n",
      "17\n",
      "18\n",
      "19\n",
      "20\n",
      "_____________________\n",
      "499999500000\n",
      "----------------4-7-----------------\n",
      "Multiple of 3 are\n",
      "[3, 6, 9, 12, 15, 18, 21, 24, 27, 30, 33, 36, 39, 42, 45, 48, 51, 54, 57, 60, 63, 66, 69, 72, 75, 78, 81, 84, 87]\n",
      "-------------------------4-8-------------\n",
      "cubs are \n",
      "1\n",
      "8\n",
      "27\n",
      "64\n",
      "125\n",
      "216\n",
      "343\n",
      "512\n",
      "729\n",
      "1000\n",
      "---------------------------4-9\n",
      "cubs are \n",
      "[1, 8, 27, 64, 125, 216, 343, 512, 729, 1000]\n"
     ]
    }
   ],
   "source": [
    "'''Try it your self '''\n",
    "\n",
    "print('4-3')\n",
    "for i in range(1,21):\n",
    "    print(i)\n",
    "\n",
    "'''print(\"4-4\")\n",
    "for i in range(1,1000):\n",
    "    print(i)'''\n",
    "sum_1 = []\n",
    "for num in range(1,1_000_000):\n",
    "    sum_1.append(num)\n",
    "\n",
    "print('_____________________')\n",
    "print(sum(sum_1))\n",
    "\n",
    "print('----------------4-7-----------------')\n",
    "multi = []\n",
    "print('Multiple of 3 are')\n",
    "for num in range(1,30):\n",
    "\n",
    "    multi.append(num*3)\n",
    "\n",
    "print(multi)\n",
    "\n",
    "print('-------------------------4-8-------------')\n",
    "\n",
    "print('cubs are ')\n",
    "for n in range(1,11):\n",
    "    print(n**3)\n",
    "\n",
    "\n",
    "print('---------------------------4-9')\n",
    "\n",
    "\n",
    "cube = []\n",
    "print('cubs are ')\n",
    "for n in range(1,11):\n",
    "    cube.append(n**3)\n",
    "print(cube)\n",
    "\n",
    "\n",
    "\n",
    "\n"
   ],
   "metadata": {
    "collapsed": false,
    "pycharm": {
     "name": "#%%\n"
    }
   }
  },
  {
   "cell_type": "code",
   "execution_count": 12,
   "outputs": [
    {
     "name": "stdout",
     "output_type": "stream",
     "text": [
      "['char', 'mart', 'michael']\n",
      "['mart', 'michael', 'florence']\n",
      "['char', 'mart', 'michael', 'florence']\n",
      "['michael', 'florence', 'eli']\n",
      "['florence', 'eli']\n",
      "Char\n",
      "Mart\n",
      "Michael\n"
     ]
    }
   ],
   "source": [
    "'''Slicing the list '''\n",
    "players = ['char','mart','michael','florence','eli']\n",
    "print(players[0:3])\n",
    "print(players[1:4])\n",
    "print(players[:4])\n",
    "print(players[2:])\n",
    "print(players[-2:])\n",
    "\n",
    "for player in players[:3]:\n",
    "    print(player.title())"
   ],
   "metadata": {
    "collapsed": false,
    "pycharm": {
     "name": "#%%\n"
    }
   }
  },
  {
   "cell_type": "code",
   "execution_count": 13,
   "outputs": [
    {
     "name": "stdout",
     "output_type": "stream",
     "text": [
      "--------------------try it yourself-----------\n",
      "----4-10---------------\n",
      "['indian', 'pepo', 'margaret']\n",
      "['indian', 'pepo', 'margaret', 'gene']\n",
      "['indian', 'pepo', 'margaret', 'amarican']\n"
     ]
    }
   ],
   "source": [
    "print('--------------------try it yourself-----------')\n",
    "print('----4-10---------------')\n",
    "frined_pizza = pizza_list[:3]\n",
    "print(frined_pizza)\n",
    "frined_pizza.append('gene')\n",
    "print(frined_pizza)\n",
    "pizza_list.append('amarican')\n",
    "print((pizza_list))"
   ],
   "metadata": {
    "collapsed": false,
    "pycharm": {
     "name": "#%%\n"
    }
   }
  },
  {
   "cell_type": "code",
   "execution_count": 13,
   "outputs": [],
   "source": [],
   "metadata": {
    "collapsed": false,
    "pycharm": {
     "name": "#%%\n"
    }
   }
  }
 ],
 "metadata": {
  "kernelspec": {
   "name": "python3",
   "language": "python",
   "display_name": "Python 3"
  },
  "language_info": {
   "codemirror_mode": {
    "name": "ipython",
    "version": 2
   },
   "file_extension": ".py",
   "mimetype": "text/x-python",
   "name": "python",
   "nbconvert_exporter": "python",
   "pygments_lexer": "ipython2",
   "version": "2.7.6"
  }
 },
 "nbformat": 4,
 "nbformat_minor": 0
}