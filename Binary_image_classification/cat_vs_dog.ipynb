{
  "nbformat": 4,
  "nbformat_minor": 0,
  "metadata": {
    "colab": {
      "name": "cat_vs_dog.ipynb",
      "provenance": [],
      "mount_file_id": "1sG-u33lSsVvcxCO4w92NqQPwp6pVm9FJ",
      "authorship_tag": "ABX9TyPAQQ+Y7HCmRfekCtdegYMx",
      "include_colab_link": true
    },
    "kernelspec": {
      "name": "python3",
      "display_name": "Python 3"
    },
    "language_info": {
      "name": "python"
    },
    "accelerator": "GPU"
  },
  "cells": [
    {
      "cell_type": "markdown",
      "metadata": {
        "id": "view-in-github",
        "colab_type": "text"
      },
      "source": [
        "<a href=\"https://colab.research.google.com/github/from-iqwerty-import-IQ/learning_Deep_learning/blob/master/cat_vs_dog.ipynb\" target=\"_parent\"><img src=\"https://colab.research.google.com/assets/colab-badge.svg\" alt=\"Open In Colab\"/></a>"
      ]
    },
    {
      "cell_type": "markdown",
      "metadata": {
        "id": "ITsyr5q1wKz4"
      },
      "source": [
        "# Cat vs dog "
      ]
    },
    {
      "cell_type": "markdown",
      "metadata": {
        "id": "ryrog79SslIb"
      },
      "source": [
        "### Importing all the libraries "
      ]
    },
    {
      "cell_type": "code",
      "metadata": {
        "id": "K9mHyM0FnHDi"
      },
      "source": [
        "import os \n",
        "import matplotlib.pyplot as plt\n",
        "import matplotlib.image as mpimg \n",
        "import tensorflow as tf \n",
        "from tensorflow import keras\n",
        "from tensorflow.keras.optimizers import RMSprop\n",
        "from tensorflow.keras.preprocessing.image import ImageDataGenerator\n"
      ],
      "execution_count": 1,
      "outputs": []
    },
    {
      "cell_type": "markdown",
      "metadata": {
        "id": "qQqDMYVss2uE"
      },
      "source": [
        "### Defining directories "
      ]
    },
    {
      "cell_type": "code",
      "metadata": {
        "id": "XZhklOVTqDD0"
      },
      "source": [
        "base_dir = '/content/drive/MyDrive/machine leararing /cat_vs_dog'\n",
        "training_dir = os.path.join(base_dir,'train')\n",
        "validation_dir = os.path.join(base_dir,'test')\n",
        "training_cat_dir = os.path.join(training_dir,'cat')\n",
        "training_dog_dir = os.path.join(training_dir,'dog')\n",
        "validation_cat_dir = os.path.join(validation_dir,'cat')\n",
        "validation_dog_dir = os.path.join(validation_dir,'dog')"
      ],
      "execution_count": 2,
      "outputs": []
    },
    {
      "cell_type": "markdown",
      "metadata": {
        "id": "Qag2k7V4u1uA"
      },
      "source": [
        "Finding the total images in Traing and test data set \n"
      ]
    },
    {
      "cell_type": "code",
      "metadata": {
        "colab": {
          "base_uri": "https://localhost:8080/"
        },
        "id": "B6zzBHgr52RU",
        "outputId": "320fad0b-ae2c-4d99-95ed-cfccf6d88067"
      },
      "source": [
        "print(validation_dir)\n",
        "print(training_dir)"
      ],
      "execution_count": 3,
      "outputs": [
        {
          "output_type": "stream",
          "text": [
            "/content/drive/MyDrive/machine leararing /cat_vs_dog/test\n",
            "/content/drive/MyDrive/machine leararing /cat_vs_dog/train\n"
          ],
          "name": "stdout"
        }
      ]
    },
    {
      "cell_type": "code",
      "metadata": {
        "colab": {
          "base_uri": "https://localhost:8080/"
        },
        "id": "D_jF7OugrvPl",
        "outputId": "a588f463-1a15-4560-f16a-189cb5c428f2"
      },
      "source": [
        "print('Total training image for cat are :',len(os.listdir(training_cat_dir)))\n",
        "print('Total training image for dog are :',len(os.listdir(training_dog_dir)))\n",
        "print('Total validation image for cat are :',len(os.listdir(validation_cat_dir)))\n",
        "print('Total validation image for cat are ',len(os.listdir(validation_dog_dir)))"
      ],
      "execution_count": 4,
      "outputs": [
        {
          "output_type": "stream",
          "text": [
            "Total training image for cat are : 12500\n",
            "Total training image for dog are : 12510\n",
            "Total validation image for cat are : 1011\n",
            "Total validation image for cat are  1012\n"
          ],
          "name": "stdout"
        }
      ]
    },
    {
      "cell_type": "markdown",
      "metadata": {
        "id": "AO2T3eHowBV5"
      },
      "source": [
        "## Lets see what the images look like "
      ]
    },
    {
      "cell_type": "code",
      "metadata": {
        "colab": {
          "base_uri": "https://localhost:8080/",
          "height": 34
        },
        "id": "0MoU-1dcwJFI",
        "outputId": "7dc379b0-a297-4d56-ea1a-6f0c64aa903b"
      },
      "source": [
        "pic_index = 0\n",
        "fig = plt.gcf()\n",
        "fig.set_size_inches(4*4, 4*4)\n",
        "pic_index+=8\n"
      ],
      "execution_count": 5,
      "outputs": [
        {
          "output_type": "display_data",
          "data": {
            "text/plain": [
              "<Figure size 1152x1152 with 0 Axes>"
            ]
          },
          "metadata": {
            "tags": []
          }
        }
      ]
    },
    {
      "cell_type": "code",
      "metadata": {
        "id": "6NLbrJ06y3xI"
      },
      "source": [
        "from tensorflow.python.keras.engine.sequential import relax_input_shape\n",
        "cat_vs_dog_model = tf.keras.models.Sequential([\n",
        "                                   tf.keras.layers.Conv2D(16,(3,3),activation='relu',input_shape = (150,150,3)),\n",
        "                                   tf.keras.layers.MaxPool2D(2,2),\n",
        "                                   tf.keras.layers.Conv2D(32,(3,3),activation = 'relu'),\n",
        "                                   tf.keras.layers.MaxPool2D(2,2),\n",
        "                                   tf.keras.layers.Conv2D(64,(3,3),activation = 'relu'),\n",
        "                                   tf.keras.layers.MaxPool2D(2,2),\n",
        "                                   tf.keras.layers.Flatten(),\n",
        "                                   tf.keras.layers.Dense(512,activation = 'relu'),\n",
        "                                   tf.keras.layers.Dense(1,activation = 'sigmoid')\n",
        "\n",
        "])"
      ],
      "execution_count": 6,
      "outputs": []
    },
    {
      "cell_type": "code",
      "metadata": {
        "colab": {
          "base_uri": "https://localhost:8080/"
        },
        "id": "FlnzDhJg0hJf",
        "outputId": "bea4be9e-8d51-47cc-9b91-265ffae2349d"
      },
      "source": [
        "cat_vs_dog_model.summary()"
      ],
      "execution_count": 7,
      "outputs": [
        {
          "output_type": "stream",
          "text": [
            "Model: \"sequential\"\n",
            "_________________________________________________________________\n",
            "Layer (type)                 Output Shape              Param #   \n",
            "=================================================================\n",
            "conv2d (Conv2D)              (None, 148, 148, 16)      448       \n",
            "_________________________________________________________________\n",
            "max_pooling2d (MaxPooling2D) (None, 74, 74, 16)        0         \n",
            "_________________________________________________________________\n",
            "conv2d_1 (Conv2D)            (None, 72, 72, 32)        4640      \n",
            "_________________________________________________________________\n",
            "max_pooling2d_1 (MaxPooling2 (None, 36, 36, 32)        0         \n",
            "_________________________________________________________________\n",
            "conv2d_2 (Conv2D)            (None, 34, 34, 64)        18496     \n",
            "_________________________________________________________________\n",
            "max_pooling2d_2 (MaxPooling2 (None, 17, 17, 64)        0         \n",
            "_________________________________________________________________\n",
            "flatten (Flatten)            (None, 18496)             0         \n",
            "_________________________________________________________________\n",
            "dense (Dense)                (None, 512)               9470464   \n",
            "_________________________________________________________________\n",
            "dense_1 (Dense)              (None, 1)                 513       \n",
            "=================================================================\n",
            "Total params: 9,494,561\n",
            "Trainable params: 9,494,561\n",
            "Non-trainable params: 0\n",
            "_________________________________________________________________\n"
          ],
          "name": "stdout"
        }
      ]
    },
    {
      "cell_type": "code",
      "metadata": {
        "id": "3CD7Oqkf04mm"
      },
      "source": [
        "cat_vs_dog_model.compile(optimizer=RMSprop(learning_rate = 0.002),loss = 'binary_crossentropy',metrics= ['accuracy'])"
      ],
      "execution_count": 8,
      "outputs": []
    },
    {
      "cell_type": "markdown",
      "metadata": {
        "id": "4f4R4jip1iYQ"
      },
      "source": [
        "data prepossing "
      ]
    },
    {
      "cell_type": "code",
      "metadata": {
        "colab": {
          "base_uri": "https://localhost:8080/"
        },
        "id": "l8B66B_r1ldl",
        "outputId": "ec47d801-a654-4093-b89b-b5613dfb3d68"
      },
      "source": [
        "\n",
        "train_datagen = ImageDataGenerator(rescale = 1.0/255)\n",
        "validator_datagen = ImageDataGenerator(rescale = 1.0/255)\n",
        "\n",
        "train_generator = train_datagen.flow_from_directory(training_dir,\n",
        "                                                    batch_size=30,\n",
        "                                                    target_size= (150,150),\n",
        "                                                    class_mode= 'binary')\n",
        "\n",
        "vaildate_generator = validator_datagen.flow_from_directory(validation_dir,\n",
        "                                                       batch_size=20,\n",
        "                                                       target_size=(150,150),\n",
        "                                                       class_mode = 'binary')"
      ],
      "execution_count": 9,
      "outputs": [
        {
          "output_type": "stream",
          "text": [
            "Found 25010 images belonging to 2 classes.\n",
            "Found 2023 images belonging to 2 classes.\n"
          ],
          "name": "stdout"
        }
      ]
    },
    {
      "cell_type": "markdown",
      "metadata": {
        "id": "QoEb_X4I6Va4"
      },
      "source": [
        "Traing the model "
      ]
    },
    {
      "cell_type": "code",
      "metadata": {
        "colab": {
          "base_uri": "https://localhost:8080/"
        },
        "id": "e-8oIMZ36TFW",
        "outputId": "c8864e0d-ec4c-44d2-d5ad-dae43645770e"
      },
      "source": [
        "history = cat_vs_dog_model.fit(train_generator,\n",
        "                               validation_data=vaildate_generator,\n",
        "                               steps_per_epoch=20,\n",
        "                               epochs = 15,\n",
        "                               validation_steps=20,)"
      ],
      "execution_count": 12,
      "outputs": [
        {
          "output_type": "stream",
          "text": [
            "Epoch 1/15\n",
            "20/20 [==============================] - 233s 12s/step - loss: 0.7082 - accuracy: 0.5467 - val_loss: 0.6891 - val_accuracy: 0.4940\n",
            "Epoch 2/15\n",
            "20/20 [==============================] - 227s 12s/step - loss: 0.6932 - accuracy: 0.5667 - val_loss: 0.6838 - val_accuracy: 0.5310\n",
            "Epoch 3/15\n",
            "20/20 [==============================] - 183s 9s/step - loss: 0.7337 - accuracy: 0.5533 - val_loss: 0.6558 - val_accuracy: 0.6310\n",
            "Epoch 4/15\n",
            "20/20 [==============================] - 148s 7s/step - loss: 0.6733 - accuracy: 0.5633 - val_loss: 0.6472 - val_accuracy: 0.6140\n",
            "Epoch 5/15\n",
            "20/20 [==============================] - 131s 7s/step - loss: 0.6753 - accuracy: 0.5917 - val_loss: 0.6644 - val_accuracy: 0.6170\n",
            "Epoch 6/15\n",
            "20/20 [==============================] - 124s 6s/step - loss: 0.7088 - accuracy: 0.6200 - val_loss: 0.6450 - val_accuracy: 0.6230\n",
            "Epoch 7/15\n",
            "20/20 [==============================] - 113s 6s/step - loss: 0.6834 - accuracy: 0.6117 - val_loss: 0.6485 - val_accuracy: 0.6390\n",
            "Epoch 8/15\n",
            "20/20 [==============================] - 101s 5s/step - loss: 0.6727 - accuracy: 0.6183 - val_loss: 0.6361 - val_accuracy: 0.6600\n",
            "Epoch 9/15\n",
            "20/20 [==============================] - 103s 5s/step - loss: 0.6801 - accuracy: 0.6033 - val_loss: 0.6288 - val_accuracy: 0.6720\n",
            "Epoch 10/15\n",
            "20/20 [==============================] - 114s 6s/step - loss: 0.6364 - accuracy: 0.6567 - val_loss: 0.6116 - val_accuracy: 0.6650\n",
            "Epoch 11/15\n",
            "20/20 [==============================] - 101s 5s/step - loss: 0.6245 - accuracy: 0.6559 - val_loss: 0.6892 - val_accuracy: 0.5910\n",
            "Epoch 12/15\n",
            "20/20 [==============================] - 97s 5s/step - loss: 0.6532 - accuracy: 0.6583 - val_loss: 0.6753 - val_accuracy: 0.5690\n",
            "Epoch 13/15\n",
            "20/20 [==============================] - 92s 5s/step - loss: 0.6286 - accuracy: 0.6508 - val_loss: 0.5735 - val_accuracy: 0.7040\n",
            "Epoch 14/15\n",
            "20/20 [==============================] - 93s 5s/step - loss: 0.6168 - accuracy: 0.6867 - val_loss: 0.5971 - val_accuracy: 0.6830\n",
            "Epoch 15/15\n",
            "20/20 [==============================] - 91s 5s/step - loss: 0.5983 - accuracy: 0.6867 - val_loss: 0.7646 - val_accuracy: 0.5650\n"
          ],
          "name": "stdout"
        }
      ]
    },
    {
      "cell_type": "code",
      "metadata": {
        "id": "ddgl909fCwWT"
      },
      "source": [
        "cat_vs_dog_model.save(\"/content/drive/MyDrive/machine leararing /cat_vs_dog/model.h5\")"
      ],
      "execution_count": 18,
      "outputs": []
    }
  ]
}