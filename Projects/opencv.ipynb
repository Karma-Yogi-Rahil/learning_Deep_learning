{
 "cells": [
  {
   "cell_type": "code",
   "execution_count": null,
   "metadata": {
    "id": "ho6ZQ3QqH_rp"
   },
   "outputs": [],
   "source": []
  },
  {
   "cell_type": "code",
   "execution_count": null,
   "metadata": {
    "id": "BWdqzdJVIOGW"
   },
   "outputs": [],
   "source": []
  },
  {
   "cell_type": "code",
   "execution_count": null,
   "metadata": {
    "colab": {
     "base_uri": "https://localhost:8080/"
    },
    "id": "U2S5mrlvIiRl",
    "outputId": "b9523c43-e0bf-40fd-f2c8-975638d03340"
   },
   "outputs": [],
   "source": []
  },
  {
   "cell_type": "code",
   "execution_count": 3,
   "metadata": {
    "id": "17UpFS81I-eW"
   },
   "outputs": [],
   "source": [
    "import re\n",
    "import cv2\n",
    "import numpy as np\n",
    "\n",
    "import tensorflow.lite as tflite\n",
    "# import tflite_runtime.interpreter as tflite\n",
    "\n",
    "from PIL import Image"
   ]
  },
  {
   "cell_type": "code",
   "execution_count": 4,
   "metadata": {
    "id": "F4irAC-WI-a4"
   },
   "outputs": [],
   "source": [
    "def load_labels():\n",
    "    r\"\"\"Returns a list of labels\"\"\"\n",
    "    labels = {0:\"10\",\n",
    "              1:'20',\n",
    "              2:'50',\n",
    "              3:'100',\n",
    "              4:'200',\n",
    "              5:'500',\n",
    "              6:'2000'\n",
    "             }\n",
    "    '''with open(label_path) as f:\n",
    "        labels = {}\n",
    "        for line in f.readlines():\n",
    "            m = re.match(r\"(\\d+)\\s+(\\w+)\", line.strip())\n",
    "            labels[int(m.group(1))] = m.group(2)'''\n",
    "    return labels"
   ]
  },
  {
   "cell_type": "code",
   "execution_count": 5,
   "metadata": {
    "id": "9-dVzWb-I-XT"
   },
   "outputs": [],
   "source": [
    "def load_model(model_path):\n",
    "    r\"\"\"Load TFLite model, returns a Interpreter instance.\"\"\"\n",
    "    interpreter = tflite.Interpreter(model_path=model_path)\n",
    "    interpreter.allocate_tensors()\n",
    "    return interpreter\n"
   ]
  },
  {
   "cell_type": "code",
   "execution_count": 6,
   "metadata": {
    "id": "FAejUvGnI-TK"
   },
   "outputs": [],
   "source": [
    "def process_image(interpreter, image, input_index):\n",
    "    r\"\"\"Process an image, Return a list of detected class ids and positions\"\"\"\n",
    "    input_data = np.expand_dims(image, axis=0)  # expand to 4-dim\n",
    "\n",
    "    # Process\n",
    "    interpreter.set_tensor(input_index, input_data)\n",
    "    interpreter.invoke()\n",
    "\n",
    "    # Get outputs\n",
    "    output_details = interpreter.get_output_details()\n",
    "    # print(output_details)\n",
    "    # output_details[0] - position\n",
    "    # output_details[1] - class id\n",
    "    # output_details[2] - score\n",
    "    # output_details[3] - count\n",
    "    \n",
    "    positions = np.squeeze(interpreter.get_tensor(output_details[0]['index']))\n",
    "    classes = np.squeeze(interpreter.get_tensor(output_details[1]['index']))\n",
    "    scores = np.squeeze(interpreter.get_tensor(output_details[2]['index']))\n",
    "\n",
    "    result = []\n",
    "\n",
    "    for idx, score in enumerate(scores):\n",
    "        if score > 0.5:\n",
    "            result.append({'pos': positions[idx], '_id': classes[idx] })\n",
    "\n",
    "    return result"
   ]
  },
  {
   "cell_type": "code",
   "execution_count": 7,
   "metadata": {
    "id": "EUB2_cnDI-MK"
   },
   "outputs": [],
   "source": [
    "\n",
    "def display_result(result, frame, labels):\n",
    "    r\"\"\"Display Detected Objects\"\"\"\n",
    "    font = cv2.FONT_HERSHEY_SIMPLEX\n",
    "    size = 0.75\n",
    "    color = (255,0,0)  # Blue color\n",
    "    thickness = 1\n",
    "\n",
    "    # position = [ymin, xmin, ymax, xmax]\n",
    "    # x * IMAGE_WIDTH\n",
    "    # y * IMAGE_HEIGHT\n",
    "    width = frame.shape[1]\n",
    "    height = frame.shape[0]\n",
    "\n",
    "    for obj in result:\n",
    "        pos = obj['pos']\n",
    "        _id = obj['_id']\n",
    "\n",
    "        x1 = int(pos[1] * width)\n",
    "        x2 = int(pos[3] * width)\n",
    "        y1 = int(pos[0] * height)\n",
    "        y2 = int(pos[2] * height)\n",
    "\n",
    "        cv2.putText(frame, labels[_id], (x1, y1), font, size, color, thickness)\n",
    "        cv2.rectangle(frame, (x1, y1), (x2, y2), color, thickness)\n",
    "\n",
    "    cv2.imshow('Object Detection', frame)\n"
   ]
  },
  {
   "cell_type": "code",
   "execution_count": null,
   "metadata": {
    "id": "jeGlB9kyI-A9"
   },
   "outputs": [],
   "source": []
  },
  {
   "cell_type": "code",
   "execution_count": 18,
   "metadata": {
    "colab": {
     "base_uri": "https://localhost:8080/",
     "height": 443
    },
    "id": "OHNS7hWlGQsL",
    "outputId": "ba144b80-4606-483d-d3f4-2591f8bdfb24"
   },
   "outputs": [],
   "source": [
    "\"\"\"\n",
    "Run object detection on images, Press ESC to exit the program\n",
    "For Raspberry PI, please use `import tflite_runtime.interpreter as tflite` instead\n",
    "\"\"\"\n",
    "\n",
    "\n",
    "\n",
    "if __name__ == \"__main__\":\n",
    "\n",
    "    model_path = '/Volumes/My Main Drive/Final Year project /currency test/model-2.tflite'\n",
    "    #label_path = \n",
    "    image_path = '/Volumes/My Main Drive/Final Year project /currency test/test image /ius.jpeg'\n",
    "    #image_path = '/Volumes/My Main Drive/Final Year project /currency test/test image'+input(\"imsge Name\")\n",
    "\n",
    "    interpreter = load_model(model_path)\n",
    "    labels = load_labels()\n",
    "\n",
    "    input_details = interpreter.get_input_details()\n",
    "    # Get Width and Height\n",
    "    input_shape = input_details[0]['shape']\n",
    "    height = input_shape[1]\n",
    "    width = input_shape[2]\n",
    "\n",
    "    # Get input index\n",
    "    input_index = input_details[0]['index']\n",
    "\n",
    "    frame = cv2.imread(image_path, cv2.IMREAD_COLOR)\n",
    "    #print(frame.shape)\n",
    "\n",
    "    image = Image.fromarray(cv2.cvtColor(frame, cv2.COLOR_BGR2RGB))\n",
    "    image = image.resize((width, height))\n",
    "\n",
    "    top_result = process_image(interpreter, image, input_index)\n",
    "    display_result(top_result, frame, labels)\n",
    "\n",
    "    key = cv2.waitKey(0)\n",
    "    if key == 27:  # esc\n",
    "        cv2.destroyAllWindows()"
   ]
  },
  {
   "cell_type": "code",
   "execution_count": null,
   "metadata": {},
   "outputs": [],
   "source": []
  }
 ],
 "metadata": {
  "colab": {
   "name": "opencv.ipynb",
   "provenance": []
  },
  "kernelspec": {
   "display_name": "Python 3 (ipykernel)",
   "language": "python",
   "name": "python3"
  },
  "language_info": {
   "codemirror_mode": {
    "name": "ipython",
    "version": 3
   },
   "file_extension": ".py",
   "mimetype": "text/x-python",
   "name": "python",
   "nbconvert_exporter": "python",
   "pygments_lexer": "ipython3",
   "version": "3.9.6"
  }
 },
 "nbformat": 4,
 "nbformat_minor": 1
}
