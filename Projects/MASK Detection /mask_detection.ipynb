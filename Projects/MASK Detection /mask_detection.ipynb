{
  "nbformat": 4,
  "nbformat_minor": 0,
  "metadata": {
    "orig_nbformat": 4,
    "language_info": {
      "name": "python",
      "version": "3.9.6",
      "mimetype": "text/x-python",
      "codemirror_mode": {
        "name": "ipython",
        "version": 3
      },
      "pygments_lexer": "ipython3",
      "nbconvert_exporter": "python",
      "file_extension": ".py"
    },
    "kernelspec": {
      "name": "python3",
      "display_name": "Python 3.9.6 64-bit ('homebrew_tensorflow': conda)"
    },
    "interpreter": {
      "hash": "c9f67f3b94ae9cf5992b10656b763979450b7c87f6f5d4ea2b00a68e35379d64"
    },
    "colab": {
      "name": "mask_detection.ipynb",
      "provenance": []
    },
    "accelerator": "GPU"
  },
  "cells": [
    {
      "cell_type": "code",
      "metadata": {
        "id": "vmrRGcp6r-_X",
        "outputId": "eeed9072-1740-4a49-bc2a-bfd993cef5cc",
        "colab": {
          "base_uri": "https://localhost:8080/"
        }
      },
      "source": [
        "from google.colab import drive\n",
        "drive.mount('/content/drive')"
      ],
      "execution_count": 1,
      "outputs": [
        {
          "output_type": "stream",
          "text": [
            "Mounted at /content/drive\n"
          ],
          "name": "stdout"
        }
      ]
    },
    {
      "cell_type": "markdown",
      "metadata": {
        "id": "KsRLzSWWyM9l"
      },
      "source": [
        "## Importing Libraries "
      ]
    },
    {
      "cell_type": "code",
      "metadata": {
        "id": "3lJ5RUPvoqmw"
      },
      "source": [
        "import tensorflow \n",
        "import numpy as np \n",
        "from tensorflow import keras \n",
        "from tensorflow.keras import models\n",
        "from tensorflow.keras import optimizers\n",
        "from tensorflow.keras import layers\n",
        "import pandas as pd \n",
        "import matplotlib.pyplot as plt \n",
        "from tensorflow.keras.applications import VGG16\n",
        "from tensorflow.keras.preprocessing.image import ImageDataGenerator"
      ],
      "execution_count": 2,
      "outputs": []
    },
    {
      "cell_type": "markdown",
      "metadata": {
        "id": "_8FVlNDqyUU3"
      },
      "source": [
        "## Importing the data set"
      ]
    },
    {
      "cell_type": "code",
      "metadata": {
        "id": "YBiKvC_7orNr"
      },
      "source": [
        "train_dir = '/content/drive/MyDrive/tensorflow/Mask Detetction/Final_Assignment_Face Mask Dataset/Train'\n",
        "test_dir = '/content/drive/MyDrive/tensorflow/Mask Detetction/Final_Assignment_Face Mask Dataset/Test'\n",
        "valid_dir = '/content/drive/MyDrive/tensorflow/Mask Detetction/Final_Assignment_Face Mask Dataset/Validation'\n"
      ],
      "execution_count": 3,
      "outputs": []
    },
    {
      "cell_type": "markdown",
      "metadata": {
        "id": "L6i7Pg52ydJx"
      },
      "source": [
        "## Data Prepossessing "
      ]
    },
    {
      "cell_type": "code",
      "metadata": {
        "id": "_NrdgkjtssTv"
      },
      "source": [
        "train_datagen = ImageDataGenerator(\n",
        "    rescale = (1./255),\n",
        "    rotation_range = 50,\n",
        "    horizontal_flip = True,\n",
        "    height_shift_range = 0.4,\n",
        "    width_shift_range = 0.4,\n",
        "    shear_range = 0.4,\n",
        ")\n",
        "\n",
        "valid_datagen = ImageDataGenerator(rescale=(1./255))\n"
      ],
      "execution_count": 4,
      "outputs": []
    },
    {
      "cell_type": "code",
      "metadata": {
        "id": "qclTw3VLup1r",
        "outputId": "ca9d7bf9-fe68-487b-ae8e-6c9a9fccb5e8",
        "colab": {
          "base_uri": "https://localhost:8080/"
        }
      },
      "source": [
        "train_generator = train_datagen.flow_from_directory(\n",
        "    train_dir,\n",
        "    target_size = (128,128),\n",
        "    class_mode = 'binary',\n",
        "    batch_size = 32\n",
        ")\n",
        "\n",
        "valid_generator = valid_datagen.flow_from_directory(\n",
        "    test_dir,\n",
        "    target_size = (128,128),\n",
        "    class_mode = 'binary',\n",
        "    batch_size = 32\n",
        ")"
      ],
      "execution_count": 20,
      "outputs": [
        {
          "output_type": "stream",
          "text": [
            "Found 10000 images belonging to 2 classes.\n",
            "Found 992 images belonging to 2 classes.\n"
          ],
          "name": "stdout"
        }
      ]
    },
    {
      "cell_type": "markdown",
      "metadata": {
        "id": "UEjBY4A2v2mT"
      },
      "source": [
        "## Building The Model"
      ]
    },
    {
      "cell_type": "markdown",
      "metadata": {
        "id": "j672tmwnypYY"
      },
      "source": [
        "### Using the VGG16 model\n",
        "using the VGG16 model's first part "
      ]
    },
    {
      "cell_type": "code",
      "metadata": {
        "id": "dxT00GX1vaWd",
        "outputId": "dc4a0f70-744c-4291-bf6c-fc05c01539a2",
        "colab": {
          "base_uri": "https://localhost:8080/"
        }
      },
      "source": [
        "convo_base = VGG16(weights='imagenet',\n",
        "                   input_shape = (128,128,3),\n",
        "                   include_top=False\n",
        "                   )"
      ],
      "execution_count": 8,
      "outputs": [
        {
          "output_type": "stream",
          "text": [
            "Downloading data from https://storage.googleapis.com/tensorflow/keras-applications/vgg16/vgg16_weights_tf_dim_ordering_tf_kernels_notop.h5\n",
            "58892288/58889256 [==============================] - 0s 0us/step\n",
            "58900480/58889256 [==============================] - 0s 0us/step\n"
          ],
          "name": "stdout"
        }
      ]
    },
    {
      "cell_type": "code",
      "metadata": {
        "id": "3mJbNfQ_vyHS",
        "outputId": "4bba7086-f623-45d4-c1b3-ac05edfa557f",
        "colab": {
          "base_uri": "https://localhost:8080/"
        }
      },
      "source": [
        "convo_base.summary()"
      ],
      "execution_count": 9,
      "outputs": [
        {
          "output_type": "stream",
          "text": [
            "Model: \"vgg16\"\n",
            "_________________________________________________________________\n",
            "Layer (type)                 Output Shape              Param #   \n",
            "=================================================================\n",
            "input_1 (InputLayer)         [(None, 128, 128, 3)]     0         \n",
            "_________________________________________________________________\n",
            "block1_conv1 (Conv2D)        (None, 128, 128, 64)      1792      \n",
            "_________________________________________________________________\n",
            "block1_conv2 (Conv2D)        (None, 128, 128, 64)      36928     \n",
            "_________________________________________________________________\n",
            "block1_pool (MaxPooling2D)   (None, 64, 64, 64)        0         \n",
            "_________________________________________________________________\n",
            "block2_conv1 (Conv2D)        (None, 64, 64, 128)       73856     \n",
            "_________________________________________________________________\n",
            "block2_conv2 (Conv2D)        (None, 64, 64, 128)       147584    \n",
            "_________________________________________________________________\n",
            "block2_pool (MaxPooling2D)   (None, 32, 32, 128)       0         \n",
            "_________________________________________________________________\n",
            "block3_conv1 (Conv2D)        (None, 32, 32, 256)       295168    \n",
            "_________________________________________________________________\n",
            "block3_conv2 (Conv2D)        (None, 32, 32, 256)       590080    \n",
            "_________________________________________________________________\n",
            "block3_conv3 (Conv2D)        (None, 32, 32, 256)       590080    \n",
            "_________________________________________________________________\n",
            "block3_pool (MaxPooling2D)   (None, 16, 16, 256)       0         \n",
            "_________________________________________________________________\n",
            "block4_conv1 (Conv2D)        (None, 16, 16, 512)       1180160   \n",
            "_________________________________________________________________\n",
            "block4_conv2 (Conv2D)        (None, 16, 16, 512)       2359808   \n",
            "_________________________________________________________________\n",
            "block4_conv3 (Conv2D)        (None, 16, 16, 512)       2359808   \n",
            "_________________________________________________________________\n",
            "block4_pool (MaxPooling2D)   (None, 8, 8, 512)         0         \n",
            "_________________________________________________________________\n",
            "block5_conv1 (Conv2D)        (None, 8, 8, 512)         2359808   \n",
            "_________________________________________________________________\n",
            "block5_conv2 (Conv2D)        (None, 8, 8, 512)         2359808   \n",
            "_________________________________________________________________\n",
            "block5_conv3 (Conv2D)        (None, 8, 8, 512)         2359808   \n",
            "_________________________________________________________________\n",
            "block5_pool (MaxPooling2D)   (None, 4, 4, 512)         0         \n",
            "=================================================================\n",
            "Total params: 14,714,688\n",
            "Trainable params: 14,714,688\n",
            "Non-trainable params: 0\n",
            "_________________________________________________________________\n"
          ],
          "name": "stdout"
        }
      ]
    },
    {
      "cell_type": "markdown",
      "metadata": {
        "id": "5BAyYq6ly8q6"
      },
      "source": [
        "### Merging the the model"
      ]
    },
    {
      "cell_type": "markdown",
      "metadata": {
        "id": "LJIKcPOrzDTl"
      },
      "source": [
        "we are merging the convo to our output model part "
      ]
    },
    {
      "cell_type": "code",
      "metadata": {
        "id": "ek2ZIlvqv1ae"
      },
      "source": [
        "model = models.Sequential()\n",
        "model.add(convo_base)\n",
        "model.add(layers.Flatten())\n",
        "model.add(layers.Dense(512,activation='relu'))\n",
        "model.add(layers.Dense(1,activation='sigmoid'))"
      ],
      "execution_count": 10,
      "outputs": []
    },
    {
      "cell_type": "code",
      "metadata": {
        "id": "f4mIsRzEwhkN"
      },
      "source": [
        "model.compile(loss='binary_crossentropy',\n",
        "              optimizer=optimizers.RMSprop(),\n",
        "              metrics=['acc'])"
      ],
      "execution_count": 11,
      "outputs": []
    },
    {
      "cell_type": "code",
      "metadata": {
        "id": "fxJAcEX7w8ea"
      },
      "source": [
        "check_point = keras.callbacks.ModelCheckpoint(\"/content/drive/MyDrive/tensorflow/Mask Detetction/models/Mask_Detection_Model-{epoch:02d}.h5\")"
      ],
      "execution_count": 12,
      "outputs": []
    },
    {
      "cell_type": "code",
      "metadata": {
        "id": "1dCnidF8xDGT",
        "outputId": "29ad07bc-7b94-4725-fec1-3b78e2098253",
        "colab": {
          "base_uri": "https://localhost:8080/"
        }
      },
      "source": [
        "trained_model = model.fit(train_generator,\n",
        "                          validation_data=valid_generator,\n",
        "                          steps_per_epoch=100,\n",
        "                          epochs=20,\n",
        "                          #validation_steps=50,\n",
        "                          callbacks=[check_point])"
      ],
      "execution_count": 18,
      "outputs": [
        {
          "output_type": "stream",
          "text": [
            "Epoch 1/20\n",
            "100/100 [==============================] - 24s 235ms/step - loss: 0.3433 - acc: 0.8756 - val_loss: 0.1890 - val_acc: 0.9463\n",
            "Epoch 2/20\n",
            "100/100 [==============================] - 24s 242ms/step - loss: 0.2999 - acc: 0.8956 - val_loss: 0.3366 - val_acc: 0.8888\n",
            "Epoch 3/20\n",
            "100/100 [==============================] - 24s 241ms/step - loss: 0.3608 - acc: 0.8841 - val_loss: 0.2564 - val_acc: 0.9150\n",
            "Epoch 4/20\n",
            "100/100 [==============================] - 24s 243ms/step - loss: 0.2989 - acc: 0.8950 - val_loss: 0.1680 - val_acc: 0.9475\n",
            "Epoch 5/20\n",
            "100/100 [==============================] - 24s 243ms/step - loss: 0.3085 - acc: 0.8903 - val_loss: 0.3155 - val_acc: 0.8525\n",
            "Epoch 6/20\n",
            "100/100 [==============================] - 24s 236ms/step - loss: 0.3371 - acc: 0.8878 - val_loss: 0.1398 - val_acc: 0.9538\n",
            "Epoch 7/20\n",
            "100/100 [==============================] - 24s 239ms/step - loss: 0.3040 - acc: 0.8876 - val_loss: 0.3747 - val_acc: 0.8525\n",
            "Epoch 8/20\n",
            "100/100 [==============================] - 24s 239ms/step - loss: 0.3490 - acc: 0.8822 - val_loss: 0.1536 - val_acc: 0.9525\n",
            "Epoch 9/20\n",
            "100/100 [==============================] - 24s 237ms/step - loss: 0.3466 - acc: 0.8897 - val_loss: 0.1931 - val_acc: 0.9438\n",
            "Epoch 10/20\n",
            "100/100 [==============================] - 24s 235ms/step - loss: 0.3043 - acc: 0.8866 - val_loss: 0.1991 - val_acc: 0.9287\n",
            "Epoch 11/20\n",
            "100/100 [==============================] - 24s 237ms/step - loss: 0.2870 - acc: 0.8959 - val_loss: 0.2092 - val_acc: 0.9350\n",
            "Epoch 12/20\n",
            "100/100 [==============================] - 23s 234ms/step - loss: 0.4586 - acc: 0.8916 - val_loss: 0.1072 - val_acc: 0.9638\n",
            "Epoch 13/20\n",
            "100/100 [==============================] - 24s 239ms/step - loss: 0.3016 - acc: 0.8967 - val_loss: 0.1484 - val_acc: 0.9475\n",
            "Epoch 14/20\n",
            "100/100 [==============================] - 24s 243ms/step - loss: 0.3126 - acc: 0.9059 - val_loss: 0.1456 - val_acc: 0.9550\n",
            "Epoch 15/20\n",
            "100/100 [==============================] - 24s 237ms/step - loss: 0.3454 - acc: 0.9003 - val_loss: 0.1614 - val_acc: 0.9463\n",
            "Epoch 16/20\n",
            "100/100 [==============================] - 23s 235ms/step - loss: 0.3189 - acc: 0.8878 - val_loss: 0.2091 - val_acc: 0.9563\n",
            "Epoch 17/20\n",
            "100/100 [==============================] - 24s 239ms/step - loss: 0.2781 - acc: 0.9008 - val_loss: 0.1372 - val_acc: 0.9588\n",
            "Epoch 18/20\n",
            "100/100 [==============================] - 24s 242ms/step - loss: 0.3338 - acc: 0.8994 - val_loss: 0.1333 - val_acc: 0.9538\n",
            "Epoch 19/20\n",
            "100/100 [==============================] - 24s 239ms/step - loss: 0.3110 - acc: 0.9025 - val_loss: 0.1102 - val_acc: 0.9563\n",
            "Epoch 20/20\n",
            "100/100 [==============================] - 24s 240ms/step - loss: 0.2745 - acc: 0.9061 - val_loss: 0.4537 - val_acc: 0.8350\n"
          ],
          "name": "stdout"
        }
      ]
    },
    {
      "cell_type": "code",
      "metadata": {
        "id": "kXXBfRg-xmrT",
        "outputId": "1325b428-2fcc-4395-9c3d-3426eae448ba",
        "colab": {
          "base_uri": "https://localhost:8080/",
          "height": 285
        }
      },
      "source": [
        "pd.DataFrame(trained_model.history).plot()"
      ],
      "execution_count": 19,
      "outputs": [
        {
          "output_type": "execute_result",
          "data": {
            "text/plain": [
              "<matplotlib.axes._subplots.AxesSubplot at 0x7f21b019b790>"
            ]
          },
          "metadata": {
            "tags": []
          },
          "execution_count": 19
        },
        {
          "output_type": "display_data",
          "data": {
            "image/png": "[encoded data removed]",
            "text/plain": [
              "<Figure size 432x288 with 1 Axes>"
            ]
          },
          "metadata": {
            "tags": [],
            "needs_background": "light"
          }
        }
      ]
    }
  ]
}