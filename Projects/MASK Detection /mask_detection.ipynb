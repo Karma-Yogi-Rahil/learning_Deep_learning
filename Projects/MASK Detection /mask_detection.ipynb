{
 "cells": [
  {
   "cell_type": "code",
   "execution_count": 1,
   "source": [
    "import tensorflow \n",
    "import numpy as np "
   ],
   "outputs": [],
   "metadata": {}
  }
 ],
 "metadata": {
  "orig_nbformat": 4,
  "language_info": {
   "name": "python",
   "version": "3.9.6",
   "mimetype": "text/x-python",
   "codemirror_mode": {
    "name": "ipython",
    "version": 3
   },
   "pygments_lexer": "ipython3",
   "nbconvert_exporter": "python",
   "file_extension": ".py"
  },
  "kernelspec": {
   "name": "python3",
   "display_name": "Python 3.9.6 64-bit ('homebrew_tensorflow': conda)"
  },
  "interpreter": {
   "hash": "c9f67f3b94ae9cf5992b10656b763979450b7c87f6f5d4ea2b00a68e35379d64"
  }
 },
 "nbformat": 4,
 "nbformat_minor": 2
}