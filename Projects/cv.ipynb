{
 "cells": [
  {
   "cell_type": "code",
   "execution_count": 14,
   "source": [
    "import tensorflow\n",
    "import re\n",
    "import cv2\n",
    "import numpy as np\n",
    "\n",
    "import tensorflow.lite as tflite"
   ],
   "outputs": [
    {
     "output_type": "error",
     "ename": "ModuleNotFoundError",
     "evalue": "No module named 'tensorflow'",
     "traceback": [
      "\u001b[0;31m---------------------------------------------------------------------------\u001b[0m",
      "\u001b[0;31mModuleNotFoundError\u001b[0m                       Traceback (most recent call last)",
      "\u001b[0;32m/var/folders/hx/wlbxzx7n4213spz0xxw82y7h0000gn/T/ipykernel_30760/198320213.py\u001b[0m in \u001b[0;36m<module>\u001b[0;34m\u001b[0m\n\u001b[0;32m----> 1\u001b[0;31m \u001b[0;32mimport\u001b[0m \u001b[0mtensorflow\u001b[0m\u001b[0;34m\u001b[0m\u001b[0;34m\u001b[0m\u001b[0m\n\u001b[0m\u001b[1;32m      2\u001b[0m \u001b[0;32mimport\u001b[0m \u001b[0mre\u001b[0m\u001b[0;34m\u001b[0m\u001b[0;34m\u001b[0m\u001b[0m\n\u001b[1;32m      3\u001b[0m \u001b[0;32mimport\u001b[0m \u001b[0mcv2\u001b[0m\u001b[0;34m\u001b[0m\u001b[0;34m\u001b[0m\u001b[0m\n\u001b[1;32m      4\u001b[0m \u001b[0;32mimport\u001b[0m \u001b[0mnumpy\u001b[0m \u001b[0;32mas\u001b[0m \u001b[0mnp\u001b[0m\u001b[0;34m\u001b[0m\u001b[0;34m\u001b[0m\u001b[0m\n\u001b[1;32m      5\u001b[0m \u001b[0;34m\u001b[0m\u001b[0m\n",
      "\u001b[0;31mModuleNotFoundError\u001b[0m: No module named 'tensorflow'"
     ]
    }
   ],
   "metadata": {}
  },
  {
   "cell_type": "code",
   "execution_count": 8,
   "source": [
    "!conda install tensorflow"
   ],
   "outputs": [
    {
     "output_type": "stream",
     "name": "stdout",
     "text": [
      "Collecting package metadata (current_repodata.json): done\n",
      "Solving environment: done\n",
      "\n",
      "# All requested packages already installed.\n",
      "\n"
     ]
    }
   ],
   "metadata": {}
  },
  {
   "cell_type": "code",
   "execution_count": 9,
   "source": [
    "!pip install opencv-python"
   ],
   "outputs": [
    {
     "output_type": "stream",
     "name": "stdout",
     "text": [
      "Requirement already satisfied: opencv-python in /Users/rahilmehta/miniforge3/envs/Tensflow_m1/lib/python3.8/site-packages (4.5.3.56)\n",
      "Requirement already satisfied: numpy>=1.21.0 in /Users/rahilmehta/miniforge3/envs/Tensflow_m1/lib/python3.8/site-packages (from opencv-python) (1.21.1)\n"
     ]
    }
   ],
   "metadata": {}
  },
  {
   "cell_type": "code",
   "execution_count": 11,
   "source": [
    "\"\"\"\n",
    "Run object detection on images, Press ESC to exit the program\n",
    "For Raspberry PI, please use `import tflite_runtime.interpreter as tflite` instead\n",
    "\"\"\"\n",
    "import re\n",
    "import cv2\n",
    "import numpy as np\n",
    "\n",
    "import tensorflow.lite as tflite\n",
    "# import tflite_runtime.interpreter as tflite\n",
    "\n",
    "from PIL import Image\n",
    "\n",
    "CAMERA_WIDTH = 640\n",
    "CAMERA_HEIGHT = 480\n",
    "\n",
    "\n",
    "def load_labels(label_path):\n",
    "    r\"\"\"Returns a list of labels\"\"\"\n",
    "    with open(label_path) as f:\n",
    "        labels = {}\n",
    "        for line in f.readlines():\n",
    "            m = re.match(r\"(\\d+)\\s+(\\w+)\", line.strip())\n",
    "            labels[int(m.group(1))] = m.group(2)\n",
    "        return labels\n",
    "\n",
    "\n",
    "def load_model(model_path):\n",
    "    r\"\"\"Load TFLite model, returns a Interpreter instance.\"\"\"\n",
    "    interpreter = tflite.Interpreter(model_path=model_path)\n",
    "    interpreter.allocate_tensors()\n",
    "    return interpreter\n",
    "\n",
    "\n",
    "def process_image(interpreter, image, input_index):\n",
    "    r\"\"\"Process an image, Return a list of detected class ids and positions\"\"\"\n",
    "    input_data = np.expand_dims(image, axis=0)  # expand to 4-dim\n",
    "\n",
    "    # Process\n",
    "    interpreter.set_tensor(input_index, input_data)\n",
    "    interpreter.invoke()\n",
    "\n",
    "    # Get outputs\n",
    "    output_details = interpreter.get_output_details()\n",
    "    # print(output_details)\n",
    "    # output_details[0] - position\n",
    "    # output_details[1] - class id\n",
    "    # output_details[2] - score\n",
    "    # output_details[3] - count\n",
    "\n",
    "    positions = np.squeeze(interpreter.get_tensor(output_details[0]['index']))\n",
    "    classes = np.squeeze(interpreter.get_tensor(output_details[1]['index']))\n",
    "    scores = np.squeeze(interpreter.get_tensor(output_details[2]['index']))\n",
    "\n",
    "    result = []\n",
    "\n",
    "    for idx, score in enumerate(scores):\n",
    "        if score > 0.5:\n",
    "            result.append({'pos': positions[idx], '_id': classes[idx]})\n",
    "\n",
    "    return result\n",
    "\n",
    "\n",
    "def display_result(result, frame, labels):\n",
    "    r\"\"\"Display Detected Objects\"\"\"\n",
    "    font = cv2.FONT_HERSHEY_SIMPLEX\n",
    "    size = 0.6\n",
    "    color = (255, 0, 0)  # Blue color\n",
    "    thickness = 1\n",
    "\n",
    "    # position = [ymin, xmin, ymax, xmax]\n",
    "    # x * CAMERA_WIDTH\n",
    "    # y * CAMERA_HEIGHT\n",
    "    for obj in result:\n",
    "        pos = obj['pos']\n",
    "        _id = obj['_id']\n",
    "\n",
    "        x1 = int(pos[1] * CAMERA_WIDTH)\n",
    "        x2 = int(pos[3] * CAMERA_WIDTH)\n",
    "        y1 = int(pos[0] * CAMERA_HEIGHT)\n",
    "        y2 = int(pos[2] * CAMERA_HEIGHT)\n",
    "\n",
    "        cv2.putText(frame, labels[_id], (x1, y1), font, size, color, thickness)\n",
    "        cv2.rectangle(frame, (x1, y1), (x2, y2), color, thickness)\n",
    "\n",
    "    cv2.imshow('Object Detection', frame)\n",
    "\n",
    "\n",
    "if __name__ == \"__main__\":\n",
    "\n",
    "    model_path = 'data/detect.tflite'\n",
    "    label_path = 'data/coco_labels.txt'\n",
    "\n",
    "    cap = cv2.VideoCapture(0)\n",
    "    cap.set(cv2.CAP_PROP_FRAME_WIDTH, CAMERA_WIDTH)\n",
    "    cap.set(cv2.CAP_PROP_FRAME_HEIGHT, CAMERA_HEIGHT)\n",
    "    cap.set(cv2.CAP_PROP_FPS, 15)\n",
    "\n",
    "    interpreter = load_model(model_path)\n",
    "    labels = load_labels(label_path)\n",
    "\n",
    "    input_details = interpreter.get_input_details()\n",
    "\n",
    "    # Get Width and Height\n",
    "    input_shape = input_details[0]['shape']\n",
    "    height = input_shape[1]\n",
    "    width = input_shape[2]\n",
    "\n",
    "    # Get input index\n",
    "    input_index = input_details[0]['index']\n",
    "\n",
    "    # Process Stream\n",
    "    while True:\n",
    "        ret, frame = cap.read()\n",
    "\n",
    "        image = Image.fromarray(cv2.cvtColor(frame, cv2.COLOR_BGR2RGB))\n",
    "        image = image.resize((width, height))\n",
    "\n",
    "        top_result = process_image(interpreter, image, input_index)\n",
    "        display_result(top_result, frame, labels)\n",
    "\n",
    "        key = cv2.waitKey(1)\n",
    "        if key == 27:  # esc\n",
    "            break\n",
    "\n",
    "    cap.release()\n",
    "    cv2.destroyAllWindows()"
   ],
   "outputs": [
    {
     "output_type": "error",
     "ename": "ImportError",
     "evalue": "dlopen(/Users/rahilmehta/miniforge3/envs/tensorflow/lib/python3.9/site-packages/cv2/cv2.cpython-39-darwin.so, 2): Library not loaded: /opt/homebrew/opt/ffmpeg/lib/libavcodec.58.dylib\n  Referenced from: /Users/rahilmehta/miniforge3/envs/tensorflow/lib/python3.9/site-packages/cv2/cv2.cpython-39-darwin.so\n  Reason: image not found",
     "traceback": [
      "\u001b[0;31m---------------------------------------------------------------------------\u001b[0m",
      "\u001b[0;31mImportError\u001b[0m                               Traceback (most recent call last)",
      "\u001b[0;32m/var/folders/hx/wlbxzx7n4213spz0xxw82y7h0000gn/T/ipykernel_17184/415623927.py\u001b[0m in \u001b[0;36m<module>\u001b[0;34m\u001b[0m\n\u001b[1;32m      4\u001b[0m \"\"\"\n\u001b[1;32m      5\u001b[0m \u001b[0;32mimport\u001b[0m \u001b[0mre\u001b[0m\u001b[0;34m\u001b[0m\u001b[0;34m\u001b[0m\u001b[0m\n\u001b[0;32m----> 6\u001b[0;31m \u001b[0;32mimport\u001b[0m \u001b[0mcv2\u001b[0m\u001b[0;34m\u001b[0m\u001b[0;34m\u001b[0m\u001b[0m\n\u001b[0m\u001b[1;32m      7\u001b[0m \u001b[0;32mimport\u001b[0m \u001b[0mnumpy\u001b[0m \u001b[0;32mas\u001b[0m \u001b[0mnp\u001b[0m\u001b[0;34m\u001b[0m\u001b[0;34m\u001b[0m\u001b[0m\n\u001b[1;32m      8\u001b[0m \u001b[0;34m\u001b[0m\u001b[0m\n",
      "\u001b[0;32m~/miniforge3/envs/tensorflow/lib/python3.9/site-packages/cv2/__init__.py\u001b[0m in \u001b[0;36m<module>\u001b[0;34m\u001b[0m\n\u001b[1;32m      3\u001b[0m \u001b[0;32mimport\u001b[0m \u001b[0msys\u001b[0m\u001b[0;34m\u001b[0m\u001b[0;34m\u001b[0m\u001b[0m\n\u001b[1;32m      4\u001b[0m \u001b[0;34m\u001b[0m\u001b[0m\n\u001b[0;32m----> 5\u001b[0;31m \u001b[0;32mfrom\u001b[0m \u001b[0;34m.\u001b[0m\u001b[0mcv2\u001b[0m \u001b[0;32mimport\u001b[0m \u001b[0;34m*\u001b[0m\u001b[0;34m\u001b[0m\u001b[0;34m\u001b[0m\u001b[0m\n\u001b[0m\u001b[1;32m      6\u001b[0m \u001b[0;32mfrom\u001b[0m \u001b[0;34m.\u001b[0m\u001b[0mdata\u001b[0m \u001b[0;32mimport\u001b[0m \u001b[0;34m*\u001b[0m\u001b[0;34m\u001b[0m\u001b[0;34m\u001b[0m\u001b[0m\n\u001b[1;32m      7\u001b[0m \u001b[0;34m\u001b[0m\u001b[0m\n",
      "\u001b[0;31mImportError\u001b[0m: dlopen(/Users/rahilmehta/miniforge3/envs/tensorflow/lib/python3.9/site-packages/cv2/cv2.cpython-39-darwin.so, 2): Library not loaded: /opt/homebrew/opt/ffmpeg/lib/libavcodec.58.dylib\n  Referenced from: /Users/rahilmehta/miniforge3/envs/tensorflow/lib/python3.9/site-packages/cv2/cv2.cpython-39-darwin.so\n  Reason: image not found"
     ]
    }
   ],
   "metadata": {}
  }
 ],
 "metadata": {
  "orig_nbformat": 4,
  "language_info": {
   "name": "python",
   "version": "3.9.6",
   "mimetype": "text/x-python",
   "codemirror_mode": {
    "name": "ipython",
    "version": 3
   },
   "pygments_lexer": "ipython3",
   "nbconvert_exporter": "python",
   "file_extension": ".py"
  },
  "kernelspec": {
   "name": "python3",
   "display_name": "Python 3.9.6 64-bit"
  },
  "interpreter": {
   "hash": "b0fa6594d8f4cbf19f97940f81e996739fb7646882a419484c72d19e05852a7e"
  }
 },
 "nbformat": 4,
 "nbformat_minor": 2
}