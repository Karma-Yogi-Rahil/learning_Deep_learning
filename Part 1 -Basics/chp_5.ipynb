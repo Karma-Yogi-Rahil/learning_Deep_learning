{
 "cells": [
  {
   "cell_type": "code",
   "execution_count": 48,
   "metadata": {
    "collapsed": true
   },
   "outputs": [
    {
     "name": "stdout",
     "output_type": "stream",
     "text": [
      "Welcome Marin,you can post hear\n"
     ]
    }
   ],
   "source": [
    "banned_user = ['andrew','carolina','david']\n",
    "user = 'marin'\n",
    "\n",
    "if user not in banned_user:\n",
    "    print(f\"Welcome {user.title()},you can post hear\")\n"
   ]
  },
  {
   "cell_type": "code",
   "execution_count": 49,
   "outputs": [],
   "source": [
    "age_1 = 18\n",
    "age_2 = 23\n",
    "\n",
    "if (age_1 >=20) and (age_2 >= 20):\n",
    "    print(\"true\")"
   ],
   "metadata": {
    "collapsed": false,
    "pycharm": {
     "name": "#%%\n"
    }
   }
  },
  {
   "cell_type": "code",
   "execution_count": 50,
   "outputs": [
    {
     "name": "stdout",
     "output_type": "stream",
     "text": [
      "Toyota\n",
      "BMW\n",
      "Audi\n",
      "Subru\n"
     ]
    }
   ],
   "source": [
    "cars = {'audi','bmw','subru','toyota'}\n",
    "for car in cars :\n",
    "    if car == 'bmw':\n",
    "        print(car.upper())\n",
    "    else :\n",
    "        print(car.title())"
   ],
   "metadata": {
    "collapsed": false,
    "pycharm": {
     "name": "#%%\n"
    }
   }
  },
  {
   "cell_type": "code",
   "execution_count": 51,
   "outputs": [
    {
     "name": "stdout",
     "output_type": "stream",
     "text": [
      "hold the order\n"
     ]
    }
   ],
   "source": [
    "requested_topping = 'mushroom'\n",
    "\n",
    "if requested_topping != 'anaco':\n",
    "    print(\"hold the order\")\n"
   ],
   "metadata": {
    "collapsed": false,
    "pycharm": {
     "name": "#%%\n"
    }
   }
  },
  {
   "cell_type": "code",
   "execution_count": 52,
   "outputs": [
    {
     "name": "stdout",
     "output_type": "stream",
     "text": [
      "pls enter correct ans \n"
     ]
    }
   ],
   "source": [
    "answer = 17\n",
    "\n",
    "if answer != 15:\n",
    "    print('pls enter correct ans ')"
   ],
   "metadata": {
    "collapsed": false,
    "pycharm": {
     "name": "#%%\n"
    }
   }
  },
  {
   "cell_type": "code",
   "execution_count": 53,
   "outputs": [
    {
     "name": "stdout",
     "output_type": "stream",
     "text": [
      "you are allow to vote \n",
      "have you regester to vote?\n"
     ]
    }
   ],
   "source": [
    "age = 18\n",
    "if age >=18 :\n",
    "    print(\"you are allow to vote \")\n",
    "    print('have you regester to vote?')"
   ],
   "metadata": {
    "collapsed": false,
    "pycharm": {
     "name": "#%%\n"
    }
   }
  },
  {
   "cell_type": "code",
   "execution_count": 54,
   "outputs": [
    {
     "name": "stdout",
     "output_type": "stream",
     "text": [
      "you are old enogh to vote \n",
      "have you register to vote ?\n"
     ]
    }
   ],
   "source": [
    "if age >=18:\n",
    "    print('you are old enogh to vote ')\n",
    "    print('have you register to vote ?')\n",
    "else:\n",
    "    print('sorry , you are too young to vote ')\n",
    "    print('please register to vote as soon as you turn 18 ')"
   ],
   "metadata": {
    "collapsed": false,
    "pycharm": {
     "name": "#%%\n"
    }
   }
  },
  {
   "cell_type": "code",
   "execution_count": 55,
   "outputs": [
    {
     "name": "stdout",
     "output_type": "stream",
     "text": [
      "not to use this method \n",
      "your cost is $25\n"
     ]
    }
   ],
   "source": [
    "print('not to use this method ')\n",
    "age = 12\n",
    "if age<4:\n",
    "    print('your cost is $0')\n",
    "elif age<18:\n",
    "    print('your cost is $25')\n",
    "else:\n",
    "    print('your cost is %50')"
   ],
   "metadata": {
    "collapsed": false,
    "pycharm": {
     "name": "#%%\n"
    }
   }
  },
  {
   "cell_type": "code",
   "execution_count": 56,
   "outputs": [
    {
     "name": "stdout",
     "output_type": "stream",
     "text": [
      "your cost is $25.\n"
     ]
    }
   ],
   "source": [
    "if age <4:\n",
    "    price = 0\n",
    "elif age <18:\n",
    "    price = 25\n",
    "else:\n",
    "    price = 50\n",
    "\n",
    "print(f'your cost is ${price}.')\n"
   ],
   "metadata": {
    "collapsed": false,
    "pycharm": {
     "name": "#%%\n"
    }
   }
  },
  {
   "cell_type": "code",
   "execution_count": 57,
   "outputs": [
    {
     "name": "stdout",
     "output_type": "stream",
     "text": [
      "your cost is $20.\n"
     ]
    }
   ],
   "source": [
    "age = 69\n",
    "if age <4:\n",
    "    price = 0\n",
    "elif age <18:\n",
    "    price = 25\n",
    "elif age <65:\n",
    "    price=40\n",
    "else:\n",
    "    price = 20\n",
    "\n",
    "print(f'your cost is ${price}.')\n"
   ],
   "metadata": {
    "collapsed": false,
    "pycharm": {
     "name": "#%%\n"
    }
   }
  },
  {
   "cell_type": "code",
   "execution_count": 58,
   "outputs": [
    {
     "name": "stdout",
     "output_type": "stream",
     "text": [
      "adding mushroom\n",
      "adding cheese\n",
      "\n",
      "completed adding\n"
     ]
    }
   ],
   "source": [
    "requested_topping = {'mushroom','extra cheese'}\n",
    "\n",
    "if 'mushroom' in requested_topping:\n",
    "    print('adding mushroom')\n",
    "if 'pepo' in requested_topping:\n",
    "    print('addind pepo')\n",
    "if 'extra cheese' in requested_topping:\n",
    "    print('adding cheese')\n",
    "\n",
    "print('\\ncompleted adding')\n"
   ],
   "metadata": {
    "collapsed": false,
    "pycharm": {
     "name": "#%%\n"
    }
   }
  },
  {
   "cell_type": "code",
   "execution_count": 59,
   "outputs": [
    {
     "name": "stdout",
     "output_type": "stream",
     "text": [
      "adding mushroom\n",
      "\n",
      "completed adding\n"
     ]
    }
   ],
   "source": [
    "if 'mushroom' in requested_topping:\n",
    "    print('adding mushroom')\n",
    "elif 'pepo' in requested_topping:\n",
    "    print('addind pepo')\n",
    "elif 'extra cheese' in requested_topping:\n",
    "    print('adding cheese')\n",
    "\n",
    "print('\\ncompleted adding')"
   ],
   "metadata": {
    "collapsed": false,
    "pycharm": {
     "name": "#%%\n"
    }
   }
  },
  {
   "cell_type": "code",
   "execution_count": 60,
   "outputs": [
    {
     "name": "stdout",
     "output_type": "stream",
     "text": [
      "---------------------------------------5-3------------------\n",
      "you have earned 10 points\n"
     ]
    }
   ],
   "source": [
    "print('---------------------------------------5-3------------------')\n",
    "\n",
    "alien_color = 'yellow0'\n",
    "if alien_color == 'yellow':\n",
    "    print(' you have earned 5 points ')\n",
    "else :\n",
    "    print(\"you have earned 10 points\")"
   ],
   "metadata": {
    "collapsed": false,
    "pycharm": {
     "name": "#%%\n"
    }
   }
  },
  {
   "cell_type": "code",
   "execution_count": 61,
   "outputs": [
    {
     "name": "stdout",
     "output_type": "stream",
     "text": [
      "the person is a adult\n"
     ]
    }
   ],
   "source": [
    "age =64\n",
    "if age < 2:\n",
    "    print('the person is baby')\n",
    "elif 2<= age <4:\n",
    "    print('the person is a toddler' )\n",
    "elif 4<= age <13:\n",
    "    print('the person is a kid' )\n",
    "elif 13<= age <20:\n",
    "    print('the person is a teenager' )\n",
    "elif 20<= age <65:\n",
    "    print('the person is a adult' )\n",
    "elif age >= 65:\n",
    "    print('the person is a old' )\n",
    "\n"
   ],
   "metadata": {
    "collapsed": false,
    "pycharm": {
     "name": "#%%\n"
    }
   }
  },
  {
   "cell_type": "code",
   "execution_count": 62,
   "outputs": [
    {
     "name": "stdout",
     "output_type": "stream",
     "text": [
      "ok\n",
      "really cherry ?\n",
      "ok\n"
     ]
    }
   ],
   "source": [
    "faa_fruit = {'apple','banana','orange'}\n",
    "\n",
    "if 'apple' in faa_fruit:\n",
    "    print('ok')\n",
    "if 'cherry' in faa_fruit:\n",
    "    print('ok')\n",
    "else:\n",
    "    print('really cherry ?' )\n",
    "if 'banana' in faa_fruit:\n",
    "    print('ok')\n"
   ],
   "metadata": {
    "collapsed": false,
    "pycharm": {
     "name": "#%%\n"
    }
   }
  },
  {
   "cell_type": "code",
   "execution_count": 63,
   "outputs": [
    {
     "name": "stdout",
     "output_type": "stream",
     "text": [
      "adding mushroom\n",
      "adding extra cheese\n",
      "\n",
      "Finished \n"
     ]
    }
   ],
   "source": [
    "for requested_topping in requested_topping:\n",
    "    print(f'adding {requested_topping}')\n",
    "\n",
    "print('\\nFinished ')\n"
   ],
   "metadata": {
    "collapsed": false,
    "pycharm": {
     "name": "#%%\n"
    }
   }
  },
  {
   "cell_type": "code",
   "execution_count": 64,
   "outputs": [
    {
     "name": "stdout",
     "output_type": "stream",
     "text": [
      "adding yellow\n",
      "adding white\n",
      "sorry , we are out of green\n",
      "\n",
      " finish making you pizaa!\n"
     ]
    }
   ],
   "source": [
    "requested_topping = ['yellow','white','green']\n",
    "for requested_topping in requested_topping:\n",
    "    if requested_topping == 'green':\n",
    "        print('sorry , we are out of green')\n",
    "    else:\n",
    "        print(f'adding {requested_topping}')\n",
    "print('\\n finish making you pizaa!')"
   ],
   "metadata": {
    "collapsed": false,
    "pycharm": {
     "name": "#%%\n"
    }
   }
  },
  {
   "cell_type": "code",
   "execution_count": 65,
   "outputs": [
    {
     "name": "stdout",
     "output_type": "stream",
     "text": [
      "are you sure you want a plain pizza\n"
     ]
    }
   ],
   "source": [
    "requested_topping = []\n",
    "if requested_topping:\n",
    "    for requested_topping in requested_topping:\n",
    "        print(f'adding {requested_topping}')\n",
    "else:\n",
    "    print('are you sure you want a plain pizza')"
   ],
   "metadata": {
    "collapsed": false,
    "pycharm": {
     "name": "#%%\n"
    }
   }
  },
  {
   "cell_type": "code",
   "execution_count": 66,
   "outputs": [
    {
     "name": "stdout",
     "output_type": "stream",
     "text": [
      "adding mushroom.\n",
      "sorry, we dont have french fries \n",
      "adding extra cheese.\n",
      "\n",
      " finish naming your pizza\n"
     ]
    }
   ],
   "source": [
    "available_topping = ['mushroom','olives','green pepper''pepperoni','pineapple','extra cheese']\n",
    "\n",
    "requested_topping = ['mushroom','french fries ','extra cheese']\n",
    "\n",
    "for requested_topping in requested_topping:\n",
    "    if requested_topping in available_topping:\n",
    "        print(f'adding {requested_topping}.')\n",
    "    else:\n",
    "        print(f'sorry, we dont have {requested_topping}')\n",
    "\n",
    "print('\\n finish naming your pizza')"
   ],
   "metadata": {
    "collapsed": false,
    "pycharm": {
     "name": "#%%\n"
    }
   }
  },
  {
   "cell_type": "code",
   "execution_count": 70,
   "outputs": [
    {
     "name": "stdout",
     "output_type": "stream",
     "text": [
      "-------------------------5-8-----------------------\n"
     ]
    }
   ],
   "source": [
    "print('-------------------------5-8-----------------------')\n",
    "#username = ['admin','lee','twolee','threelee','four lee']\n",
    "username = []\n",
    "for username in username:\n",
    "    if not username:\n",
    "        print(\"no username added till now  \")\n",
    "    if username == 'admin':\n",
    "        print(f'Hello {username} would you like to see a status report?')\n",
    "    else:\n",
    "        print(f'Hello {username}, thank you for logging in again ')\n"
   ],
   "metadata": {
    "collapsed": false,
    "pycharm": {
     "name": "#%%\n"
    }
   }
  },
  {
   "cell_type": "code",
   "execution_count": 71,
   "outputs": [
    {
     "name": "stdout",
     "output_type": "stream",
     "text": [
      "----------------------------------5-9-------------------\n",
      "---------------------------5-10------------------------------\n"
     ]
    }
   ],
   "source": [
    "print('----------------------------------5-9-------------------')\n",
    "\n",
    "\n"
   ],
   "metadata": {
    "collapsed": false,
    "pycharm": {
     "name": "#%%\n"
    }
   }
  },
  {
   "cell_type": "code",
   "execution_count": null,
   "outputs": [],
   "source": [
    "print('---------------------------5-10------------------------------')\n",
    "\n",
    "\n"
   ],
   "metadata": {
    "collapsed": false,
    "pycharm": {
     "name": "#%%\n"
    }
   }
  }
 ],
 "metadata": {
  "kernelspec": {
   "display_name": "Python 3",
   "language": "python",
   "name": "python3"
  },
  "language_info": {
   "codemirror_mode": {
    "name": "ipython",
    "version": 2
   },
   "file_extension": ".py",
   "mimetype": "text/x-python",
   "name": "python",
   "nbconvert_exporter": "python",
   "pygments_lexer": "ipython2",
   "version": "2.7.6"
  }
 },
 "nbformat": 4,
 "nbformat_minor": 0
}