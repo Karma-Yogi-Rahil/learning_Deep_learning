{
 "cells": [
  {
   "cell_type": "code",
   "execution_count": 4,
   "metadata": {},
   "outputs": [
    {
     "data": {
      "text/plain": "'heloow '"
     },
     "execution_count": 4,
     "metadata": {},
     "output_type": "execute_result"
    }
   ],
   "source": [
    "'''heloow '''"
   ]
  },
  {
   "cell_type": "code",
   "execution_count": 5,
   "outputs": [
    {
     "name": "stdout",
     "output_type": "stream",
     "text": [
      "hello world\n"
     ]
    }
   ],
   "source": [
    "print(\"hello world\")\n"
   ],
   "metadata": {
    "collapsed": false,
    "pycharm": {
     "name": "#%%\n"
    }
   }
  },
  {
   "cell_type": "code",
   "execution_count": 6,
   "outputs": [
    {
     "name": "stdout",
     "output_type": "stream",
     "text": [
      "this is my 2nd chapter \n"
     ]
    }
   ],
   "source": [
    "message = 'this is my 2nd chapter '\n",
    "print(message)\n",
    "\n"
   ],
   "metadata": {
    "collapsed": false,
    "pycharm": {
     "name": "#%%\n"
    }
   }
  },
  {
   "cell_type": "code",
   "execution_count": 7,
   "outputs": [
    {
     "name": "stdout",
     "output_type": "stream",
     "text": [
      "this is my 2nd chapter\n",
      "i have completed try \"it your self\" of the 2 nd chapter \n"
     ]
    }
   ],
   "source": [
    "pritable_message = 'this is my 2nd chapter'\n",
    "print(pritable_message)\n",
    "\n",
    "pritable_message = 'i have completed try \"it your self\" of the 2 nd chapter '\n",
    "print(pritable_message)\n"
   ],
   "metadata": {
    "collapsed": false,
    "pycharm": {
     "name": "#%%\n"
    }
   }
  },
  {
   "cell_type": "code",
   "execution_count": 8,
   "outputs": [
    {
     "name": "stdout",
     "output_type": "stream",
     "text": [
      "Rahil Mehta\n",
      "RAHIL MEHTA\n",
      "rahil mehta\n"
     ]
    }
   ],
   "source": [
    "name = 'rahil mehta'\n",
    "print(name.title())\n",
    "print(name.upper())\n",
    "print(name.lower())"
   ],
   "metadata": {
    "collapsed": false,
    "pycharm": {
     "name": "#%%\n"
    }
   }
  },
  {
   "cell_type": "code",
   "execution_count": 9,
   "outputs": [
    {
     "name": "stdout",
     "output_type": "stream",
     "text": [
      "Rahil.P.Mehta\n"
     ]
    }
   ],
   "source": [
    "#using variable as sting\n",
    "firt_name = 'Rahil'\n",
    "last_name = 'mehta'\n",
    "full_name = f'{firt_name}.p.{last_name}'\n",
    "print(full_name.title())"
   ],
   "metadata": {
    "collapsed": false,
    "pycharm": {
     "name": "#%%]\n"
    }
   }
  },
  {
   "cell_type": "code",
   "execution_count": 10,
   "outputs": [
    {
     "name": "stdout",
     "output_type": "stream",
     "text": [
      "Rahil mehta\n"
     ]
    }
   ],
   "source": [
    "#\n",
    "full_name = '{} {}'.format(firt_name,last_name)\n",
    "print(full_name)"
   ],
   "metadata": {
    "collapsed": false,
    "pycharm": {
     "name": "#%%\n"
    }
   }
  },
  {
   "cell_type": "code",
   "execution_count": 11,
   "outputs": [
    {
     "name": "stdout",
     "output_type": "stream",
     "text": [
      "git show\n",
      "\t git auto \n",
      " \t git pull\n"
     ]
    }
   ],
   "source": [
    "print('git show' )\n",
    "\n",
    "print('\\t git auto \\n \\t git pull')"
   ],
   "metadata": {
    "collapsed": false,
    "pycharm": {
     "name": "#%%\n"
    }
   }
  },
  {
   "cell_type": "code",
   "execution_count": 12,
   "outputs": [
    {
     "name": "stdout",
     "output_type": "stream",
     "text": [
      " python \n",
      "python\n",
      "python \n",
      " python\n",
      "python\n"
     ]
    }
   ],
   "source": [
    "    #white space\n",
    "\n",
    "favorite_lang = ' python '\n",
    "print(favorite_lang)\n",
    "\n",
    "    #removing white space from both side\n",
    "print(favorite_lang.strip())\n",
    "\n",
    "    #removing white space from lft side\n",
    "print(favorite_lang.lstrip())\n",
    "\n",
    "    #removinfg white space from right side\n",
    "print(favorite_lang.rstrip())\n",
    "\n",
    "    #permantenly removing white space\n",
    "favorite_lang = favorite_lang.strip()\n",
    "\n",
    "print(favorite_lang)"
   ],
   "metadata": {
    "collapsed": false,
    "pycharm": {
     "name": "#%%\n"
    }
   }
  },
  {
   "cell_type": "code",
   "execution_count": 13,
   "outputs": [
    {
     "name": "stdout",
     "output_type": "stream",
     "text": [
      " one of the python's strength is the diverse community  \n"
     ]
    },
    {
     "data": {
      "text/plain": "\"faulty_message = 'one of the python's strength is the diverse community ''\\nprint(faulty_message)\""
     },
     "execution_count": 13,
     "metadata": {},
     "output_type": "execute_result"
    }
   ],
   "source": [
    "# avoding syntax error\n",
    "\n",
    "message = \" one of the python's strength is the diverse community  \"\n",
    "print(message)\n",
    "\n",
    "#by running the code below you will get synatx error so rememebr will using the apostrophy always use double quotation\n",
    "\n",
    "'''faulty_message = 'one of the python's strength is the diverse community ''\n",
    "print(faulty_message)'''"
   ],
   "metadata": {
    "collapsed": false,
    "pycharm": {
     "name": "#%%\n"
    }
   }
  },
  {
   "cell_type": "code",
   "execution_count": 19,
   "outputs": [
    {
     "name": "stdout",
     "output_type": "stream",
     "text": [
      "hello  RAHIL MEHTA  would you like to larn some python today \n",
      " RAHIL MEHTA \n",
      " rahil mehta \n",
      " Rahil Mehta \n",
      "Steve jobs once said its better to be a pirate than to join a navy\n",
      "rahil Mehta\n",
      "rahil Mehta \n"
     ]
    }
   ],
   "source": [
    "'''------2nd  Try it yourself-----'''\n",
    "'''q1'''\n",
    "name = ' rahil Mehta '\n",
    "print(\"hello\" , name.upper() ,\"would you like to larn some python today \" )\n",
    "'''q2'''\n",
    "print(name.upper())\n",
    "print(name.lower())\n",
    "print(name.title())\n",
    "'''q3'''\n",
    "quote = 'its better to be a pirate than to join a navy'\n",
    "author = \"Steve jobs\"\n",
    "print(author,\"once said\",quote)\n",
    "'''q4'''\n",
    "print(name.strip())\n",
    "print(name.lstrip())"
   ],
   "metadata": {
    "collapsed": false,
    "pycharm": {
     "name": "#%%\n"
    }
   }
  },
  {
   "cell_type": "code",
   "execution_count": 22,
   "outputs": [
    {
     "name": "stdout",
     "output_type": "stream",
     "text": [
      "14000000\n",
      "10 2 3\n"
     ]
    }
   ],
   "source": [
    "amount = 14_000_000\n",
    "print(amount)\n",
    "x,y,z = 10,2,3\n",
    "print(x,y,z)\n",
    "\n"
   ],
   "metadata": {
    "collapsed": false,
    "pycharm": {
     "name": "#%%\n"
    }
   }
  },
  {
   "cell_type": "code",
   "execution_count": 25,
   "outputs": [
    {
     "name": "stdout",
     "output_type": "stream",
     "text": [
      "8\n",
      "8\n",
      "8\n",
      "8.0\n",
      "my favriout number is 6\n"
     ]
    }
   ],
   "source": [
    "'''---try it yourself---'''\n",
    "'''q2-8'''\n",
    "print(5+3)\n",
    "print(10-2)\n",
    "print(4*2)\n",
    "print(16/2)\n",
    "'''q2-9'''\n",
    "fav_num = 6\n",
    "print(\"my favriout number is\",fav_num)"
   ],
   "metadata": {
    "collapsed": false,
    "pycharm": {
     "name": "#%%\n"
    }
   }
  },
  {
   "cell_type": "code",
   "execution_count": null,
   "outputs": [],
   "source": [],
   "metadata": {
    "collapsed": false,
    "pycharm": {
     "name": "#%%\n"
    }
   }
  }
 ],
 "metadata": {
  "kernelspec": {
   "name": "pycharm-dcaf8c45",
   "language": "python",
   "display_name": "PyCharm (learing_tenserflow)"
  },
  "language_info": {
   "codemirror_mode": {
    "name": "ipython",
    "version": 3
   },
   "file_extension": ".py",
   "mimetype": "text/x-python",
   "name": "python",
   "nbconvert_exporter": "python",
   "pygments_lexer": "ipython3",
   "version": "3.7.6"
  }
 },
 "nbformat": 4,
 "nbformat_minor": 4
}