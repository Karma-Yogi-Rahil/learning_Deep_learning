{
 "cells": [
  {
   "cell_type": "code",
   "execution_count": 23,
   "metadata": {
    "collapsed": true
   },
   "outputs": [
    {
     "name": "stdout",
     "output_type": "stream",
     "text": [
      "green\n"
     ]
    }
   ],
   "source": [
    "alien_0 = {'color': 'green'}\n",
    "\n",
    "print(alien_0['color'])\n"
   ]
  },
  {
   "cell_type": "code",
   "execution_count": 24,
   "outputs": [
    {
     "name": "stdout",
     "output_type": "stream",
     "text": [
      "your new points is 5\n",
      "{'color': 'green', 'points': '5'}\n"
     ]
    }
   ],
   "source": [
    "alien_0 = {'color':'green','points':'5'}\n",
    "\n",
    "new_points = alien_0['points']\n",
    "print(f'your new points is {new_points}')\n",
    "print(alien_0)"
   ],
   "metadata": {
    "collapsed": false,
    "pycharm": {
     "name": "#%%\n"
    }
   }
  },
  {
   "cell_type": "code",
   "execution_count": 25,
   "outputs": [
    {
     "name": "stdout",
     "output_type": "stream",
     "text": [
      "{'tag': 'new', 'points': '65'}\n"
     ]
    }
   ],
   "source": [
    "alien_0 = {}\n",
    "alien_0['tag'] = 'new'\n",
    "alien_0['points'] = '65'\n",
    "\n",
    "print(alien_0\n",
    "      )"
   ],
   "metadata": {
    "collapsed": false,
    "pycharm": {
     "name": "#%%\n"
    }
   }
  },
  {
   "cell_type": "code",
   "execution_count": 26,
   "outputs": [
    {
     "name": "stdout",
     "output_type": "stream",
     "text": [
      "{'tag': 'new', 'points': '65'}\n",
      "{'tag': 'new', 'points': '65', 'x axis': 23, 'y axis': 45}\n"
     ]
    }
   ],
   "source": [
    "print(alien_0)\n",
    "\n",
    "alien_0['x axis'] = 23\n",
    "alien_0['y axis'] = 45\n",
    "\n",
    "print(alien_0)"
   ],
   "metadata": {
    "collapsed": false,
    "pycharm": {
     "name": "#%%\n"
    }
   }
  },
  {
   "cell_type": "code",
   "execution_count": 27,
   "outputs": [
    {
     "name": "stdout",
     "output_type": "stream",
     "text": [
      "23\n",
      "ew position : 26\n"
     ]
    }
   ],
   "source": [
    "alien_0['speed']= 'fast'\n",
    "\n",
    "#move the alien to right\n",
    "#determine how far to move alien based on its current speecdx\n",
    "print(alien_0['x axis'])\n",
    "if alien_0['speed'] =='slow':\n",
    "    x_increment = 1\n",
    "elif alien_0['speed'] =='medium':\n",
    "    x_increment = 2\n",
    "else :\n",
    "    # this must be fast alien\n",
    "    x_increment = 3\n",
    "\n",
    "#the new position is the old position plus the increment\n",
    "\n",
    "alien_0['x axis'] = alien_0['x axis']+x_increment\n",
    "\n",
    "\n",
    "print(f\"ew position : {alien_0['x axis']}\")"
   ],
   "metadata": {
    "collapsed": false,
    "pycharm": {
     "name": "#%%\n"
    }
   }
  },
  {
   "cell_type": "code",
   "execution_count": 28,
   "outputs": [
    {
     "name": "stdout",
     "output_type": "stream",
     "text": [
      "{'tag': 'new', 'points': '65', 'x axis': 26, 'y axis': 45, 'speed': 'fast'}\n",
      "{'tag': 'new', 'points': '65', 'x axis': 26, 'y axis': 45}\n"
     ]
    }
   ],
   "source": [
    "print(alien_0)\n",
    "del alien_0['speed']\n",
    "print(alien_0)"
   ],
   "metadata": {
    "collapsed": false,
    "pycharm": {
     "name": "#%%\n"
    }
   }
  },
  {
   "cell_type": "code",
   "execution_count": 29,
   "outputs": [
    {
     "name": "stdout",
     "output_type": "stream",
     "text": [
      "{'tag': 'new', 'points': '65', 'x axis': 26, 'y axis': 45}\n",
      "no speed value found\n",
      "65\n"
     ]
    }
   ],
   "source": [
    "print(alien_0)\n",
    "\n",
    "speed_value = alien_0.get('speed','no speed value found')\n",
    "# the secound vale is the conduton to print if the first condititon is not found\n",
    "points_valus = alien_0.get('points','no points found')\n",
    "print(speed_value)\n",
    "print(points_valus)"
   ],
   "metadata": {
    "collapsed": false,
    "pycharm": {
     "name": "#%%\n"
    }
   }
  },
  {
   "cell_type": "code",
   "execution_count": 30,
   "outputs": [
    {
     "name": "stdout",
     "output_type": "stream",
     "text": [
      "--------------------------try it yourself----------------------\n",
      "-----------6-1-----------\n",
      "hello rahil\n",
      "-----------------------6-2-------------------------------\n",
      "1 is \n",
      "{'one': 1, 'two': 2, 'three': 3, 'four': 4, 'five': 5}id 2\n"
     ]
    }
   ],
   "source": [
    "print('--------------------------try it yourself----------------------')\n",
    "print('-----------6-1-----------')\n",
    "\n",
    "person_data = {}\n",
    "\n",
    "person_data['name'] = 'rahil'\n",
    "person_data['age'] = 20\n",
    "person_data['city'] = 'mumbai'\n",
    "\n",
    "print(f\"hello {person_data['name'] }\")\n",
    "\n",
    "print('-----------------------6-2-------------------------------')\n",
    "d = {}\n",
    "d['one'] = 1\n",
    "d['two'] = 2\n",
    "d['three'] = 3\n",
    "d['four']  = 4\n",
    "d['five'] = 5\n",
    "\n",
    "print(f\"{d['one'] } is \")\n",
    "print(f\"{d}id {d['two']}\")\n"
   ],
   "metadata": {
    "collapsed": false,
    "pycharm": {
     "name": "#%%\n"
    }
   }
  },
  {
   "cell_type": "code",
   "execution_count": 31,
   "outputs": [],
   "source": [
    "user_0 = {\n",
    "    'username':'efermi',\n",
    "    'first':'enrico',\n",
    "    'last': 'fermi'\n",
    "}\n"
   ],
   "metadata": {
    "collapsed": false,
    "pycharm": {
     "name": "#%%\n"
    }
   }
  },
  {
   "cell_type": "code",
   "execution_count": 32,
   "outputs": [
    {
     "name": "stdout",
     "output_type": "stream",
     "text": [
      "\n",
      "key: username\n",
      "value: efermi\n",
      "\n",
      "key: first\n",
      "value: enrico\n",
      "\n",
      "key: last\n",
      "value: fermi\n"
     ]
    }
   ],
   "source": [
    "for key, value in user_0.items():\n",
    "    print(f'\\nkey: {key}')\n",
    "    print(f'value: {value}')"
   ],
   "metadata": {
    "collapsed": false,
    "pycharm": {
     "name": "#%%\n"
    }
   }
  },
  {
   "cell_type": "code",
   "execution_count": 33,
   "outputs": [
    {
     "name": "stdout",
     "output_type": "stream",
     "text": [
      "Rahil's faviourite language is Python\n",
      "Ronak's faviourite language is Java\n",
      "Jay's faviourite language is C\n",
      "Harmu's faviourite language is C++\n"
     ]
    }
   ],
   "source": [
    "faviourite_language = {\n",
    "    'Rahil':'python',\n",
    "    'ronak':'java',\n",
    "    'jay':'c',\n",
    "    'harmu':'c++'\n",
    "}\n",
    "\n",
    "for name , language in faviourite_language.items():\n",
    "    print(f\"{name.title()}'s faviourite language is {language.title()}\")"
   ],
   "metadata": {
    "collapsed": false,
    "pycharm": {
     "name": "#%%\n"
    }
   }
  },
  {
   "cell_type": "code",
   "execution_count": 34,
   "outputs": [
    {
     "name": "stdout",
     "output_type": "stream",
     "text": [
      "Rahil\n",
      "Ronak\n",
      "Jay\n",
      "Harmu\n"
     ]
    }
   ],
   "source": [
    "for name in faviourite_language:\n",
    "    print(name.title())"
   ],
   "metadata": {
    "collapsed": false,
    "pycharm": {
     "name": "#%%\n"
    }
   }
  },
  {
   "cell_type": "code",
   "execution_count": 37,
   "outputs": [
    {
     "name": "stdout",
     "output_type": "stream",
     "text": [
      "Rahil\n",
      "Ronak\n",
      "Jay\n",
      "Harmu\n",
      "\tHarmu, i see you love c++\n"
     ]
    }
   ],
   "source": [
    "friends = ['harmu','jay']\n",
    "for name in faviourite_language:\n",
    "    print(name.title())\n",
    "\n",
    "if name in friends:\n",
    "    print(f\"\\t{name.title()}, i see you love {language}\")"
   ],
   "metadata": {
    "collapsed": false,
    "pycharm": {
     "name": "#%%\n"
    }
   }
  }
 ],
 "metadata": {
  "kernelspec": {
   "display_name": "Python 3",
   "language": "python",
   "name": "python3"
  },
  "language_info": {
   "codemirror_mode": {
    "name": "ipython",
    "version": 2
   },
   "file_extension": ".py",
   "mimetype": "text/x-python",
   "name": "python",
   "nbconvert_exporter": "python",
   "pygments_lexer": "ipython2",
   "version": "2.7.6"
  }
 },
 "nbformat": 4,
 "nbformat_minor": 0
}