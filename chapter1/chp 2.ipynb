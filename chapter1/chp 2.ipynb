{
 "cells": [
  {
   "cell_type": "code",
   "execution_count": 20,
   "metadata": {},
   "outputs": [
    {
     "data": {
      "text/plain": "'heloow '"
     },
     "execution_count": 20,
     "metadata": {},
     "output_type": "execute_result"
    }
   ],
   "source": [
    "'''heloow '''"
   ]
  },
  {
   "cell_type": "code",
   "execution_count": 21,
   "outputs": [
    {
     "name": "stdout",
     "output_type": "stream",
     "text": [
      "hello world\n"
     ]
    }
   ],
   "source": [
    "print(\"hello world\")\n"
   ],
   "metadata": {
    "collapsed": false,
    "pycharm": {
     "name": "#%%\n"
    }
   }
  },
  {
   "cell_type": "code",
   "execution_count": 22,
   "outputs": [
    {
     "name": "stdout",
     "output_type": "stream",
     "text": [
      "this is my 2nd chapter \n"
     ]
    }
   ],
   "source": [
    "message = 'this is my 2nd chapter '\n",
    "print(message)\n",
    "\n"
   ],
   "metadata": {
    "collapsed": false,
    "pycharm": {
     "name": "#%%\n"
    }
   }
  },
  {
   "cell_type": "code",
   "execution_count": 23,
   "outputs": [
    {
     "name": "stdout",
     "output_type": "stream",
     "text": [
      "this is my 2nd chapter\n",
      "i have completed try \"it your self\" of the 2 nd chapter \n"
     ]
    }
   ],
   "source": [
    "pritable_message = 'this is my 2nd chapter'\n",
    "print(pritable_message)\n",
    "\n",
    "pritable_message = 'i have completed try \"it your self\" of the 2 nd chapter '\n",
    "print(pritable_message)\n"
   ],
   "metadata": {
    "collapsed": false,
    "pycharm": {
     "name": "#%%\n"
    }
   }
  },
  {
   "cell_type": "code",
   "execution_count": 24,
   "outputs": [
    {
     "name": "stdout",
     "output_type": "stream",
     "text": [
      "Rahil Mehta\n",
      "RAHIL MEHTA\n",
      "rahil mehta\n"
     ]
    }
   ],
   "source": [
    "name = 'rahil mehta'\n",
    "print(name.title())\n",
    "print(name.upper())\n",
    "print(name.lower())"
   ],
   "metadata": {
    "collapsed": false,
    "pycharm": {
     "name": "#%%\n"
    }
   }
  },
  {
   "cell_type": "code",
   "execution_count": 25,
   "outputs": [
    {
     "name": "stdout",
     "output_type": "stream",
     "text": [
      "Rahil.P.Mehta\n"
     ]
    }
   ],
   "source": [
    "#using variable as sting\n",
    "firt_name = 'Rahil'\n",
    "last_name = 'mehta'\n",
    "full_name = f'{firt_name}.p.{last_name}'\n",
    "print(full_name.title())"
   ],
   "metadata": {
    "collapsed": false,
    "pycharm": {
     "name": "#%%]\n"
    }
   }
  },
  {
   "cell_type": "code",
   "execution_count": 26,
   "outputs": [
    {
     "name": "stdout",
     "output_type": "stream",
     "text": [
      "Rahil mehta\n"
     ]
    }
   ],
   "source": [
    "#\n",
    "full_name = '{} {}'.format(firt_name,last_name)\n",
    "print(full_name)"
   ],
   "metadata": {
    "collapsed": false,
    "pycharm": {
     "name": "#%%\n"
    }
   }
  },
  {
   "cell_type": "code",
   "execution_count": 27,
   "outputs": [
    {
     "name": "stdout",
     "output_type": "stream",
     "text": [
      "git show\n",
      "\t git auto \n",
      " \t git pull\n"
     ]
    }
   ],
   "source": [
    "print('git show' )\n",
    "\n",
    "print('\\t git auto \\n \\t git pull')"
   ],
   "metadata": {
    "collapsed": false,
    "pycharm": {
     "name": "#%%\n"
    }
   }
  },
  {
   "cell_type": "code",
   "execution_count": 9,
   "outputs": [
    {
     "name": "stdout",
     "output_type": "stream",
     "text": [
      " python \n",
      "python\n",
      "python \n",
      " python\n",
      "python\n"
     ]
    }
   ],
   "source": [
    "    #white space\n",
    "\n",
    "favorite_lang = ' python '\n",
    "print(favorite_lang)\n",
    "\n",
    "    #removing white space from both side\n",
    "print(favorite_lang.strip())\n",
    "\n",
    "    #removing white space from lft side\n",
    "print(favorite_lang.lstrip())\n",
    "\n",
    "    #removinfg white space from right side\n",
    "print(favorite_lang.rstrip())\n",
    "\n",
    "    #permantenly removing white space\n",
    "favorite_lang = favorite_lang.strip()\n",
    "\n",
    "print(favorite_lang)"
   ],
   "metadata": {
    "collapsed": false,
    "pycharm": {
     "name": "#%%\n"
    }
   }
  },
  {
   "cell_type": "code",
   "execution_count": 12,
   "outputs": [
    {
     "name": "stdout",
     "output_type": "stream",
     "text": [
      " one of the python's strength is the diverse community  \n"
     ]
    },
    {
     "data": {
      "text/plain": "\"faulty_message = 'one of the python's strength is the diverse community ''\\nprint(faulty_message)\""
     },
     "execution_count": 12,
     "metadata": {},
     "output_type": "execute_result"
    }
   ],
   "source": [
    "# avoding syntax error\n",
    "\n",
    "message = \" one of the python's strength is the diverse community  \"\n",
    "print(message)\n",
    "\n",
    "#by running the code below you will get synatx error so rememebr will using the apostrophy always use double quotation\n",
    "\n",
    "'''faulty_message = 'one of the python's strength is the diverse community ''\n",
    "print(faulty_message)'''"
   ],
   "metadata": {
    "collapsed": false,
    "pycharm": {
     "name": "#%%\n"
    }
   }
  },
  {
   "cell_type": "code",
   "execution_count": 20,
   "outputs": [
    {
     "name": "stdout",
     "output_type": "stream",
     "text": [
      "hello RAHIL MEHTA would you like to larn some python today \n"
     ]
    }
   ],
   "source": [
    "'''------2nd  Try it yourself-----'''\n",
    "'''q1'''\n",
    "name = 'rahil Mehta'\n",
    "print(\"hello\" , name.upper() ,\"would you like to larn some python today \" )\n",
    "'''q2'''\n",
    "print(name.upper())\n",
    "print(name.lower())\n",
    "print(name.title())\n",
    "'''q3'''"
   ],
   "metadata": {
    "collapsed": false,
    "pycharm": {
     "name": "#%%\n"
    }
   }
  },
  {
   "cell_type": "code",
   "execution_count": 12,
   "outputs": [],
   "source": [],
   "metadata": {
    "collapsed": false,
    "pycharm": {
     "name": "#%%\n"
    }
   }
  },
  {
   "cell_type": "code",
   "execution_count": null,
   "outputs": [],
   "source": [],
   "metadata": {
    "collapsed": false,
    "pycharm": {
     "name": "#%%\n"
    }
   }
  }
 ],
 "metadata": {
  "kernelspec": {
   "name": "pycharm-1bce1623",
   "language": "python",
   "display_name": "PyCharm (chapter1)"
  },
  "language_info": {
   "codemirror_mode": {
    "name": "ipython",
    "version": 3
   },
   "file_extension": ".py",
   "mimetype": "text/x-python",
   "name": "python",
   "nbconvert_exporter": "python",
   "pygments_lexer": "ipython3",
   "version": "3.7.6"
  }
 },
 "nbformat": 4,
 "nbformat_minor": 4
}